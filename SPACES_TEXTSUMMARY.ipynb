{
  "nbformat": 4,
  "nbformat_minor": 0,
  "metadata": {
    "accelerator": "GPU",
    "colab": {
      "name": "SPACES_TEXTSUMMARY.ipynb",
      "provenance": [],
      "collapsed_sections": [],
      "machine_shape": "hm"
    },
    "kernelspec": {
      "display_name": "Python 3",
      "name": "python3"
    },
    "language_info": {
      "name": "python"
    }
  },
  "cells": [
    {
      "cell_type": "markdown",
      "metadata": {
        "id": "pj7qdgHDuOOR"
      },
      "source": [
        "**https://github.com/bojone/SPACES**"
      ]
    },
    {
      "cell_type": "code",
      "metadata": {
        "colab": {
          "base_uri": "https://localhost:8080/"
        },
        "id": "5X5l6vzbaveB",
        "outputId": "846415fc-a7e2-4cb2-cae3-a30bb8f820d2"
      },
      "source": [
        "# ! git clone https://github.com/bojone/SPACES.git\n",
        "! git clone https://github.com/dlxj/SPACES.git"
      ],
      "execution_count": null,
      "outputs": [
        {
          "output_type": "stream",
          "text": [
            "Cloning into 'SPACES'...\n",
            "remote: Enumerating objects: 119, done.\u001b[K\n",
            "remote: Counting objects: 100% (119/119), done.\u001b[K\n",
            "remote: Compressing objects: 100% (90/90), done.\u001b[K\n",
            "remote: Total 119 (delta 52), reused 90 (delta 27), pack-reused 0\u001b[K\n",
            "Receiving objects: 100% (119/119), 30.19 MiB | 7.95 MiB/s, done.\n",
            "Resolving deltas: 100% (52/52), done.\n"
          ],
          "name": "stdout"
        }
      ]
    },
    {
      "cell_type": "code",
      "metadata": {
        "colab": {
          "base_uri": "https://localhost:8080/"
        },
        "id": "Fi0oSfOQKnTF",
        "outputId": "492b1359-255a-4599-ba3d-cf408c4dc282"
      },
      "source": [
        "! unzip ./SPACES/datasets.zip -d ./SPACES"
      ],
      "execution_count": null,
      "outputs": [
        {
          "output_type": "stream",
          "text": [
            "Archive:  ./SPACES/datasets.zip\n",
            "   creating: ./SPACES/datasets/\n",
            "  inflating: ./SPACES/datasets/README.md  \n",
            "  inflating: ./SPACES/datasets/train_origin.json  \n",
            "  inflating: ./SPACES/datasets/train_tiny.json  \n",
            "  inflating: ./SPACES/datasets/user_dict.txt  \n",
            "  inflating: ./SPACES/datasets/user_dict_2.txt  \n"
          ],
          "name": "stdout"
        }
      ]
    },
    {
      "cell_type": "code",
      "metadata": {
        "id": "VXt6JHSuWoKA"
      },
      "source": [
        "! python ./SPACES/split_dataset.py"
      ],
      "execution_count": null,
      "outputs": []
    },
    {
      "cell_type": "code",
      "metadata": {
        "colab": {
          "base_uri": "https://localhost:8080/"
        },
        "id": "Z5uPN2AMeS6R",
        "outputId": "08393a55-e042-46cb-c3ba-ff855741ecdf"
      },
      "source": [
        "from google.colab import drive\n",
        "drive.mount('/content/gdrive')\n",
        "! gdown --id '1jMAKIJmPn7kADgD3yQZhpsqM-IRM1qZt' #--output data.zip\n",
        "! gdown --id '1k-dz9n-HPzUC_X1SPOB9HD2m9pV_g5Fv'\n",
        "! unzip ./chinese_roberta_wwm_ext_L-12_H-768_A-12.zip -d ./chinese_roberta_wwm_ext_L-12_H-768_A-12\n",
        "! unzip ./NEZHA-Base.zip"
      ],
      "execution_count": null,
      "outputs": [
        {
          "output_type": "stream",
          "text": [
            "Mounted at /content/gdrive\n",
            "Downloading...\n",
            "From: https://drive.google.com/uc?id=1jMAKIJmPn7kADgD3yQZhpsqM-IRM1qZt\n",
            "To: /content/chinese_roberta_wwm_ext_L-12_H-768_A-12.zip\n",
            "382MB [00:03, 99.9MB/s]\n",
            "Downloading...\n",
            "From: https://drive.google.com/uc?id=1k-dz9n-HPzUC_X1SPOB9HD2m9pV_g5Fv\n",
            "To: /content/NEZHA-Base.zip\n",
            "1.12GB [00:13, 83.1MB/s]\n",
            "Archive:  ./chinese_roberta_wwm_ext_L-12_H-768_A-12.zip\n",
            "  inflating: ./chinese_roberta_wwm_ext_L-12_H-768_A-12/bert_config.json  \n",
            "  inflating: ./chinese_roberta_wwm_ext_L-12_H-768_A-12/bert_model.ckpt.data-00000-of-00001  \n",
            "  inflating: ./chinese_roberta_wwm_ext_L-12_H-768_A-12/bert_model.ckpt.index  \n",
            "  inflating: ./chinese_roberta_wwm_ext_L-12_H-768_A-12/bert_model.ckpt.meta  \n",
            "  inflating: ./chinese_roberta_wwm_ext_L-12_H-768_A-12/vocab.txt  \n",
            "Archive:  ./NEZHA-Base.zip\n",
            "   creating: NEZHA-Base/\n",
            "  inflating: NEZHA-Base/bert_config.json  \n",
            "  inflating: NEZHA-Base/model.ckpt-900000.data-00000-of-00001  \n",
            "  inflating: NEZHA-Base/model.ckpt-900000.index  \n",
            "  inflating: NEZHA-Base/model.ckpt-900000.meta  \n",
            "  inflating: NEZHA-Base/vocab.txt    \n"
          ],
          "name": "stdout"
        }
      ]
    },
    {
      "cell_type": "code",
      "metadata": {
        "colab": {
          "base_uri": "https://localhost:8080/"
        },
        "id": "7YNCShnCew1u",
        "outputId": "52ebd2a9-d966-4b8c-9544-e9cb37ed56d2"
      },
      "source": [
        "! pip install bert4keras==0.9.7\n",
        "! pip install keras==2.3.1\n",
        "! pip install rouge jieba"
      ],
      "execution_count": null,
      "outputs": [
        {
          "output_type": "stream",
          "text": [
            "Collecting bert4keras==0.9.7\n",
            "\u001b[?25l  Downloading https://files.pythonhosted.org/packages/38/bd/acb933644c7c205a487f2982e073a16553db3428b8fa903bd74151931000/bert4keras-0.9.7.tar.gz (45kB)\n",
            "\u001b[K     |████████████████████████████████| 51kB 5.7MB/s \n",
            "\u001b[?25hCollecting keras<=2.3.1\n",
            "\u001b[?25l  Downloading https://files.pythonhosted.org/packages/ad/fd/6bfe87920d7f4fd475acd28500a42482b6b84479832bdc0fe9e589a60ceb/Keras-2.3.1-py2.py3-none-any.whl (377kB)\n",
            "\u001b[K     |████████████████████████████████| 378kB 19.6MB/s \n",
            "\u001b[?25hRequirement already satisfied: scipy>=0.14 in /usr/local/lib/python3.7/dist-packages (from keras<=2.3.1->bert4keras==0.9.7) (1.4.1)\n",
            "Requirement already satisfied: six>=1.9.0 in /usr/local/lib/python3.7/dist-packages (from keras<=2.3.1->bert4keras==0.9.7) (1.15.0)\n",
            "Requirement already satisfied: h5py in /usr/local/lib/python3.7/dist-packages (from keras<=2.3.1->bert4keras==0.9.7) (2.10.0)\n",
            "Collecting keras-applications>=1.0.6\n",
            "\u001b[?25l  Downloading https://files.pythonhosted.org/packages/71/e3/19762fdfc62877ae9102edf6342d71b28fbfd9dea3d2f96a882ce099b03f/Keras_Applications-1.0.8-py3-none-any.whl (50kB)\n",
            "\u001b[K     |████████████████████████████████| 51kB 9.2MB/s \n",
            "\u001b[?25hRequirement already satisfied: keras-preprocessing>=1.0.5 in /usr/local/lib/python3.7/dist-packages (from keras<=2.3.1->bert4keras==0.9.7) (1.1.2)\n",
            "Requirement already satisfied: numpy>=1.9.1 in /usr/local/lib/python3.7/dist-packages (from keras<=2.3.1->bert4keras==0.9.7) (1.19.5)\n",
            "Requirement already satisfied: pyyaml in /usr/local/lib/python3.7/dist-packages (from keras<=2.3.1->bert4keras==0.9.7) (3.13)\n",
            "Building wheels for collected packages: bert4keras\n",
            "  Building wheel for bert4keras (setup.py) ... \u001b[?25l\u001b[?25hdone\n",
            "  Created wheel for bert4keras: filename=bert4keras-0.9.7-cp37-none-any.whl size=43299 sha256=600bf7247abde5ddda1dff850dd326e44501b7eb5c24ba57434d37d2bd06251d\n",
            "  Stored in directory: /root/.cache/pip/wheels/71/7b/06/4b4bca2005cfccd3a157cb012d1f91a83c252442c9358c238c\n",
            "Successfully built bert4keras\n",
            "Installing collected packages: keras-applications, keras, bert4keras\n",
            "  Found existing installation: Keras 2.4.3\n",
            "    Uninstalling Keras-2.4.3:\n",
            "      Successfully uninstalled Keras-2.4.3\n",
            "Successfully installed bert4keras-0.9.7 keras-2.3.1 keras-applications-1.0.8\n",
            "Requirement already satisfied: keras==2.3.1 in /usr/local/lib/python3.7/dist-packages (2.3.1)\n",
            "Requirement already satisfied: six>=1.9.0 in /usr/local/lib/python3.7/dist-packages (from keras==2.3.1) (1.15.0)\n",
            "Requirement already satisfied: scipy>=0.14 in /usr/local/lib/python3.7/dist-packages (from keras==2.3.1) (1.4.1)\n",
            "Requirement already satisfied: keras-applications>=1.0.6 in /usr/local/lib/python3.7/dist-packages (from keras==2.3.1) (1.0.8)\n",
            "Requirement already satisfied: numpy>=1.9.1 in /usr/local/lib/python3.7/dist-packages (from keras==2.3.1) (1.19.5)\n",
            "Requirement already satisfied: keras-preprocessing>=1.0.5 in /usr/local/lib/python3.7/dist-packages (from keras==2.3.1) (1.1.2)\n",
            "Requirement already satisfied: pyyaml in /usr/local/lib/python3.7/dist-packages (from keras==2.3.1) (3.13)\n",
            "Requirement already satisfied: h5py in /usr/local/lib/python3.7/dist-packages (from keras==2.3.1) (2.10.0)\n",
            "Collecting rouge\n",
            "  Downloading https://files.pythonhosted.org/packages/43/cc/e18e33be20971ff73a056ebdb023476b5a545e744e3fc22acd8c758f1e0d/rouge-1.0.0-py3-none-any.whl\n",
            "Requirement already satisfied: jieba in /usr/local/lib/python3.7/dist-packages (0.42.1)\n",
            "Requirement already satisfied: six in /usr/local/lib/python3.7/dist-packages (from rouge) (1.15.0)\n",
            "Installing collected packages: rouge\n",
            "Successfully installed rouge-1.0.0\n"
          ],
          "name": "stdout"
        }
      ]
    },
    {
      "cell_type": "code",
      "metadata": {
        "colab": {
          "base_uri": "https://localhost:8080/"
        },
        "id": "V3jWI3YjtoJU",
        "outputId": "d5546adb-b1e3-43ef-f6f6-de91cc751c17"
      },
      "source": [
        "import os\n",
        "#os.environ[\"TF_KERAS\"] = '1'  # 关键配置，出错的时侯切换试试\n",
        "%tensorflow_version 1.14"
      ],
      "execution_count": null,
      "outputs": [
        {
          "output_type": "stream",
          "text": [
            "`%tensorflow_version` only switches the major version: 1.x or 2.x.\n",
            "You set: `1.14`. This will be interpreted as: `1.x`.\n",
            "\n",
            "\n",
            "TensorFlow 1.x selected.\n"
          ],
          "name": "stdout"
        }
      ]
    },
    {
      "cell_type": "code",
      "metadata": {
        "colab": {
          "base_uri": "https://localhost:8080/"
        },
        "id": "1r12-slJxNmr",
        "outputId": "f447c5d4-a2a5-4df2-830a-f199aef675bb"
      },
      "source": [
        "#! -*- coding: utf-8 -*-\n",
        "# 法研杯2020 司法摘要\n",
        "# 工具代码合集\n",
        "# 注：最好写绝对路径，否则可能出现无法预料的错误。\n",
        "# 科学空间：https://kexue.fm\n",
        "\n",
        "import numpy as np\n",
        "from rouge import Rouge\n",
        "import os, sys\n",
        "import jieba\n",
        "from bert4keras.snippets import open\n",
        "\n",
        "# 自定义词典\n",
        "user_dict_path = './SPACES/datasets/user_dict.txt'\n",
        "user_dict_path_2 = './SPACES/datasets/user_dict_2.txt'\n",
        "jieba.load_userdict(user_dict_path)\n",
        "jieba.initialize()\n",
        "\n",
        "# 设置递归深度\n",
        "sys.setrecursionlimit(1000000)\n",
        "\n",
        "# 标注数据\n",
        "data_json = './SPACES/datasets/train.json'\n",
        "\n",
        "# 保存权重的文件夹\n",
        "if not os.path.exists('weights'):\n",
        "    os.mkdir('weights')\n",
        "\n",
        "# bert配置\n",
        "config_path = './chinese_roberta_wwm_ext_L-12_H-768_A-12/bert_config.json' # './BERT/chinese_roberta_wwm_ext_L-12_H-768_A-12/bert_config.json'\n",
        "checkpoint_path = './chinese_roberta_wwm_ext_L-12_H-768_A-12/bert_model.ckpt'\n",
        "dict_path = './chinese_roberta_wwm_ext_L-12_H-768_A-12/vocab.txt'\n",
        "\n",
        "# nezha配置\n",
        "nezha_config_path = './NEZHA-Base/bert_config.json'\n",
        "nezha_checkpoint_path = './NEZHA-Base/model.ckpt-900000'\n",
        "nezha_dict_path = './NEZHA-Base/vocab.txt'\n",
        "\n",
        "# 将数据划分N份，一份作为验证集\n",
        "# import pdb; pdb.set_trace();\n",
        "num_folds = 15\n",
        "\n",
        "# 指标名\n",
        "metric_keys = ['main', 'rouge-1', 'rouge-2', 'rouge-l']\n",
        "\n",
        "# 计算rouge用\n",
        "rouge = Rouge()\n",
        "\n",
        "\n",
        "def load_user_dict(filename):\n",
        "    \"\"\"加载用户词典\n",
        "    \"\"\"\n",
        "    user_dict = []\n",
        "    with open(filename, encoding='utf-8') as f:\n",
        "        for l in f:\n",
        "            w = l.split()[0]\n",
        "            user_dict.append(w)\n",
        "    return user_dict\n",
        "\n",
        "\n",
        "def data_split(data, fold, num_folds, mode):\n",
        "    \"\"\"划分训练集和验证集\n",
        "    \"\"\"\n",
        "    if mode == 'train':\n",
        "        D = [d for i, d in enumerate(data) if i % num_folds != fold]\n",
        "    else:\n",
        "        D = [d for i, d in enumerate(data) if i % num_folds == fold]\n",
        "\n",
        "    if isinstance(data, np.ndarray):\n",
        "        return np.array(D)\n",
        "    else:\n",
        "        return D\n",
        "\n",
        "\n",
        "def compute_rouge(source, target, unit='word'):\n",
        "    \"\"\"计算rouge-1、rouge-2、rouge-l\n",
        "    \"\"\"\n",
        "    if unit == 'word':\n",
        "        source = jieba.cut(source, HMM=False)\n",
        "        target = jieba.cut(target, HMM=False)\n",
        "    source, target = ' '.join(source), ' '.join(target)\n",
        "    try:\n",
        "        scores = rouge.get_scores(hyps=source, refs=target)\n",
        "        return {\n",
        "            'rouge-1': scores[0]['rouge-1']['f'],\n",
        "            'rouge-2': scores[0]['rouge-2']['f'],\n",
        "            'rouge-l': scores[0]['rouge-l']['f'],\n",
        "        }\n",
        "    except ValueError:\n",
        "        return {\n",
        "            'rouge-1': 0.0,\n",
        "            'rouge-2': 0.0,\n",
        "            'rouge-l': 0.0,\n",
        "        }\n",
        "\n",
        "\n",
        "def compute_metrics(source, target, unit='word'):\n",
        "    \"\"\"计算所有metrics\n",
        "    \"\"\"\n",
        "    metrics = compute_rouge(source, target, unit)\n",
        "    metrics['main'] = (\n",
        "        metrics['rouge-1'] * 0.2 + metrics['rouge-2'] * 0.4 +\n",
        "        metrics['rouge-l'] * 0.4\n",
        "    )\n",
        "    return metrics\n",
        "\n",
        "\n",
        "def compute_main_metric(source, target, unit='word'):\n",
        "    \"\"\"计算主要metric\n",
        "    \"\"\"\n",
        "    return compute_metrics(source, target, unit)['main']\n"
      ],
      "execution_count": null,
      "outputs": [
        {
          "output_type": "stream",
          "text": [
            "Using TensorFlow backend.\n",
            "Building prefix dict from the default dictionary ...\n",
            "Dumping model to file cache /tmp/jieba.cache\n",
            "Loading model cost 0.811 seconds.\n",
            "Prefix dict has been built successfully.\n"
          ],
          "name": "stderr"
        }
      ]
    },
    {
      "cell_type": "code",
      "metadata": {
        "colab": {
          "base_uri": "https://localhost:8080/"
        },
        "id": "wjKoXJeY1eJW",
        "outputId": "98f8104b-4666-4b5e-b8f3-2f381360e1b0"
      },
      "source": [
        "#! -*- coding: utf-8 -*-\n",
        "# 法研杯2020 司法摘要\n",
        "# 抽取式：数据转换\n",
        "# 科学空间：https://kexue.fm\n",
        "\n",
        "import os\n",
        "import json\n",
        "import numpy as np\n",
        "from tqdm import tqdm\n",
        "from bert4keras.snippets import open\n",
        "from bert4keras.snippets import text_segmentate\n",
        "from bert4keras.snippets import parallel_apply\n",
        "#from snippets import *\n",
        "\n",
        "# 初始化\n",
        "maxlen = 256\n",
        "\n",
        "\n",
        "def text_split(text, limited=True):\n",
        "    \"\"\"将长句按照标点分割为多个子句。\n",
        "    \"\"\"\n",
        "    texts = text_segmentate(text, 1, u'\\n。；：，')\n",
        "    if limited:\n",
        "        texts = texts[-maxlen:]\n",
        "    return texts\n",
        "\n",
        "\n",
        "def extract_matching(texts, summaries, start_i=0, start_j=0):\n",
        "    \"\"\"在texts中找若干句子，使得它们连起来与summaries尽可能相似\n",
        "    算法：texts和summaries都分句，然后找出summaries最长的句子，在texts\n",
        "          中找与之最相似的句子作为匹配，剩下部分递归执行。\n",
        "    \"\"\"\n",
        "    if len(texts) == 0 or len(summaries) == 0:\n",
        "        return []\n",
        "    i = np.argmax([len(s) for s in summaries])\n",
        "    j = np.argmax([compute_main_metric(t, summaries[i], 'char') for t in texts])\n",
        "    lm = extract_matching(texts[:j + 1], summaries[:i], start_i, start_j)\n",
        "    rm = extract_matching(\n",
        "        texts[j:], summaries[i + 1:], start_i + i + 1, start_j + j\n",
        "    )\n",
        "    return lm + [(start_i + i, start_j + j)] + rm\n",
        "\n",
        "\n",
        "def extract_flow(inputs):\n",
        "    \"\"\"单个样本的构建流（给parallel_apply用）\n",
        "    \"\"\"\n",
        "    text, summary = inputs\n",
        "    texts = text_split(text, True)  # 取后maxlen句\n",
        "    summaries = text_split(summary, False)\n",
        "    mapping = extract_matching(texts, summaries)\n",
        "    labels = sorted(set([i[1] for i in mapping]))\n",
        "    pred_summary = ''.join([texts[i] for i in labels])\n",
        "    metric = compute_main_metric(pred_summary, summary)\n",
        "    return texts, labels, summary, metric\n",
        "\n",
        "\n",
        "def load_data(filename):\n",
        "    \"\"\"加载数据\n",
        "    返回：[(text, summary)]\n",
        "    \"\"\"\n",
        "    D = []\n",
        "    with open(filename, encoding='utf-8') as f:\n",
        "        for l in f:\n",
        "            l = json.loads(l)\n",
        "            text = '\\n'.join([d['sentence'] for d in l['text']])\n",
        "            D.append((text, l['summary']))\n",
        "    return D\n",
        "\n",
        "\n",
        "def convert(data):\n",
        "    \"\"\"分句，并转换为抽取式摘要\n",
        "    \"\"\"\n",
        "    D = parallel_apply(\n",
        "        func=extract_flow,\n",
        "        iterable=tqdm(data, desc=u'转换数据'),\n",
        "        workers=100,\n",
        "        max_queue_size=200\n",
        "    )\n",
        "    total_metric = sum([d[3] for d in D])\n",
        "    D = [d[:3] for d in D]\n",
        "    print(u'抽取结果的平均指标: %s' % (total_metric / len(D)))\n",
        "    return D\n",
        "\n",
        "\n",
        "if __name__ == '__main__':\n",
        "\n",
        "    data_random_order_json = data_json[:-5] + '_random_order.json'\n",
        "    data_extract_json = data_json[:-5] + '_extract.json'\n",
        "\n",
        "    data = load_data(data_json)\n",
        "    data = convert(data)\n",
        "\n",
        "    if os.path.exists(data_random_order_json):\n",
        "        idxs = json.load(open(data_random_order_json))\n",
        "    else:\n",
        "        idxs = list(range(len(data)))\n",
        "        np.random.shuffle(idxs)\n",
        "        json.dump(idxs, open(data_random_order_json, 'w'))\n",
        "\n",
        "    data = [data[i] for i in idxs]\n",
        "\n",
        "    with open(data_extract_json, 'w', encoding='utf-8') as f:\n",
        "        for d in data:\n",
        "            d = repr(d)\n",
        "            d = eval(d)\n",
        "            f.write(json.dumps(d, ensure_ascii=False) + '\\n')\n",
        "\n",
        "    print(u'输入数据：%s' % data_json)\n",
        "    print(u'数据顺序：%s' % data_random_order_json)\n",
        "    print(u'输出路径：%s' % data_extract_json)"
      ],
      "execution_count": null,
      "outputs": [
        {
          "output_type": "stream",
          "text": [
            "转换数据: 100%|██████████| 1000/1000 [02:45<00:00,  6.03it/s]\n"
          ],
          "name": "stderr"
        },
        {
          "output_type": "stream",
          "text": [
            "抽取结果的平均指标: 0.6326052740062496\n",
            "输入数据：./SPACES/datasets/train.json\n",
            "数据顺序：./SPACES/datasets/train_random_order.json\n",
            "输出路径：./SPACES/datasets/train_extract.json\n"
          ],
          "name": "stdout"
        }
      ]
    },
    {
      "cell_type": "code",
      "metadata": {
        "colab": {
          "base_uri": "https://localhost:8080/"
        },
        "id": "L5eYYiK7WWrd",
        "outputId": "14cf9945-6787-480c-8cad-ab0b6d5c7ae6"
      },
      "source": [
        "#! -*- coding: utf-8 -*-\n",
        "# 法研杯2020 司法摘要\n",
        "# 抽取式：句向量化\n",
        "# 科学空间：https://kexue.fm\n",
        "\n",
        "import json\n",
        "import numpy as np\n",
        "from tqdm import tqdm\n",
        "from bert4keras.backend import keras, K\n",
        "from bert4keras.models import build_transformer_model\n",
        "from bert4keras.tokenizers import Tokenizer\n",
        "from bert4keras.snippets import sequence_padding\n",
        "from keras.models import Model\n",
        "\n",
        "\n",
        "class GlobalAveragePooling1D(keras.layers.GlobalAveragePooling1D):\n",
        "    \"\"\"自定义全局池化\n",
        "    \"\"\"\n",
        "    def call(self, inputs, mask=None):\n",
        "        if mask is not None:\n",
        "            mask = K.cast(mask, K.floatx())[:, :, None]\n",
        "            return K.sum(inputs * mask, axis=1) / K.sum(mask, axis=1)\n",
        "        else:\n",
        "            return K.mean(inputs, axis=1)\n",
        "\n",
        "\n",
        "# 建立分词器\n",
        "tokenizer = Tokenizer(dict_path, do_lower_case=True)\n",
        "\n",
        "# 加载bert模型，补充平均池化\n",
        "encoder = build_transformer_model(\n",
        "    config_path,\n",
        "    checkpoint_path,\n",
        ")\n",
        "output = GlobalAveragePooling1D()(encoder.output)\n",
        "encoder = Model(encoder.inputs, output)\n",
        "\n",
        "\n",
        "def load_data(filename):\n",
        "    \"\"\"加载数据\n",
        "    返回：[texts]\n",
        "    \"\"\"\n",
        "    D = []\n",
        "    with open(filename) as f:\n",
        "        for l in f:\n",
        "            texts = json.loads(l)[0]\n",
        "            D.append(texts)\n",
        "    return D\n",
        "\n",
        "\n",
        "def vectorize_predict(texts):\n",
        "    \"\"\"句子列表转换为句向量\n",
        "    \"\"\"\n",
        "    batch_token_ids, batch_segment_ids = [], []\n",
        "    for text in texts:\n",
        "        token_ids, segment_ids = tokenizer.encode(text, maxlen=512)\n",
        "        batch_token_ids.append(token_ids)\n",
        "        batch_segment_ids.append(segment_ids)\n",
        "    batch_token_ids = sequence_padding(batch_token_ids)\n",
        "    batch_segment_ids = sequence_padding(batch_segment_ids)\n",
        "    outputs = encoder.predict([batch_token_ids, batch_segment_ids])\n",
        "    return outputs\n",
        "\n",
        "\n",
        "def convert(data):\n",
        "    \"\"\"转换所有样本\n",
        "    \"\"\"\n",
        "    embeddings = []\n",
        "    for texts in tqdm(data, desc=u'向量化'):\n",
        "        outputs = vectorize_predict(texts)\n",
        "        embeddings.append(outputs)\n",
        "    embeddings = sequence_padding(embeddings)\n",
        "    return embeddings\n",
        "\n",
        "\n",
        "if __name__ == '__main__':\n",
        "\n",
        "    data_extract_json = data_json[:-5] + '_extract.json'\n",
        "    data_extract_npy = data_json[:-5] + '_extract'\n",
        "\n",
        "    data = load_data(data_extract_json)\n",
        "    embeddings = convert(data)\n",
        "    np.save(data_extract_npy, embeddings)\n",
        "    print(u'输出路径：%s.npy' % data_extract_npy)\n"
      ],
      "execution_count": null,
      "outputs": [
        {
          "output_type": "stream",
          "text": [
            "WARNING:tensorflow:From /tensorflow-1.15.2/python3.7/tensorflow_core/python/ops/resource_variable_ops.py:1630: calling BaseResourceVariable.__init__ (from tensorflow.python.ops.resource_variable_ops) with constraint is deprecated and will be removed in a future version.\n",
            "Instructions for updating:\n",
            "If using Keras pass *_constraint arguments to layers.\n"
          ],
          "name": "stdout"
        },
        {
          "output_type": "stream",
          "text": [
            "\r向量化:   0%|          | 0/1000 [00:00<?, ?it/s]"
          ],
          "name": "stderr"
        },
        {
          "output_type": "stream",
          "text": [
            "WARNING:tensorflow:From /tensorflow-1.15.2/python3.7/keras/backend/tensorflow_backend.py:422: The name tf.global_variables is deprecated. Please use tf.compat.v1.global_variables instead.\n",
            "\n"
          ],
          "name": "stdout"
        },
        {
          "output_type": "stream",
          "text": [
            "向量化: 100%|██████████| 1000/1000 [08:25<00:00,  1.98it/s]\n"
          ],
          "name": "stderr"
        },
        {
          "output_type": "stream",
          "text": [
            "输出路径：./SPACES/datasets/train_extract.npy\n"
          ],
          "name": "stdout"
        }
      ]
    },
    {
      "cell_type": "code",
      "metadata": {
        "colab": {
          "base_uri": "https://localhost:8080/"
        },
        "id": "65nXwcYsxjtE",
        "outputId": "cb25e53c-8067-46d2-c31b-5e98a00ff674"
      },
      "source": [
        "#! -*- coding: utf-8 -*-\n",
        "# 法研杯2020 司法摘要\n",
        "# 抽取式：主要模型\n",
        "# 科学空间：https://kexue.fm\n",
        "\n",
        "import json\n",
        "import numpy as np\n",
        "from tqdm import tqdm\n",
        "from bert4keras.backend import keras, K\n",
        "from bert4keras.layers import LayerNormalization\n",
        "from bert4keras.optimizers import Adam\n",
        "from bert4keras.snippets import open\n",
        "from keras.layers import *\n",
        "from keras.models import Model\n",
        "\n",
        "# 配置信息\n",
        "input_size = 768\n",
        "hidden_size = 384\n",
        "epochs = 20\n",
        "batch_size = 64\n",
        "threshold = 0.2\n",
        "data_extract_json = data_json[:-5] + '_extract.json'\n",
        "data_extract_npy = data_json[:-5] + '_extract.npy'\n",
        "\n",
        "if len(sys.argv) == 1:\n",
        "    fold = 0\n",
        "else:\n",
        "    fold = 0 # int(sys.argv[1])\n",
        "\n",
        "\n",
        "def load_data(filename):\n",
        "    \"\"\"加载数据\n",
        "    返回：[(texts, labels, summary)]\n",
        "    \"\"\"\n",
        "    D = []\n",
        "    with open(filename, encoding='utf-8') as f:\n",
        "        for l in f:\n",
        "            D.append(json.loads(l))\n",
        "    return D\n",
        "\n",
        "\n",
        "class ResidualGatedConv1D(Layer):\n",
        "    \"\"\"门控卷积\n",
        "    \"\"\"\n",
        "    def __init__(self, filters, kernel_size, dilation_rate=1, **kwargs):\n",
        "        super(ResidualGatedConv1D, self).__init__(**kwargs)\n",
        "        self.filters = filters\n",
        "        self.kernel_size = kernel_size\n",
        "        self.dilation_rate = dilation_rate\n",
        "        self.supports_masking = True\n",
        "\n",
        "    def build(self, input_shape):\n",
        "        super(ResidualGatedConv1D, self).build(input_shape)\n",
        "        self.conv1d = Conv1D(\n",
        "            filters=self.filters * 2,\n",
        "            kernel_size=self.kernel_size,\n",
        "            dilation_rate=self.dilation_rate,\n",
        "            padding='same',\n",
        "        )\n",
        "        self.layernorm = LayerNormalization()\n",
        "\n",
        "        if self.filters != input_shape[-1]:\n",
        "            self.dense = Dense(self.filters, use_bias=False)\n",
        "\n",
        "        self.alpha = self.add_weight(\n",
        "            name='alpha', shape=[1], initializer='zeros'\n",
        "        )\n",
        "\n",
        "    def call(self, inputs, mask=None):\n",
        "        if mask is not None:\n",
        "            mask = K.cast(mask, K.floatx())\n",
        "            inputs = inputs * mask[:, :, None]\n",
        "\n",
        "        outputs = self.conv1d(inputs)\n",
        "        gate = K.sigmoid(outputs[..., self.filters:])\n",
        "        outputs = outputs[..., :self.filters] * gate\n",
        "        outputs = self.layernorm(outputs)\n",
        "\n",
        "        if hasattr(self, 'dense'):\n",
        "            inputs = self.dense(inputs)\n",
        "\n",
        "        return inputs + self.alpha * outputs\n",
        "\n",
        "    def compute_output_shape(self, input_shape):\n",
        "        shape = self.conv1d.compute_output_shape(input_shape)\n",
        "        return (shape[0], shape[1], shape[2] // 2)\n",
        "\n",
        "    def get_config(self):\n",
        "        config = {\n",
        "            'filters': self.filters,\n",
        "            'kernel_size': self.kernel_size,\n",
        "            'dilation_rate': self.dilation_rate\n",
        "        }\n",
        "        base_config = super(ResidualGatedConv1D, self).get_config()\n",
        "        return dict(list(base_config.items()) + list(config.items()))\n",
        "\n",
        "\n",
        "x_in = Input(shape=(None, input_size))\n",
        "x = x_in\n",
        "\n",
        "x = Masking()(x)\n",
        "x = Dropout(0.1)(x)\n",
        "x = Dense(hidden_size, use_bias=False)(x)\n",
        "x = Dropout(0.1)(x)\n",
        "x = ResidualGatedConv1D(hidden_size, 3, dilation_rate=1)(x)\n",
        "x = Dropout(0.1)(x)\n",
        "x = ResidualGatedConv1D(hidden_size, 3, dilation_rate=2)(x)\n",
        "x = Dropout(0.1)(x)\n",
        "x = ResidualGatedConv1D(hidden_size, 3, dilation_rate=4)(x)\n",
        "x = Dropout(0.1)(x)\n",
        "x = ResidualGatedConv1D(hidden_size, 3, dilation_rate=8)(x)\n",
        "x = Dropout(0.1)(x)\n",
        "x = ResidualGatedConv1D(hidden_size, 3, dilation_rate=1)(x)\n",
        "x = Dropout(0.1)(x)\n",
        "x = ResidualGatedConv1D(hidden_size, 3, dilation_rate=1)(x)\n",
        "x = Dropout(0.1)(x)\n",
        "x = Dense(1, activation='sigmoid')(x)\n",
        "\n",
        "extract_model = Model(x_in, x)\n",
        "extract_model.compile(\n",
        "    loss='binary_crossentropy', optimizer=Adam(), metrics=['accuracy']\n",
        ")\n",
        "extract_model.summary()\n",
        "\n",
        "\n",
        "def evaluate(data, data_x, threshold=0.2):\n",
        "    \"\"\"验证集评估\n",
        "    \"\"\"\n",
        "    y_pred = extract_model.predict(data_x)[:, :, 0]\n",
        "    total_metrics = {k: 0.0 for k in metric_keys}\n",
        "    for d, yp in tqdm(zip(data, y_pred), desc=u'评估中'):\n",
        "        yp = yp[:len(d[0])]\n",
        "        yp = np.where(yp > threshold)[0]\n",
        "        pred_summary = ''.join([d[0][i] for i in yp])\n",
        "        metrics = compute_metrics(pred_summary, d[2], 'char')\n",
        "        for k, v in metrics.items():\n",
        "            total_metrics[k] += v\n",
        "    return {k: v / len(data) for k, v in total_metrics.items()}\n",
        "\n",
        "\n",
        "class Evaluator(keras.callbacks.Callback):\n",
        "    \"\"\"训练回调\n",
        "    \"\"\"\n",
        "    def __init__(self):\n",
        "        self.best_metric = 0.0\n",
        "\n",
        "    def on_epoch_end(self, epoch, logs=None):\n",
        "        metrics = evaluate(valid_data, valid_x, threshold + 0.1)\n",
        "        if metrics['main'] >= self.best_metric:  # 保存最优 \n",
        "            self.best_metric = metrics['main']\n",
        "            extract_model.save_weights('weights/extract_model.%s.weights' % fold)\n",
        "        metrics['best'] = self.best_metric\n",
        "        print(metrics)\n",
        "\n",
        "\n",
        "if __name__ == '__main__':\n",
        "\n",
        "    # 加载数据\n",
        "    data = load_data(data_extract_json)\n",
        "    data_x = np.load(data_extract_npy)\n",
        "    data_y = np.zeros_like(data_x[..., :1])\n",
        "\n",
        "    for i, d in enumerate(data):\n",
        "        for j in d[1]:\n",
        "            data_y[i, j] = 1\n",
        "\n",
        "    \n",
        "    for i in range(15):\n",
        "      fold = i\n",
        "\n",
        "      train_data = data_split(data, fold, num_folds, 'train')\n",
        "      valid_data = data_split(data, fold, num_folds, 'valid')\n",
        "      train_x = data_split(data_x, fold, num_folds, 'train')\n",
        "      valid_x = data_split(data_x, fold, num_folds, 'valid')\n",
        "      train_y = data_split(data_y, fold, num_folds, 'train')\n",
        "      valid_y = data_split(data_y, fold, num_folds, 'valid')\n",
        "\n",
        "      # 启动训练\n",
        "      evaluator = Evaluator()\n",
        "\n",
        "      extract_model.fit(\n",
        "        train_x,\n",
        "        train_y,\n",
        "        epochs=epochs,\n",
        "        batch_size=batch_size,\n",
        "        callbacks=[evaluator]\n",
        "      )\n",
        "\n",
        "else:\n",
        "\n",
        "    extract_model.load_weights('weights/extract_model.%s.weights' % fold)\n"
      ],
      "execution_count": null,
      "outputs": [
        {
          "output_type": "stream",
          "text": [
            "WARNING:tensorflow:From /tensorflow-1.15.2/python3.7/tensorflow_core/python/ops/nn_impl.py:183: where (from tensorflow.python.ops.array_ops) is deprecated and will be removed in a future version.\n",
            "Instructions for updating:\n",
            "Use tf.where in 2.0, which has the same broadcast rule as np.where\n",
            "Model: \"model_3\"\n",
            "_________________________________________________________________\n",
            "Layer (type)                 Output Shape              Param #   \n",
            "=================================================================\n",
            "input_1 (InputLayer)         (None, None, 768)         0         \n",
            "_________________________________________________________________\n",
            "masking_1 (Masking)          (None, None, 768)         0         \n",
            "_________________________________________________________________\n",
            "dropout_1 (Dropout)          (None, None, 768)         0         \n",
            "_________________________________________________________________\n",
            "dense_73 (Dense)             (None, None, 384)         294912    \n",
            "_________________________________________________________________\n",
            "dropout_2 (Dropout)          (None, None, 384)         0         \n",
            "_________________________________________________________________\n",
            "residual_gated_conv1d_1 (Res (None, None, 384)         886273    \n",
            "_________________________________________________________________\n",
            "dropout_3 (Dropout)          (None, None, 384)         0         \n",
            "_________________________________________________________________\n",
            "residual_gated_conv1d_2 (Res (None, None, 384)         886273    \n",
            "_________________________________________________________________\n",
            "dropout_4 (Dropout)          (None, None, 384)         0         \n",
            "_________________________________________________________________\n",
            "residual_gated_conv1d_3 (Res (None, None, 384)         886273    \n",
            "_________________________________________________________________\n",
            "dropout_5 (Dropout)          (None, None, 384)         0         \n",
            "_________________________________________________________________\n",
            "residual_gated_conv1d_4 (Res (None, None, 384)         886273    \n",
            "_________________________________________________________________\n",
            "dropout_6 (Dropout)          (None, None, 384)         0         \n",
            "_________________________________________________________________\n",
            "residual_gated_conv1d_5 (Res (None, None, 384)         886273    \n",
            "_________________________________________________________________\n",
            "dropout_7 (Dropout)          (None, None, 384)         0         \n",
            "_________________________________________________________________\n",
            "residual_gated_conv1d_6 (Res (None, None, 384)         886273    \n",
            "_________________________________________________________________\n",
            "dropout_8 (Dropout)          (None, None, 384)         0         \n",
            "_________________________________________________________________\n",
            "dense_74 (Dense)             (None, None, 1)           385       \n",
            "=================================================================\n",
            "Total params: 5,612,935\n",
            "Trainable params: 5,612,935\n",
            "Non-trainable params: 0\n",
            "_________________________________________________________________\n",
            "Epoch 1/20\n",
            "933/933 [==============================] - 6s 6ms/step - loss: 0.2614 - accuracy: 0.8834\n"
          ],
          "name": "stdout"
        },
        {
          "output_type": "stream",
          "text": [
            "评估中: 67it [00:03, 18.40it/s]\n"
          ],
          "name": "stderr"
        },
        {
          "output_type": "stream",
          "text": [
            "{'main': 0.47150361450100087, 'rouge-1': 0.5164771993768497, 'rouge-2': 0.3917375099213072, 'rouge-l': 0.5287829266427705, 'best': 0.47150361450100087}\n",
            "Epoch 2/20\n",
            "933/933 [==============================] - 2s 2ms/step - loss: 0.1869 - accuracy: 0.8966\n"
          ],
          "name": "stdout"
        },
        {
          "output_type": "stream",
          "text": [
            "评估中: 67it [00:01, 33.86it/s]\n"
          ],
          "name": "stderr"
        },
        {
          "output_type": "stream",
          "text": [
            "{'main': 0.44858239032952746, 'rouge-1': 0.4652723506712778, 'rouge-2': 0.3768019746936682, 'rouge-l': 0.5120178257945114, 'best': 0.47150361450100087}\n",
            "Epoch 3/20\n",
            "933/933 [==============================] - 2s 2ms/step - loss: 0.1685 - accuracy: 0.9086\n"
          ],
          "name": "stdout"
        },
        {
          "output_type": "stream",
          "text": [
            "评估中: 67it [00:03, 18.14it/s]\n"
          ],
          "name": "stderr"
        },
        {
          "output_type": "stream",
          "text": [
            "{'main': 0.5163376765435056, 'rouge-1': 0.5772550498163026, 'rouge-2': 0.43682948156139884, 'rouge-l': 0.5653871848892139, 'best': 0.5163376765435056}\n",
            "Epoch 4/20\n",
            "933/933 [==============================] - 2s 2ms/step - loss: 0.1608 - accuracy: 0.9104\n"
          ],
          "name": "stdout"
        },
        {
          "output_type": "stream",
          "text": [
            "评估中: 67it [00:03, 18.79it/s]\n"
          ],
          "name": "stderr"
        },
        {
          "output_type": "stream",
          "text": [
            "{'main': 0.5196187668701039, 'rouge-1': 0.5668537712153775, 'rouge-2': 0.4345401616662541, 'rouge-l': 0.5810798699013163, 'best': 0.5196187668701039}\n",
            "Epoch 5/20\n",
            "933/933 [==============================] - 2s 2ms/step - loss: 0.1558 - accuracy: 0.9129\n"
          ],
          "name": "stdout"
        },
        {
          "output_type": "stream",
          "text": [
            "评估中: 67it [00:03, 20.20it/s]\n"
          ],
          "name": "stderr"
        },
        {
          "output_type": "stream",
          "text": [
            "{'main': 0.5183177009793876, 'rouge-1': 0.564981318331761, 'rouge-2': 0.43984026708831714, 'rouge-l': 0.5734633261942715, 'best': 0.5196187668701039}\n",
            "Epoch 6/20\n",
            "933/933 [==============================] - 2s 2ms/step - loss: 0.1514 - accuracy: 0.9147\n"
          ],
          "name": "stdout"
        },
        {
          "output_type": "stream",
          "text": [
            "评估中: 67it [00:04, 15.14it/s]\n"
          ],
          "name": "stderr"
        },
        {
          "output_type": "stream",
          "text": [
            "{'main': 0.5445160066800842, 'rouge-1': 0.5919842305213526, 'rouge-2': 0.4610091982448905, 'rouge-l': 0.6042887031946437, 'best': 0.5445160066800842}\n",
            "Epoch 7/20\n",
            "933/933 [==============================] - 2s 2ms/step - loss: 0.1452 - accuracy: 0.9174\n"
          ],
          "name": "stdout"
        },
        {
          "output_type": "stream",
          "text": [
            "评估中: 67it [00:03, 21.25it/s]\n"
          ],
          "name": "stderr"
        },
        {
          "output_type": "stream",
          "text": [
            "{'main': 0.5285787304283671, 'rouge-1': 0.5678210916228529, 'rouge-2': 0.4517438816413124, 'rouge-l': 0.5857923986181781, 'best': 0.5445160066800842}\n",
            "Epoch 8/20\n",
            "933/933 [==============================] - 2s 2ms/step - loss: 0.1393 - accuracy: 0.9209\n"
          ],
          "name": "stdout"
        },
        {
          "output_type": "stream",
          "text": [
            "评估中: 67it [00:03, 17.21it/s]\n"
          ],
          "name": "stderr"
        },
        {
          "output_type": "stream",
          "text": [
            "{'main': 0.5474244487051951, 'rouge-1': 0.5984741262877655, 'rouge-2': 0.4694908140844386, 'rouge-l': 0.5998332445346669, 'best': 0.5474244487051951}\n",
            "Epoch 9/20\n",
            "933/933 [==============================] - 2s 2ms/step - loss: 0.1361 - accuracy: 0.9217\n"
          ],
          "name": "stdout"
        },
        {
          "output_type": "stream",
          "text": [
            "评估中: 67it [00:04, 13.45it/s]\n"
          ],
          "name": "stderr"
        },
        {
          "output_type": "stream",
          "text": [
            "{'main': 0.5703095139768822, 'rouge-1': 0.619283867537847, 'rouge-2': 0.4862562436163973, 'rouge-l': 0.6298756075568853, 'best': 0.5703095139768822}\n",
            "Epoch 10/20\n",
            "933/933 [==============================] - 2s 2ms/step - loss: 0.1341 - accuracy: 0.9224\n"
          ],
          "name": "stdout"
        },
        {
          "output_type": "stream",
          "text": [
            "评估中: 67it [00:05, 11.70it/s]\n"
          ],
          "name": "stderr"
        },
        {
          "output_type": "stream",
          "text": [
            "{'main': 0.5718686655354246, 'rouge-1': 0.6154629649527625, 'rouge-2': 0.48407798308180816, 'rouge-l': 0.6378621982803724, 'best': 0.5718686655354246}\n",
            "Epoch 11/20\n",
            "933/933 [==============================] - 2s 2ms/step - loss: 0.1325 - accuracy: 0.9232\n"
          ],
          "name": "stdout"
        },
        {
          "output_type": "stream",
          "text": [
            "评估中: 67it [00:05, 12.59it/s]\n"
          ],
          "name": "stderr"
        },
        {
          "output_type": "stream",
          "text": [
            "{'main': 0.5756235069417107, 'rouge-1': 0.620933794410319, 'rouge-2': 0.4914278163129389, 'rouge-l': 0.6371640538361777, 'best': 0.5756235069417107}\n",
            "Epoch 12/20\n",
            "933/933 [==============================] - 2s 2ms/step - loss: 0.1296 - accuracy: 0.9248\n"
          ],
          "name": "stdout"
        },
        {
          "output_type": "stream",
          "text": [
            "评估中: 67it [00:04, 16.14it/s]\n"
          ],
          "name": "stderr"
        },
        {
          "output_type": "stream",
          "text": [
            "{'main': 0.5659419399213416, 'rouge-1': 0.6137526008630154, 'rouge-2': 0.48661560321318725, 'rouge-l': 0.6213629461586585, 'best': 0.5756235069417107}\n",
            "Epoch 13/20\n",
            "933/933 [==============================] - 2s 2ms/step - loss: 0.1279 - accuracy: 0.9250\n"
          ],
          "name": "stdout"
        },
        {
          "output_type": "stream",
          "text": [
            "评估中: 67it [00:04, 14.61it/s]\n"
          ],
          "name": "stderr"
        },
        {
          "output_type": "stream",
          "text": [
            "{'main': 0.5787443581578211, 'rouge-1': 0.6270593263733842, 'rouge-2': 0.4975626242422724, 'rouge-l': 0.635768607965588, 'best': 0.5787443581578211}\n",
            "Epoch 14/20\n",
            "933/933 [==============================] - 2s 2ms/step - loss: 0.1257 - accuracy: 0.9260\n"
          ],
          "name": "stdout"
        },
        {
          "output_type": "stream",
          "text": [
            "评估中: 67it [00:03, 17.53it/s]\n"
          ],
          "name": "stderr"
        },
        {
          "output_type": "stream",
          "text": [
            "{'main': 0.5632926238593617, 'rouge-1': 0.6073047435266126, 'rouge-2': 0.4849792750577847, 'rouge-l': 0.6195999128273129, 'best': 0.5787443581578211}\n",
            "Epoch 15/20\n",
            "933/933 [==============================] - 2s 2ms/step - loss: 0.1264 - accuracy: 0.9261\n"
          ],
          "name": "stdout"
        },
        {
          "output_type": "stream",
          "text": [
            "评估中: 67it [00:04, 16.70it/s]\n"
          ],
          "name": "stderr"
        },
        {
          "output_type": "stream",
          "text": [
            "{'main': 0.5608456628553528, 'rouge-1': 0.6070241933629882, 'rouge-2': 0.4810843477903197, 'rouge-l': 0.6175177126665681, 'best': 0.5787443581578211}\n",
            "Epoch 16/20\n",
            "933/933 [==============================] - 2s 2ms/step - loss: 0.1237 - accuracy: 0.9273\n"
          ],
          "name": "stdout"
        },
        {
          "output_type": "stream",
          "text": [
            "评估中: 67it [00:03, 17.87it/s]\n"
          ],
          "name": "stderr"
        },
        {
          "output_type": "stream",
          "text": [
            "{'main': 0.5586969290057501, 'rouge-1': 0.602920507680454, 'rouge-2': 0.47947178137745494, 'rouge-l': 0.6158102872966935, 'best': 0.5787443581578211}\n",
            "Epoch 17/20\n",
            "933/933 [==============================] - 2s 2ms/step - loss: 0.1226 - accuracy: 0.9278\n"
          ],
          "name": "stdout"
        },
        {
          "output_type": "stream",
          "text": [
            "评估中: 67it [00:07,  8.43it/s]\n"
          ],
          "name": "stderr"
        },
        {
          "output_type": "stream",
          "text": [
            "{'main': 0.5774330034872932, 'rouge-1': 0.6187734551276042, 'rouge-2': 0.4945214389239359, 'rouge-l': 0.6396743422304954, 'best': 0.5787443581578211}\n",
            "Epoch 18/20\n",
            "933/933 [==============================] - 2s 2ms/step - loss: 0.1199 - accuracy: 0.9287\n"
          ],
          "name": "stdout"
        },
        {
          "output_type": "stream",
          "text": [
            "评估中: 67it [00:05, 12.23it/s]\n"
          ],
          "name": "stderr"
        },
        {
          "output_type": "stream",
          "text": [
            "{'main': 0.5929299459280383, 'rouge-1': 0.6341464268097013, 'rouge-2': 0.5090768168202066, 'rouge-l': 0.6561748345950381, 'best': 0.5929299459280383}\n",
            "Epoch 19/20\n",
            "933/933 [==============================] - 2s 2ms/step - loss: 0.1184 - accuracy: 0.9295\n"
          ],
          "name": "stdout"
        },
        {
          "output_type": "stream",
          "text": [
            "评估中: 67it [00:04, 15.90it/s]\n"
          ],
          "name": "stderr"
        },
        {
          "output_type": "stream",
          "text": [
            "{'main': 0.590077701530787, 'rouge-1': 0.6347407909646778, 'rouge-2': 0.5078949975733091, 'rouge-l': 0.6499288607713196, 'best': 0.5929299459280383}\n",
            "Epoch 20/20\n",
            "933/933 [==============================] - 2s 2ms/step - loss: 0.1165 - accuracy: 0.9310\n"
          ],
          "name": "stdout"
        },
        {
          "output_type": "stream",
          "text": [
            "评估中: 67it [00:05, 13.23it/s]\n"
          ],
          "name": "stderr"
        },
        {
          "output_type": "stream",
          "text": [
            "{'main': 0.5953203677620444, 'rouge-1': 0.6425679534205366, 'rouge-2': 0.5147658360030306, 'rouge-l': 0.6522511066918119, 'best': 0.5953203677620444}\n",
            "Epoch 1/20\n",
            "933/933 [==============================] - 2s 2ms/step - loss: 0.1152 - accuracy: 0.9313\n"
          ],
          "name": "stdout"
        },
        {
          "output_type": "stream",
          "text": [
            "评估中: 67it [00:05, 13.23it/s]\n"
          ],
          "name": "stderr"
        },
        {
          "output_type": "stream",
          "text": [
            "{'main': 0.6185597502035632, 'rouge-1': 0.6596142443215666, 'rouge-2': 0.5397432932269982, 'rouge-l': 0.6768489601211263, 'best': 0.6185597502035632}\n",
            "Epoch 2/20\n",
            "933/933 [==============================] - 2s 2ms/step - loss: 0.1129 - accuracy: 0.9319\n"
          ],
          "name": "stdout"
        },
        {
          "output_type": "stream",
          "text": [
            "评估中: 67it [00:04, 14.03it/s]\n"
          ],
          "name": "stderr"
        },
        {
          "output_type": "stream",
          "text": [
            "{'main': 0.6094072619021759, 'rouge-1': 0.6507241866647919, 'rouge-2': 0.5318873083005531, 'rouge-l': 0.6662687531224902, 'best': 0.6185597502035632}\n",
            "Epoch 3/20\n",
            "933/933 [==============================] - 2s 2ms/step - loss: 0.1119 - accuracy: 0.9325\n"
          ],
          "name": "stdout"
        },
        {
          "output_type": "stream",
          "text": [
            "评估中: 67it [00:04, 14.98it/s]\n"
          ],
          "name": "stderr"
        },
        {
          "output_type": "stream",
          "text": [
            "{'main': 0.6056004088890594, 'rouge-1': 0.6465040099954902, 'rouge-2': 0.5291585523417575, 'rouge-l': 0.6615904648831461, 'best': 0.6185597502035632}\n",
            "Epoch 4/20\n",
            "933/933 [==============================] - 2s 2ms/step - loss: 0.1097 - accuracy: 0.9337\n"
          ],
          "name": "stdout"
        },
        {
          "output_type": "stream",
          "text": [
            "评估中: 67it [00:04, 15.12it/s]\n"
          ],
          "name": "stderr"
        },
        {
          "output_type": "stream",
          "text": [
            "{'main': 0.5955791618551983, 'rouge-1': 0.6388017045233345, 'rouge-2': 0.5203616723943679, 'rouge-l': 0.6491853799819601, 'best': 0.6185597502035632}\n",
            "Epoch 5/20\n",
            "933/933 [==============================] - 2s 2ms/step - loss: 0.1064 - accuracy: 0.9357\n"
          ],
          "name": "stdout"
        },
        {
          "output_type": "stream",
          "text": [
            "评估中: 67it [00:05, 13.11it/s]\n"
          ],
          "name": "stderr"
        },
        {
          "output_type": "stream",
          "text": [
            "{'main': 0.6155703723400658, 'rouge-1': 0.6577540815666683, 'rouge-2': 0.5377852659785293, 'rouge-l': 0.6722636240883006, 'best': 0.6185597502035632}\n",
            "Epoch 6/20\n",
            "933/933 [==============================] - 2s 2ms/step - loss: 0.1032 - accuracy: 0.9371\n"
          ],
          "name": "stdout"
        },
        {
          "output_type": "stream",
          "text": [
            "评估中: 67it [00:05, 11.66it/s]\n"
          ],
          "name": "stderr"
        },
        {
          "output_type": "stream",
          "text": [
            "{'main': 0.6155249539972465, 'rouge-1': 0.6527483193755723, 'rouge-2': 0.5347610760504075, 'rouge-l': 0.677677149254923, 'best': 0.6185597502035632}\n",
            "Epoch 7/20\n",
            "933/933 [==============================] - 2s 2ms/step - loss: 0.1004 - accuracy: 0.9395\n"
          ],
          "name": "stdout"
        },
        {
          "output_type": "stream",
          "text": [
            "评估中: 67it [00:04, 13.60it/s]\n"
          ],
          "name": "stderr"
        },
        {
          "output_type": "stream",
          "text": [
            "{'main': 0.610125615900508, 'rouge-1': 0.6527728328221757, 'rouge-2': 0.5335921249059029, 'rouge-l': 0.6653354984342783, 'best': 0.6185597502035632}\n",
            "Epoch 8/20\n",
            "933/933 [==============================] - 2s 2ms/step - loss: 0.0955 - accuracy: 0.9417\n"
          ],
          "name": "stdout"
        },
        {
          "output_type": "stream",
          "text": [
            "评估中: 67it [00:04, 15.21it/s]\n"
          ],
          "name": "stderr"
        },
        {
          "output_type": "stream",
          "text": [
            "{'main': 0.6020197158903988, 'rouge-1': 0.6471742028892536, 'rouge-2': 0.5250908802323865, 'rouge-l': 0.6563713080489848, 'best': 0.6185597502035632}\n",
            "Epoch 9/20\n",
            "933/933 [==============================] - 2s 2ms/step - loss: 0.0924 - accuracy: 0.9431\n"
          ],
          "name": "stdout"
        },
        {
          "output_type": "stream",
          "text": [
            "评估中: 67it [00:04, 16.60it/s]\n"
          ],
          "name": "stderr"
        },
        {
          "output_type": "stream",
          "text": [
            "{'main': 0.5843555964263647, 'rouge-1': 0.6292304639227013, 'rouge-2': 0.5075196672892585, 'rouge-l': 0.6387540918153024, 'best': 0.6185597502035632}\n",
            "Epoch 10/20\n",
            "933/933 [==============================] - 2s 2ms/step - loss: 0.0875 - accuracy: 0.9457\n"
          ],
          "name": "stdout"
        },
        {
          "output_type": "stream",
          "text": [
            "评估中: 67it [00:04, 14.78it/s]\n"
          ],
          "name": "stderr"
        },
        {
          "output_type": "stream",
          "text": [
            "{'main': 0.6022917618132813, 'rouge-1': 0.6431247424939623, 'rouge-2': 0.5240755582056439, 'rouge-l': 0.6600914750805779, 'best': 0.6185597502035632}\n",
            "Epoch 11/20\n",
            "933/933 [==============================] - 2s 2ms/step - loss: 0.0834 - accuracy: 0.9483\n"
          ],
          "name": "stdout"
        },
        {
          "output_type": "stream",
          "text": [
            "评估中: 67it [00:04, 14.85it/s]\n"
          ],
          "name": "stderr"
        },
        {
          "output_type": "stream",
          "text": [
            "{'main': 0.5899755280689576, 'rouge-1': 0.6327888262456551, 'rouge-2': 0.5124551115340351, 'rouge-l': 0.6460892955155308, 'best': 0.6185597502035632}\n",
            "Epoch 12/20\n",
            "933/933 [==============================] - 2s 2ms/step - loss: 0.0776 - accuracy: 0.9521\n"
          ],
          "name": "stdout"
        },
        {
          "output_type": "stream",
          "text": [
            "评估中: 67it [00:08,  7.48it/s]\n"
          ],
          "name": "stderr"
        },
        {
          "output_type": "stream",
          "text": [
            "{'main': 0.6023354071023672, 'rouge-1': 0.6467748752513651, 'rouge-2': 0.5244169400248918, 'rouge-l': 0.6580341401053439, 'best': 0.6185597502035632}\n",
            "Epoch 13/20\n",
            "933/933 [==============================] - 2s 2ms/step - loss: 0.0720 - accuracy: 0.9554\n"
          ],
          "name": "stdout"
        },
        {
          "output_type": "stream",
          "text": [
            "评估中: 67it [00:04, 15.82it/s]\n"
          ],
          "name": "stderr"
        },
        {
          "output_type": "stream",
          "text": [
            "{'main': 0.5882091769466329, 'rouge-1': 0.6353521470115033, 'rouge-2': 0.5116620984572611, 'rouge-l': 0.641184770403569, 'best': 0.6185597502035632}\n",
            "Epoch 14/20\n",
            "933/933 [==============================] - 2s 2ms/step - loss: 0.0680 - accuracy: 0.9579\n"
          ],
          "name": "stdout"
        },
        {
          "output_type": "stream",
          "text": [
            "评估中: 67it [00:03, 16.81it/s]\n"
          ],
          "name": "stderr"
        },
        {
          "output_type": "stream",
          "text": [
            "{'main': 0.5910377521158239, 'rouge-1': 0.637127571898973, 'rouge-2': 0.5162303645935883, 'rouge-l': 0.6428002297464843, 'best': 0.6185597502035632}\n",
            "Epoch 15/20\n",
            "933/933 [==============================] - 2s 2ms/step - loss: 0.0618 - accuracy: 0.9610\n"
          ],
          "name": "stdout"
        },
        {
          "output_type": "stream",
          "text": [
            "评估中: 67it [00:03, 18.35it/s]\n"
          ],
          "name": "stderr"
        },
        {
          "output_type": "stream",
          "text": [
            "{'main': 0.5609622483129171, 'rouge-1': 0.6061075328190036, 'rouge-2': 0.4850329671174761, 'rouge-l': 0.6143188872553146, 'best': 0.6185597502035632}\n",
            "Epoch 16/20\n",
            "933/933 [==============================] - 2s 2ms/step - loss: 0.0558 - accuracy: 0.9653\n"
          ],
          "name": "stdout"
        },
        {
          "output_type": "stream",
          "text": [
            "评估中: 67it [00:04, 15.64it/s]\n"
          ],
          "name": "stderr"
        },
        {
          "output_type": "stream",
          "text": [
            "{'main': 0.5883207682695462, 'rouge-1': 0.6375771636194134, 'rouge-2': 0.5108676447356142, 'rouge-l': 0.641145694128545, 'best': 0.6185597502035632}\n",
            "Epoch 17/20\n",
            "933/933 [==============================] - 2s 2ms/step - loss: 0.0505 - accuracy: 0.9691\n"
          ],
          "name": "stdout"
        },
        {
          "output_type": "stream",
          "text": [
            "评估中: 67it [00:04, 15.76it/s]\n"
          ],
          "name": "stderr"
        },
        {
          "output_type": "stream",
          "text": [
            "{'main': 0.5864200559850161, 'rouge-1': 0.6372575378856966, 'rouge-2': 0.5099391861983327, 'rouge-l': 0.637482184821359, 'best': 0.6185597502035632}\n",
            "Epoch 18/20\n",
            "933/933 [==============================] - 2s 2ms/step - loss: 0.0459 - accuracy: 0.9715\n"
          ],
          "name": "stdout"
        },
        {
          "output_type": "stream",
          "text": [
            "评估中: 67it [00:02, 22.52it/s]\n"
          ],
          "name": "stderr"
        },
        {
          "output_type": "stream",
          "text": [
            "{'main': 0.5391696901816226, 'rouge-1': 0.5767344124539416, 'rouge-2': 0.46561893658012643, 'rouge-l': 0.5939380826469594, 'best': 0.6185597502035632}\n",
            "Epoch 19/20\n",
            "933/933 [==============================] - 2s 2ms/step - loss: 0.0439 - accuracy: 0.9733\n"
          ],
          "name": "stdout"
        },
        {
          "output_type": "stream",
          "text": [
            "评估中: 67it [00:03, 17.83it/s]\n"
          ],
          "name": "stderr"
        },
        {
          "output_type": "stream",
          "text": [
            "{'main': 0.5715878423464172, 'rouge-1': 0.6163995627962164, 'rouge-2': 0.4959887253779527, 'rouge-l': 0.6247810990899825, 'best': 0.6185597502035632}\n",
            "Epoch 20/20\n",
            "933/933 [==============================] - 2s 2ms/step - loss: 0.0401 - accuracy: 0.9757\n"
          ],
          "name": "stdout"
        },
        {
          "output_type": "stream",
          "text": [
            "评估中: 67it [00:03, 17.23it/s]\n"
          ],
          "name": "stderr"
        },
        {
          "output_type": "stream",
          "text": [
            "{'main': 0.5850114334028387, 'rouge-1': 0.6377659885410065, 'rouge-2': 0.5133363226072041, 'rouge-l': 0.6303092666293889, 'best': 0.6185597502035632}\n",
            "Epoch 1/20\n",
            "933/933 [==============================] - 2s 2ms/step - loss: 0.0474 - accuracy: 0.9734\n"
          ],
          "name": "stdout"
        },
        {
          "output_type": "stream",
          "text": [
            "评估中: 67it [00:04, 15.03it/s]\n"
          ],
          "name": "stderr"
        },
        {
          "output_type": "stream",
          "text": [
            "{'main': 0.686206150221569, 'rouge-1': 0.7165568721074371, 'rouge-2': 0.6108200687548908, 'rouge-l': 0.7464168707453128, 'best': 0.686206150221569}\n",
            "Epoch 2/20\n",
            "933/933 [==============================] - 2s 2ms/step - loss: 0.0415 - accuracy: 0.9761\n"
          ],
          "name": "stdout"
        },
        {
          "output_type": "stream",
          "text": [
            "评估中: 67it [00:04, 15.24it/s]\n"
          ],
          "name": "stderr"
        },
        {
          "output_type": "stream",
          "text": [
            "{'main': 0.6866938044033238, 'rouge-1': 0.7143763489672661, 'rouge-2': 0.6114552666825868, 'rouge-l': 0.7480910698420901, 'best': 0.6866938044033238}\n",
            "Epoch 3/20\n",
            "933/933 [==============================] - 2s 2ms/step - loss: 0.0365 - accuracy: 0.9790\n"
          ],
          "name": "stdout"
        },
        {
          "output_type": "stream",
          "text": [
            "评估中: 67it [00:04, 14.65it/s]\n"
          ],
          "name": "stderr"
        },
        {
          "output_type": "stream",
          "text": [
            "{'main': 0.6845087056267065, 'rouge-1': 0.7125617941309423, 'rouge-2': 0.6084349860256277, 'rouge-l': 0.7465558809756678, 'best': 0.6866938044033238}\n",
            "Epoch 4/20\n",
            "933/933 [==============================] - 2s 2ms/step - loss: 0.0324 - accuracy: 0.9811\n"
          ],
          "name": "stdout"
        },
        {
          "output_type": "stream",
          "text": [
            "评估中: 67it [00:04, 15.36it/s]\n"
          ],
          "name": "stderr"
        },
        {
          "output_type": "stream",
          "text": [
            "{'main': 0.6856764984923402, 'rouge-1': 0.7147319529735843, 'rouge-2': 0.6102546112585195, 'rouge-l': 0.7465706584855384, 'best': 0.6866938044033238}\n",
            "Epoch 5/20\n",
            "933/933 [==============================] - 2s 2ms/step - loss: 0.0296 - accuracy: 0.9824\n"
          ],
          "name": "stdout"
        },
        {
          "output_type": "stream",
          "text": [
            "评估中: 67it [00:04, 15.25it/s]\n"
          ],
          "name": "stderr"
        },
        {
          "output_type": "stream",
          "text": [
            "{'main': 0.6781088959839027, 'rouge-1': 0.7056524219203525, 'rouge-2': 0.6024597287897616, 'rouge-l': 0.7399863002098181, 'best': 0.6866938044033238}\n",
            "Epoch 6/20\n",
            "933/933 [==============================] - 2s 2ms/step - loss: 0.0272 - accuracy: 0.9841\n"
          ],
          "name": "stdout"
        },
        {
          "output_type": "stream",
          "text": [
            "评估中: 67it [00:04, 15.62it/s]\n"
          ],
          "name": "stderr"
        },
        {
          "output_type": "stream",
          "text": [
            "{'main': 0.6799265767406819, 'rouge-1': 0.7081991483328457, 'rouge-2': 0.6049432987676693, 'rouge-l': 0.7407735689176125, 'best': 0.6866938044033238}\n",
            "Epoch 7/20\n",
            "933/933 [==============================] - 2s 2ms/step - loss: 0.0252 - accuracy: 0.9855\n"
          ],
          "name": "stdout"
        },
        {
          "output_type": "stream",
          "text": [
            "评估中: 67it [00:04, 15.91it/s]\n"
          ],
          "name": "stderr"
        },
        {
          "output_type": "stream",
          "text": [
            "{'main': 0.6739253695176852, 'rouge-1': 0.703761511590786, 'rouge-2': 0.5985538735297916, 'rouge-l': 0.7343787944690287, 'best': 0.6866938044033238}\n",
            "Epoch 8/20\n",
            "933/933 [==============================] - 2s 2ms/step - loss: 0.0227 - accuracy: 0.9869\n"
          ],
          "name": "stdout"
        },
        {
          "output_type": "stream",
          "text": [
            "评估中: 67it [00:08,  8.02it/s]\n"
          ],
          "name": "stderr"
        },
        {
          "output_type": "stream",
          "text": [
            "{'main': 0.6707060214476088, 'rouge-1': 0.7012162081000373, 'rouge-2': 0.5932594629054975, 'rouge-l': 0.7328974866635064, 'best': 0.6866938044033238}\n",
            "Epoch 9/20\n",
            "933/933 [==============================] - 2s 2ms/step - loss: 0.0210 - accuracy: 0.9878\n"
          ],
          "name": "stdout"
        },
        {
          "output_type": "stream",
          "text": [
            "评估中: 67it [00:04, 15.58it/s]\n"
          ],
          "name": "stderr"
        },
        {
          "output_type": "stream",
          "text": [
            "{'main': 0.6746987424703095, 'rouge-1': 0.7033872947672614, 'rouge-2': 0.5987058401537395, 'rouge-l': 0.7363473686384041, 'best': 0.6866938044033238}\n",
            "Epoch 10/20\n",
            "933/933 [==============================] - 2s 2ms/step - loss: 0.0201 - accuracy: 0.9883\n"
          ],
          "name": "stdout"
        },
        {
          "output_type": "stream",
          "text": [
            "评估中: 67it [00:04, 15.74it/s]\n"
          ],
          "name": "stderr"
        },
        {
          "output_type": "stream",
          "text": [
            "{'main': 0.6698817734704589, 'rouge-1': 0.6991021674580166, 'rouge-2': 0.5946064983746737, 'rouge-l': 0.7305468515724642, 'best': 0.6866938044033238}\n",
            "Epoch 11/20\n",
            "933/933 [==============================] - 2s 2ms/step - loss: 0.0193 - accuracy: 0.9888\n"
          ],
          "name": "stdout"
        },
        {
          "output_type": "stream",
          "text": [
            "评估中: 67it [00:04, 16.58it/s]\n"
          ],
          "name": "stderr"
        },
        {
          "output_type": "stream",
          "text": [
            "{'main': 0.6650674263074814, 'rouge-1': 0.6931072531108359, 'rouge-2': 0.5892477990205311, 'rouge-l': 0.7268671401927536, 'best': 0.6866938044033238}\n",
            "Epoch 12/20\n",
            "933/933 [==============================] - 2s 2ms/step - loss: 0.0183 - accuracy: 0.9894\n"
          ],
          "name": "stdout"
        },
        {
          "output_type": "stream",
          "text": [
            "评估中: 67it [00:04, 15.37it/s]\n"
          ],
          "name": "stderr"
        },
        {
          "output_type": "stream",
          "text": [
            "{'main': 0.6721293680573023, 'rouge-1': 0.7016028482410774, 'rouge-2': 0.5971691495800918, 'rouge-l': 0.7323528464426244, 'best': 0.6866938044033238}\n",
            "Epoch 13/20\n",
            "933/933 [==============================] - 2s 2ms/step - loss: 0.0177 - accuracy: 0.9896\n"
          ],
          "name": "stdout"
        },
        {
          "output_type": "stream",
          "text": [
            "评估中: 67it [00:04, 16.56it/s]\n"
          ],
          "name": "stderr"
        },
        {
          "output_type": "stream",
          "text": [
            "{'main': 0.6644695089133102, 'rouge-1': 0.6922992730285727, 'rouge-2': 0.5880582488623236, 'rouge-l': 0.7269658869066656, 'best': 0.6866938044033238}\n",
            "Epoch 14/20\n",
            "933/933 [==============================] - 2s 2ms/step - loss: 0.0161 - accuracy: 0.9906\n"
          ],
          "name": "stdout"
        },
        {
          "output_type": "stream",
          "text": [
            "评估中: 67it [00:04, 15.90it/s]\n"
          ],
          "name": "stderr"
        },
        {
          "output_type": "stream",
          "text": [
            "{'main': 0.6685507727251494, 'rouge-1': 0.6999118119029764, 'rouge-2': 0.5935253446194689, 'rouge-l': 0.7278956812419162, 'best': 0.6866938044033238}\n",
            "Epoch 15/20\n",
            "933/933 [==============================] - 2s 2ms/step - loss: 0.0152 - accuracy: 0.9911\n"
          ],
          "name": "stdout"
        },
        {
          "output_type": "stream",
          "text": [
            "评估中: 67it [00:04, 15.64it/s]\n"
          ],
          "name": "stderr"
        },
        {
          "output_type": "stream",
          "text": [
            "{'main': 0.6675251953340603, 'rouge-1': 0.697598480272737, 'rouge-2': 0.5932400289992841, 'rouge-l': 0.7267737191994975, 'best': 0.6866938044033238}\n",
            "Epoch 16/20\n",
            "933/933 [==============================] - 2s 2ms/step - loss: 0.0145 - accuracy: 0.9915\n"
          ],
          "name": "stdout"
        },
        {
          "output_type": "stream",
          "text": [
            "评估中: 67it [00:04, 16.07it/s]\n"
          ],
          "name": "stderr"
        },
        {
          "output_type": "stream",
          "text": [
            "{'main': 0.6698830960785143, 'rouge-1': 0.6977521561314652, 'rouge-2': 0.59606017528001, 'rouge-l': 0.7297714868505416, 'best': 0.6866938044033238}\n",
            "Epoch 17/20\n",
            "933/933 [==============================] - 2s 2ms/step - loss: 0.0132 - accuracy: 0.9924\n"
          ],
          "name": "stdout"
        },
        {
          "output_type": "stream",
          "text": [
            "评估中: 67it [00:04, 15.87it/s]\n"
          ],
          "name": "stderr"
        },
        {
          "output_type": "stream",
          "text": [
            "{'main': 0.6673970168877373, 'rouge-1': 0.6979938875513132, 'rouge-2': 0.5922812661296393, 'rouge-l': 0.7272143323140476, 'best': 0.6866938044033238}\n",
            "Epoch 18/20\n",
            "933/933 [==============================] - 2s 2ms/step - loss: 0.0130 - accuracy: 0.9926\n"
          ],
          "name": "stdout"
        },
        {
          "output_type": "stream",
          "text": [
            "评估中: 67it [00:04, 16.08it/s]\n"
          ],
          "name": "stderr"
        },
        {
          "output_type": "stream",
          "text": [
            "{'main': 0.666492120461078, 'rouge-1': 0.6990068103131232, 'rouge-2': 0.5918584702200527, 'rouge-l': 0.7248684257760801, 'best': 0.6866938044033238}\n",
            "Epoch 19/20\n",
            "933/933 [==============================] - 2s 2ms/step - loss: 0.0125 - accuracy: 0.9929\n"
          ],
          "name": "stdout"
        },
        {
          "output_type": "stream",
          "text": [
            "评估中: 67it [00:04, 16.33it/s]\n"
          ],
          "name": "stderr"
        },
        {
          "output_type": "stream",
          "text": [
            "{'main': 0.6582157623468203, 'rouge-1': 0.6908872268001488, 'rouge-2': 0.5844928369234161, 'rouge-l': 0.7156029555435599, 'best': 0.6866938044033238}\n",
            "Epoch 20/20\n",
            "933/933 [==============================] - 2s 2ms/step - loss: 0.0120 - accuracy: 0.9931\n"
          ],
          "name": "stdout"
        },
        {
          "output_type": "stream",
          "text": [
            "评估中: 67it [00:03, 17.10it/s]\n"
          ],
          "name": "stderr"
        },
        {
          "output_type": "stream",
          "text": [
            "{'main': 0.6604479620580793, 'rouge-1': 0.6890717747427519, 'rouge-2': 0.5858707798372353, 'rouge-l': 0.7207132379365866, 'best': 0.6866938044033238}\n",
            "Epoch 1/20\n",
            "933/933 [==============================] - 2s 2ms/step - loss: 0.0165 - accuracy: 0.9911\n"
          ],
          "name": "stdout"
        },
        {
          "output_type": "stream",
          "text": [
            "评估中: 67it [00:04, 14.26it/s]\n"
          ],
          "name": "stderr"
        },
        {
          "output_type": "stream",
          "text": [
            "{'main': 0.6966291739857172, 'rouge-1': 0.7254063533998898, 'rouge-2': 0.6201380092547935, 'rouge-l': 0.7587317490095549, 'best': 0.6966291739857172}\n",
            "Epoch 2/20\n",
            "933/933 [==============================] - 2s 2ms/step - loss: 0.0150 - accuracy: 0.9918\n"
          ],
          "name": "stdout"
        },
        {
          "output_type": "stream",
          "text": [
            "评估中: 67it [00:04, 14.31it/s]\n"
          ],
          "name": "stderr"
        },
        {
          "output_type": "stream",
          "text": [
            "{'main': 0.6965034211458477, 'rouge-1': 0.7246435106155223, 'rouge-2': 0.6201771330032225, 'rouge-l': 0.7587596645536355, 'best': 0.6966291739857172}\n",
            "Epoch 3/20\n",
            "933/933 [==============================] - 2s 2ms/step - loss: 0.0132 - accuracy: 0.9926\n"
          ],
          "name": "stdout"
        },
        {
          "output_type": "stream",
          "text": [
            "评估中: 67it [00:04, 14.08it/s]\n"
          ],
          "name": "stderr"
        },
        {
          "output_type": "stream",
          "text": [
            "{'main': 0.69597531290932, 'rouge-1': 0.7239528987121312, 'rouge-2': 0.6196464675921535, 'rouge-l': 0.758315365325081, 'best': 0.6966291739857172}\n",
            "Epoch 4/20\n",
            "933/933 [==============================] - 2s 2ms/step - loss: 0.0122 - accuracy: 0.9933\n"
          ],
          "name": "stdout"
        },
        {
          "output_type": "stream",
          "text": [
            "评估中: 67it [00:08,  7.83it/s]\n"
          ],
          "name": "stderr"
        },
        {
          "output_type": "stream",
          "text": [
            "{'main': 0.695446995234, 'rouge-1': 0.7237401487084331, 'rouge-2': 0.6187648919624343, 'rouge-l': 0.7579825217683491, 'best': 0.6966291739857172}\n",
            "Epoch 5/20\n",
            "933/933 [==============================] - 2s 2ms/step - loss: 0.0112 - accuracy: 0.9935\n"
          ],
          "name": "stdout"
        },
        {
          "output_type": "stream",
          "text": [
            "评估中: 67it [00:04, 14.50it/s]\n"
          ],
          "name": "stderr"
        },
        {
          "output_type": "stream",
          "text": [
            "{'main': 0.697421642780022, 'rouge-1': 0.7258738873537295, 'rouge-2': 0.6212396425547126, 'rouge-l': 0.7593775207184777, 'best': 0.697421642780022}\n",
            "Epoch 6/20\n",
            "933/933 [==============================] - 2s 2ms/step - loss: 0.0117 - accuracy: 0.9934\n"
          ],
          "name": "stdout"
        },
        {
          "output_type": "stream",
          "text": [
            "评估中: 67it [00:04, 14.24it/s]\n"
          ],
          "name": "stderr"
        },
        {
          "output_type": "stream",
          "text": [
            "{'main': 0.6946921140242315, 'rouge-1': 0.722570079886062, 'rouge-2': 0.6182563998045066, 'rouge-l': 0.757188845313041, 'best': 0.697421642780022}\n",
            "Epoch 7/20\n",
            "933/933 [==============================] - 2s 2ms/step - loss: 0.0103 - accuracy: 0.9943\n"
          ],
          "name": "stdout"
        },
        {
          "output_type": "stream",
          "text": [
            "评估中: 67it [00:04, 14.08it/s]\n"
          ],
          "name": "stderr"
        },
        {
          "output_type": "stream",
          "text": [
            "{'main': 0.6962548531603554, 'rouge-1': 0.7241118889639363, 'rouge-2': 0.6197267479269645, 'rouge-l': 0.758854440491956, 'best': 0.697421642780022}\n",
            "Epoch 8/20\n",
            "933/933 [==============================] - 2s 2ms/step - loss: 0.0103 - accuracy: 0.9941\n"
          ],
          "name": "stdout"
        },
        {
          "output_type": "stream",
          "text": [
            "评估中: 67it [00:04, 14.17it/s]\n"
          ],
          "name": "stderr"
        },
        {
          "output_type": "stream",
          "text": [
            "{'main': 0.6956017029961282, 'rouge-1': 0.7237076376708749, 'rouge-2': 0.6194582958912235, 'rouge-l': 0.7576921427636598, 'best': 0.697421642780022}\n",
            "Epoch 9/20\n",
            "933/933 [==============================] - 2s 2ms/step - loss: 0.0095 - accuracy: 0.9944\n"
          ],
          "name": "stdout"
        },
        {
          "output_type": "stream",
          "text": [
            "评估中: 67it [00:04, 14.32it/s]\n"
          ],
          "name": "stderr"
        },
        {
          "output_type": "stream",
          "text": [
            "{'main': 0.6974469011981174, 'rouge-1': 0.7256188843455003, 'rouge-2': 0.6209188103400523, 'rouge-l': 0.7598890004824915, 'best': 0.6974469011981174}\n",
            "Epoch 10/20\n",
            "933/933 [==============================] - 2s 2ms/step - loss: 0.0089 - accuracy: 0.9948\n"
          ],
          "name": "stdout"
        },
        {
          "output_type": "stream",
          "text": [
            "评估中: 67it [00:04, 14.38it/s]\n"
          ],
          "name": "stderr"
        },
        {
          "output_type": "stream",
          "text": [
            "{'main': 0.6974152630668995, 'rouge-1': 0.7252673987908026, 'rouge-2': 0.6211947889568193, 'rouge-l': 0.7597096693150289, 'best': 0.6974469011981174}\n",
            "Epoch 11/20\n",
            "933/933 [==============================] - 2s 2ms/step - loss: 0.0087 - accuracy: 0.9951\n"
          ],
          "name": "stdout"
        },
        {
          "output_type": "stream",
          "text": [
            "评估中: 67it [00:04, 14.38it/s]\n"
          ],
          "name": "stderr"
        },
        {
          "output_type": "stream",
          "text": [
            "{'main': 0.6957274868454093, 'rouge-1': 0.7236351783562697, 'rouge-2': 0.6194031169815961, 'rouge-l': 0.7580980109537925, 'best': 0.6974469011981174}\n",
            "Epoch 12/20\n",
            "933/933 [==============================] - 2s 2ms/step - loss: 0.0084 - accuracy: 0.9951\n"
          ],
          "name": "stdout"
        },
        {
          "output_type": "stream",
          "text": [
            "评估中: 67it [00:04, 14.10it/s]\n"
          ],
          "name": "stderr"
        },
        {
          "output_type": "stream",
          "text": [
            "{'main': 0.6955096109072667, 'rouge-1': 0.7243890957587864, 'rouge-2': 0.6198965145902683, 'rouge-l': 0.7566829647985056, 'best': 0.6974469011981174}\n",
            "Epoch 13/20\n",
            "933/933 [==============================] - 2s 2ms/step - loss: 0.0084 - accuracy: 0.9951\n"
          ],
          "name": "stdout"
        },
        {
          "output_type": "stream",
          "text": [
            "评估中: 67it [00:04, 14.32it/s]\n"
          ],
          "name": "stderr"
        },
        {
          "output_type": "stream",
          "text": [
            "{'main': 0.692837269462029, 'rouge-1': 0.7210592477777567, 'rouge-2': 0.6163134779174965, 'rouge-l': 0.755250071848698, 'best': 0.6974469011981174}\n",
            "Epoch 14/20\n",
            "933/933 [==============================] - 2s 2ms/step - loss: 0.0088 - accuracy: 0.9951\n"
          ],
          "name": "stdout"
        },
        {
          "output_type": "stream",
          "text": [
            "评估中: 67it [00:04, 14.36it/s]\n"
          ],
          "name": "stderr"
        },
        {
          "output_type": "stream",
          "text": [
            "{'main': 0.6953595144167009, 'rouge-1': 0.7240811298628819, 'rouge-2': 0.6188825434929138, 'rouge-l': 0.7574756776173976, 'best': 0.6974469011981174}\n",
            "Epoch 15/20\n",
            "933/933 [==============================] - 2s 2ms/step - loss: 0.0083 - accuracy: 0.9952\n"
          ],
          "name": "stdout"
        },
        {
          "output_type": "stream",
          "text": [
            "评估中: 67it [00:04, 14.47it/s]\n"
          ],
          "name": "stderr"
        },
        {
          "output_type": "stream",
          "text": [
            "{'main': 0.6951136633261609, 'rouge-1': 0.7232592956270838, 'rouge-2': 0.6187563747344507, 'rouge-l': 0.75739813576741, 'best': 0.6974469011981174}\n",
            "Epoch 16/20\n",
            "933/933 [==============================] - 2s 2ms/step - loss: 0.0079 - accuracy: 0.9956\n"
          ],
          "name": "stdout"
        },
        {
          "output_type": "stream",
          "text": [
            "评估中: 67it [00:04, 14.14it/s]\n"
          ],
          "name": "stderr"
        },
        {
          "output_type": "stream",
          "text": [
            "{'main': 0.6958186664408208, 'rouge-1': 0.7242828061987326, 'rouge-2': 0.6197747348850063, 'rouge-l': 0.7576305281176791, 'best': 0.6974469011981174}\n",
            "Epoch 17/20\n",
            "933/933 [==============================] - 2s 2ms/step - loss: 0.0079 - accuracy: 0.9954\n"
          ],
          "name": "stdout"
        },
        {
          "output_type": "stream",
          "text": [
            "评估中: 67it [00:04, 14.48it/s]\n"
          ],
          "name": "stderr"
        },
        {
          "output_type": "stream",
          "text": [
            "{'main': 0.6912307982458434, 'rouge-1': 0.7202102727505427, 'rouge-2': 0.6149617417673691, 'rouge-l': 0.7530101174719683, 'best': 0.6974469011981174}\n",
            "Epoch 18/20\n",
            "933/933 [==============================] - 2s 2ms/step - loss: 0.0080 - accuracy: 0.9954\n"
          ],
          "name": "stdout"
        },
        {
          "output_type": "stream",
          "text": [
            "评估中: 67it [00:04, 14.42it/s]\n"
          ],
          "name": "stderr"
        },
        {
          "output_type": "stream",
          "text": [
            "{'main': 0.6963131884287272, 'rouge-1': 0.7239223215202618, 'rouge-2': 0.6197672911510378, 'rouge-l': 0.7590545191606495, 'best': 0.6974469011981174}\n",
            "Epoch 19/20\n",
            "933/933 [==============================] - 2s 2ms/step - loss: 0.0071 - accuracy: 0.9959\n"
          ],
          "name": "stdout"
        },
        {
          "output_type": "stream",
          "text": [
            "评估中: 67it [00:08,  7.54it/s]\n"
          ],
          "name": "stderr"
        },
        {
          "output_type": "stream",
          "text": [
            "{'main': 0.6954339139348503, 'rouge-1': 0.7242498452063042, 'rouge-2': 0.6199559484507456, 'rouge-l': 0.7565039137832286, 'best': 0.6974469011981174}\n",
            "Epoch 20/20\n",
            "933/933 [==============================] - 2s 2ms/step - loss: 0.0069 - accuracy: 0.9961\n"
          ],
          "name": "stdout"
        },
        {
          "output_type": "stream",
          "text": [
            "评估中: 67it [00:04, 14.54it/s]\n"
          ],
          "name": "stderr"
        },
        {
          "output_type": "stream",
          "text": [
            "{'main': 0.6979855540816465, 'rouge-1': 0.7266765175218439, 'rouge-2': 0.6223378574674182, 'rouge-l': 0.7592877689757765, 'best': 0.6979855540816465}\n",
            "Epoch 1/20\n",
            "933/933 [==============================] - 2s 2ms/step - loss: 0.0087 - accuracy: 0.9951\n"
          ],
          "name": "stdout"
        },
        {
          "output_type": "stream",
          "text": [
            "评估中: 67it [00:04, 13.73it/s]\n"
          ],
          "name": "stderr"
        },
        {
          "output_type": "stream",
          "text": [
            "{'main': 0.7068078240516422, 'rouge-1': 0.735966912528102, 'rouge-2': 0.6357127835076167, 'rouge-l': 0.7633233203574381, 'best': 0.7068078240516422}\n",
            "Epoch 2/20\n",
            "933/933 [==============================] - 2s 2ms/step - loss: 0.0087 - accuracy: 0.9952\n"
          ],
          "name": "stdout"
        },
        {
          "output_type": "stream",
          "text": [
            "评估中: 67it [00:04, 13.76it/s]\n"
          ],
          "name": "stderr"
        },
        {
          "output_type": "stream",
          "text": [
            "{'main': 0.7060969300679668, 'rouge-1': 0.7353203792101107, 'rouge-2': 0.6348868399697288, 'rouge-l': 0.7626952955951333, 'best': 0.7068078240516422}\n",
            "Epoch 3/20\n",
            "933/933 [==============================] - 2s 2ms/step - loss: 0.0078 - accuracy: 0.9957\n"
          ],
          "name": "stdout"
        },
        {
          "output_type": "stream",
          "text": [
            "评估中: 67it [00:04, 13.79it/s]\n"
          ],
          "name": "stderr"
        },
        {
          "output_type": "stream",
          "text": [
            "{'main': 0.7043711954317258, 'rouge-1': 0.734070715818955, 'rouge-2': 0.633034929911087, 'rouge-l': 0.7608577007587501, 'best': 0.7068078240516422}\n",
            "Epoch 4/20\n",
            "933/933 [==============================] - 2s 2ms/step - loss: 0.0075 - accuracy: 0.9957\n"
          ],
          "name": "stdout"
        },
        {
          "output_type": "stream",
          "text": [
            "评估中: 67it [00:04, 13.69it/s]\n"
          ],
          "name": "stderr"
        },
        {
          "output_type": "stream",
          "text": [
            "{'main': 0.7035806956050981, 'rouge-1': 0.7335160369200846, 'rouge-2': 0.6318343106926942, 'rouge-l': 0.7603594098600087, 'best': 0.7068078240516422}\n",
            "Epoch 5/20\n",
            "933/933 [==============================] - 2s 2ms/step - loss: 0.0072 - accuracy: 0.9959\n"
          ],
          "name": "stdout"
        },
        {
          "output_type": "stream",
          "text": [
            "评估中: 67it [00:04, 13.69it/s]\n"
          ],
          "name": "stderr"
        },
        {
          "output_type": "stream",
          "text": [
            "{'main': 0.7037877243568127, 'rouge-1': 0.733669760458052, 'rouge-2': 0.6322655853990218, 'rouge-l': 0.7603688452639843, 'best': 0.7068078240516422}\n",
            "Epoch 6/20\n",
            "933/933 [==============================] - 2s 2ms/step - loss: 0.0070 - accuracy: 0.9961\n"
          ],
          "name": "stdout"
        },
        {
          "output_type": "stream",
          "text": [
            "评估中: 67it [00:04, 13.76it/s]\n"
          ],
          "name": "stderr"
        },
        {
          "output_type": "stream",
          "text": [
            "{'main': 0.7039530604262642, 'rouge-1': 0.7337817350594399, 'rouge-2': 0.6326615876462441, 'rouge-l': 0.7603301958896971, 'best': 0.7068078240516422}\n",
            "Epoch 7/20\n",
            "933/933 [==============================] - 2s 2ms/step - loss: 0.0072 - accuracy: 0.9960\n"
          ],
          "name": "stdout"
        },
        {
          "output_type": "stream",
          "text": [
            "评估中: 67it [00:04, 13.68it/s]\n"
          ],
          "name": "stderr"
        },
        {
          "output_type": "stream",
          "text": [
            "{'main': 0.7035879230932697, 'rouge-1': 0.733505801343708, 'rouge-2': 0.6323652263562651, 'rouge-l': 0.7598516807050553, 'best': 0.7068078240516422}\n",
            "Epoch 8/20\n",
            "933/933 [==============================] - 2s 2ms/step - loss: 0.0063 - accuracy: 0.9963\n"
          ],
          "name": "stdout"
        },
        {
          "output_type": "stream",
          "text": [
            "评估中: 67it [00:04, 13.69it/s]\n"
          ],
          "name": "stderr"
        },
        {
          "output_type": "stream",
          "text": [
            "{'main': 0.7032113411512839, 'rouge-1': 0.7332425277626593, 'rouge-2': 0.6318660507672421, 'rouge-l': 0.7595410382296381, 'best': 0.7068078240516422}\n",
            "Epoch 9/20\n",
            "933/933 [==============================] - 2s 2ms/step - loss: 0.0060 - accuracy: 0.9964\n"
          ],
          "name": "stdout"
        },
        {
          "output_type": "stream",
          "text": [
            "评估中: 67it [00:04, 13.72it/s]\n"
          ],
          "name": "stderr"
        },
        {
          "output_type": "stream",
          "text": [
            "{'main': 0.7039559959287872, 'rouge-1': 0.7341035283234028, 'rouge-2': 0.632754781663037, 'rouge-l': 0.7600834439972299, 'best': 0.7068078240516422}\n",
            "Epoch 10/20\n",
            "933/933 [==============================] - 2s 2ms/step - loss: 0.0061 - accuracy: 0.9964\n"
          ],
          "name": "stdout"
        },
        {
          "output_type": "stream",
          "text": [
            "评估中: 67it [00:04, 13.60it/s]\n"
          ],
          "name": "stderr"
        },
        {
          "output_type": "stream",
          "text": [
            "{'main': 0.7037276182736076, 'rouge-1': 0.7338333318896795, 'rouge-2': 0.6326945423840497, 'rouge-l': 0.7597078373551299, 'best': 0.7068078240516422}\n",
            "Epoch 11/20\n",
            "933/933 [==============================] - 2s 2ms/step - loss: 0.0061 - accuracy: 0.9965\n"
          ],
          "name": "stdout"
        },
        {
          "output_type": "stream",
          "text": [
            "评估中: 67it [00:04, 13.67it/s]\n"
          ],
          "name": "stderr"
        },
        {
          "output_type": "stream",
          "text": [
            "{'main': 0.7014060813750549, 'rouge-1': 0.7305017671606685, 'rouge-2': 0.6295962024864569, 'rouge-l': 0.7586681173708464, 'best': 0.7068078240516422}\n",
            "Epoch 12/20\n",
            "933/933 [==============================] - 2s 2ms/step - loss: 0.0066 - accuracy: 0.9962\n"
          ],
          "name": "stdout"
        },
        {
          "output_type": "stream",
          "text": [
            "评估中: 67it [00:04, 13.80it/s]\n"
          ],
          "name": "stderr"
        },
        {
          "output_type": "stream",
          "text": [
            "{'main': 0.7027052854279366, 'rouge-1': 0.7320745868178788, 'rouge-2': 0.6314353496028701, 'rouge-l': 0.7592905705580323, 'best': 0.7068078240516422}\n",
            "Epoch 13/20\n",
            "933/933 [==============================] - 2s 2ms/step - loss: 0.0060 - accuracy: 0.9966\n"
          ],
          "name": "stdout"
        },
        {
          "output_type": "stream",
          "text": [
            "评估中: 67it [00:04, 13.74it/s]\n"
          ],
          "name": "stderr"
        },
        {
          "output_type": "stream",
          "text": [
            "{'main': 0.702402614308589, 'rouge-1': 0.731940944669737, 'rouge-2': 0.631214163124824, 'rouge-l': 0.7588219003117804, 'best': 0.7068078240516422}\n",
            "Epoch 14/20\n",
            "933/933 [==============================] - 2s 2ms/step - loss: 0.0060 - accuracy: 0.9965\n"
          ],
          "name": "stdout"
        },
        {
          "output_type": "stream",
          "text": [
            "评估中: 67it [00:09,  7.35it/s]\n"
          ],
          "name": "stderr"
        },
        {
          "output_type": "stream",
          "text": [
            "{'main': 0.7032725869192892, 'rouge-1': 0.7325050697559751, 'rouge-2': 0.6321056023820679, 'rouge-l': 0.7598233300381679, 'best': 0.7068078240516422}\n",
            "Epoch 15/20\n",
            "933/933 [==============================] - 2s 2ms/step - loss: 0.0058 - accuracy: 0.9966\n"
          ],
          "name": "stdout"
        },
        {
          "output_type": "stream",
          "text": [
            "评估中: 67it [00:04, 14.15it/s]\n"
          ],
          "name": "stderr"
        },
        {
          "output_type": "stream",
          "text": [
            "{'main': 0.7021680528358488, 'rouge-1': 0.7317820794648185, 'rouge-2': 0.630954665692241, 'rouge-l': 0.7585744266649719, 'best': 0.7068078240516422}\n",
            "Epoch 16/20\n",
            "933/933 [==============================] - 2s 2ms/step - loss: 0.0051 - accuracy: 0.9969\n"
          ],
          "name": "stdout"
        },
        {
          "output_type": "stream",
          "text": [
            "评估中: 67it [00:04, 13.83it/s]\n"
          ],
          "name": "stderr"
        },
        {
          "output_type": "stream",
          "text": [
            "{'main': 0.7022147574223565, 'rouge-1': 0.7318809840424444, 'rouge-2': 0.6309740545883786, 'rouge-l': 0.7586223469462906, 'best': 0.7068078240516422}\n",
            "Epoch 17/20\n",
            "933/933 [==============================] - 2s 2ms/step - loss: 0.0052 - accuracy: 0.9969\n"
          ],
          "name": "stdout"
        },
        {
          "output_type": "stream",
          "text": [
            "评估中: 67it [00:04, 13.79it/s]\n"
          ],
          "name": "stderr"
        },
        {
          "output_type": "stream",
          "text": [
            "{'main': 0.7025039497668236, 'rouge-1': 0.7319487371011554, 'rouge-2': 0.6312501989038211, 'rouge-l': 0.7590353069626609, 'best': 0.7068078240516422}\n",
            "Epoch 18/20\n",
            "933/933 [==============================] - 2s 2ms/step - loss: 0.0055 - accuracy: 0.9968\n"
          ],
          "name": "stdout"
        },
        {
          "output_type": "stream",
          "text": [
            "评估中: 67it [00:04, 13.78it/s]\n"
          ],
          "name": "stderr"
        },
        {
          "output_type": "stream",
          "text": [
            "{'main': 0.7026151152148278, 'rouge-1': 0.7323006980834783, 'rouge-2': 0.6312245603569014, 'rouge-l': 0.7591628786384294, 'best': 0.7068078240516422}\n",
            "Epoch 19/20\n",
            "933/933 [==============================] - 2s 2ms/step - loss: 0.0055 - accuracy: 0.9968\n"
          ],
          "name": "stdout"
        },
        {
          "output_type": "stream",
          "text": [
            "评估中: 67it [00:04, 13.92it/s]\n"
          ],
          "name": "stderr"
        },
        {
          "output_type": "stream",
          "text": [
            "{'main': 0.7024784369622707, 'rouge-1': 0.7321030355523307, 'rouge-2': 0.6313995411763557, 'rouge-l': 0.7587450334531565, 'best': 0.7068078240516422}\n",
            "Epoch 20/20\n",
            "933/933 [==============================] - 2s 2ms/step - loss: 0.0053 - accuracy: 0.9970\n"
          ],
          "name": "stdout"
        },
        {
          "output_type": "stream",
          "text": [
            "评估中: 67it [00:04, 13.74it/s]\n"
          ],
          "name": "stderr"
        },
        {
          "output_type": "stream",
          "text": [
            "{'main': 0.7022503222162203, 'rouge-1': 0.7319340256993631, 'rouge-2': 0.6310073921581342, 'rouge-l': 0.7586514005327352, 'best': 0.7068078240516422}\n",
            "Epoch 1/20\n",
            "933/933 [==============================] - 2s 2ms/step - loss: 0.0068 - accuracy: 0.9962\n"
          ],
          "name": "stdout"
        },
        {
          "output_type": "stream",
          "text": [
            "评估中: 67it [00:04, 13.86it/s]\n"
          ],
          "name": "stderr"
        },
        {
          "output_type": "stream",
          "text": [
            "{'main': 0.7075341363900433, 'rouge-1': 0.7368610936725899, 'rouge-2': 0.628509962410309, 'rouge-l': 0.7718948317285045, 'best': 0.7075341363900433}\n",
            "Epoch 2/20\n",
            "933/933 [==============================] - 2s 2ms/step - loss: 0.0061 - accuracy: 0.9965\n"
          ],
          "name": "stdout"
        },
        {
          "output_type": "stream",
          "text": [
            "评估中: 67it [00:04, 14.23it/s]\n"
          ],
          "name": "stderr"
        },
        {
          "output_type": "stream",
          "text": [
            "{'main': 0.7085738511551624, 'rouge-1': 0.7383911885911849, 'rouge-2': 0.6298918128182487, 'rouge-l': 0.772347220774065, 'best': 0.7085738511551624}\n",
            "Epoch 3/20\n",
            "933/933 [==============================] - 2s 2ms/step - loss: 0.0057 - accuracy: 0.9968\n"
          ],
          "name": "stdout"
        },
        {
          "output_type": "stream",
          "text": [
            "评估中: 67it [00:04, 13.96it/s]\n"
          ],
          "name": "stderr"
        },
        {
          "output_type": "stream",
          "text": [
            "{'main': 0.707160046702777, 'rouge-1': 0.73761469097413, 'rouge-2': 0.6282948661648703, 'rouge-l': 0.7707979051050079, 'best': 0.7085738511551624}\n",
            "Epoch 4/20\n",
            "933/933 [==============================] - 2s 2ms/step - loss: 0.0056 - accuracy: 0.9966\n"
          ],
          "name": "stdout"
        },
        {
          "output_type": "stream",
          "text": [
            "评估中: 67it [00:04, 14.17it/s]\n"
          ],
          "name": "stderr"
        },
        {
          "output_type": "stream",
          "text": [
            "{'main': 0.7075492813362589, 'rouge-1': 0.7376731377422561, 'rouge-2': 0.6286732837085188, 'rouge-l': 0.7713633507610008, 'best': 0.7085738511551624}\n",
            "Epoch 5/20\n",
            "933/933 [==============================] - 2s 2ms/step - loss: 0.0057 - accuracy: 0.9969\n"
          ],
          "name": "stdout"
        },
        {
          "output_type": "stream",
          "text": [
            "评估中: 67it [00:04, 14.05it/s]\n"
          ],
          "name": "stderr"
        },
        {
          "output_type": "stream",
          "text": [
            "{'main': 0.7070929619333223, 'rouge-1': 0.7373250630965482, 'rouge-2': 0.6282732778939618, 'rouge-l': 0.7707965953910701, 'best': 0.7085738511551624}\n",
            "Epoch 6/20\n",
            "933/933 [==============================] - 2s 2ms/step - loss: 0.0055 - accuracy: 0.9968\n"
          ],
          "name": "stdout"
        },
        {
          "output_type": "stream",
          "text": [
            "评估中: 67it [00:04, 14.02it/s]\n"
          ],
          "name": "stderr"
        },
        {
          "output_type": "stream",
          "text": [
            "{'main': 0.7070766777750858, 'rouge-1': 0.7373734631371414, 'rouge-2': 0.628409759105318, 'rouge-l': 0.7705952037638263, 'best': 0.7085738511551624}\n",
            "Epoch 7/20\n",
            "933/933 [==============================] - 2s 2ms/step - loss: 0.0052 - accuracy: 0.9969\n"
          ],
          "name": "stdout"
        },
        {
          "output_type": "stream",
          "text": [
            "评估中: 67it [00:04, 14.04it/s]\n"
          ],
          "name": "stderr"
        },
        {
          "output_type": "stream",
          "text": [
            "{'main': 0.7064397681851603, 'rouge-1': 0.7371993714898032, 'rouge-2': 0.6278482138355463, 'rouge-l': 0.7696515208824533, 'best': 0.7085738511551624}\n",
            "Epoch 8/20\n",
            "933/933 [==============================] - 2s 2ms/step - loss: 0.0061 - accuracy: 0.9966\n"
          ],
          "name": "stdout"
        },
        {
          "output_type": "stream",
          "text": [
            "评估中: 67it [00:04, 13.90it/s]\n"
          ],
          "name": "stderr"
        },
        {
          "output_type": "stream",
          "text": [
            "{'main': 0.7067675938177956, 'rouge-1': 0.7371408295722348, 'rouge-2': 0.6279486972143307, 'rouge-l': 0.7703998725440416, 'best': 0.7085738511551624}\n",
            "Epoch 9/20\n",
            "933/933 [==============================] - 2s 2ms/step - loss: 0.0054 - accuracy: 0.9968\n"
          ],
          "name": "stdout"
        },
        {
          "output_type": "stream",
          "text": [
            "评估中: 67it [00:08,  7.53it/s]\n"
          ],
          "name": "stderr"
        },
        {
          "output_type": "stream",
          "text": [
            "{'main': 0.7067717130280312, 'rouge-1': 0.7372144019419894, 'rouge-2': 0.6279745305095065, 'rouge-l': 0.7703475510895773, 'best': 0.7085738511551624}\n",
            "Epoch 10/20\n",
            "933/933 [==============================] - 2s 2ms/step - loss: 0.0054 - accuracy: 0.9970\n"
          ],
          "name": "stdout"
        },
        {
          "output_type": "stream",
          "text": [
            "评估中: 67it [00:04, 14.48it/s]\n"
          ],
          "name": "stderr"
        },
        {
          "output_type": "stream",
          "text": [
            "{'main': 0.7072246742020055, 'rouge-1': 0.7376010532904989, 'rouge-2': 0.6281927319747784, 'rouge-l': 0.7710684268849862, 'best': 0.7085738511551624}\n",
            "Epoch 11/20\n",
            "933/933 [==============================] - 2s 2ms/step - loss: 0.0049 - accuracy: 0.9973\n"
          ],
          "name": "stdout"
        },
        {
          "output_type": "stream",
          "text": [
            "评估中: 67it [00:04, 13.77it/s]\n"
          ],
          "name": "stderr"
        },
        {
          "output_type": "stream",
          "text": [
            "{'main': 0.7064917440868221, 'rouge-1': 0.7367915382971963, 'rouge-2': 0.6274146826511456, 'rouge-l': 0.7704189084173119, 'best': 0.7085738511551624}\n",
            "Epoch 12/20\n",
            "933/933 [==============================] - 2s 2ms/step - loss: 0.0048 - accuracy: 0.9972\n"
          ],
          "name": "stdout"
        },
        {
          "output_type": "stream",
          "text": [
            "评估中: 67it [00:04, 13.79it/s]\n"
          ],
          "name": "stderr"
        },
        {
          "output_type": "stream",
          "text": [
            "{'main': 0.7061874641054924, 'rouge-1': 0.7367607253121131, 'rouge-2': 0.6273923301246673, 'rouge-l': 0.7696959674830077, 'best': 0.7085738511551624}\n",
            "Epoch 13/20\n",
            "933/933 [==============================] - 2s 2ms/step - loss: 0.0054 - accuracy: 0.9969\n"
          ],
          "name": "stdout"
        },
        {
          "output_type": "stream",
          "text": [
            "评估中: 67it [00:04, 14.09it/s]\n"
          ],
          "name": "stderr"
        },
        {
          "output_type": "stream",
          "text": [
            "{'main': 0.7048959359839356, 'rouge-1': 0.7351515108436483, 'rouge-2': 0.6256834320771473, 'rouge-l': 0.7689806524608683, 'best': 0.7085738511551624}\n",
            "Epoch 14/20\n",
            "933/933 [==============================] - 2s 2ms/step - loss: 0.0049 - accuracy: 0.9971\n"
          ],
          "name": "stdout"
        },
        {
          "output_type": "stream",
          "text": [
            "评估中: 67it [00:04, 14.10it/s]\n"
          ],
          "name": "stderr"
        },
        {
          "output_type": "stream",
          "text": [
            "{'main': 0.7071947917207932, 'rouge-1': 0.7373062049534332, 'rouge-2': 0.6282529242285355, 'rouge-l': 0.7710809525967312, 'best': 0.7085738511551624}\n",
            "Epoch 15/20\n",
            "933/933 [==============================] - 2s 2ms/step - loss: 0.0047 - accuracy: 0.9974\n"
          ],
          "name": "stdout"
        },
        {
          "output_type": "stream",
          "text": [
            "评估中: 67it [00:04, 14.13it/s]\n"
          ],
          "name": "stderr"
        },
        {
          "output_type": "stream",
          "text": [
            "{'main': 0.7061322089965316, 'rouge-1': 0.7363097170533982, 'rouge-2': 0.6272032996171587, 'rouge-l': 0.7699723643474714, 'best': 0.7085738511551624}\n",
            "Epoch 16/20\n",
            "933/933 [==============================] - 2s 2ms/step - loss: 0.0047 - accuracy: 0.9974\n"
          ],
          "name": "stdout"
        },
        {
          "output_type": "stream",
          "text": [
            "评估中: 67it [00:04, 14.09it/s]\n"
          ],
          "name": "stderr"
        },
        {
          "output_type": "stream",
          "text": [
            "{'main': 0.7064130612915049, 'rouge-1': 0.7367920303608492, 'rouge-2': 0.6273339639157698, 'rouge-l': 0.7703026741325684, 'best': 0.7085738511551624}\n",
            "Epoch 17/20\n",
            "933/933 [==============================] - 2s 2ms/step - loss: 0.0044 - accuracy: 0.9975\n"
          ],
          "name": "stdout"
        },
        {
          "output_type": "stream",
          "text": [
            "评估中: 67it [00:04, 14.25it/s]\n"
          ],
          "name": "stderr"
        },
        {
          "output_type": "stream",
          "text": [
            "{'main': 0.7073704137809006, 'rouge-1': 0.73793967523504, 'rouge-2': 0.6284865801084156, 'rouge-l': 0.7709696167263159, 'best': 0.7085738511551624}\n",
            "Epoch 18/20\n",
            "933/933 [==============================] - 2s 2ms/step - loss: 0.0045 - accuracy: 0.9974\n"
          ],
          "name": "stdout"
        },
        {
          "output_type": "stream",
          "text": [
            "评估中: 67it [00:04, 14.19it/s]\n"
          ],
          "name": "stderr"
        },
        {
          "output_type": "stream",
          "text": [
            "{'main': 0.70711056755297, 'rouge-1': 0.73736523932274, 'rouge-2': 0.6280900112384435, 'rouge-l': 0.7710037879826117, 'best': 0.7085738511551624}\n",
            "Epoch 19/20\n",
            "933/933 [==============================] - 2s 2ms/step - loss: 0.0044 - accuracy: 0.9976\n"
          ],
          "name": "stdout"
        },
        {
          "output_type": "stream",
          "text": [
            "评估中: 67it [00:04, 14.25it/s]\n"
          ],
          "name": "stderr"
        },
        {
          "output_type": "stream",
          "text": [
            "{'main': 0.7068738339833747, 'rouge-1': 0.737370649755301, 'rouge-2': 0.627983697540418, 'rouge-l': 0.7705155625403689, 'best': 0.7085738511551624}\n",
            "Epoch 20/20\n",
            "933/933 [==============================] - 2s 2ms/step - loss: 0.0046 - accuracy: 0.9973\n"
          ],
          "name": "stdout"
        },
        {
          "output_type": "stream",
          "text": [
            "评估中: 67it [00:04, 14.18it/s]\n"
          ],
          "name": "stderr"
        },
        {
          "output_type": "stream",
          "text": [
            "{'main': 0.707019444094816, 'rouge-1': 0.737427057781054, 'rouge-2': 0.6281119153496753, 'rouge-l': 0.7707231659968382, 'best': 0.7085738511551624}\n",
            "Epoch 1/20\n",
            "933/933 [==============================] - 2s 2ms/step - loss: 0.0044 - accuracy: 0.9976\n"
          ],
          "name": "stdout"
        },
        {
          "output_type": "stream",
          "text": [
            "评估中: 67it [00:05, 13.36it/s]\n"
          ],
          "name": "stderr"
        },
        {
          "output_type": "stream",
          "text": [
            "{'main': 0.7168701713661904, 'rouge-1': 0.7512883707484579, 'rouge-2': 0.6457583752375008, 'rouge-l': 0.7707728678037467, 'best': 0.7168701713661904}\n",
            "Epoch 2/20\n",
            "933/933 [==============================] - 2s 2ms/step - loss: 0.0046 - accuracy: 0.9972\n"
          ],
          "name": "stdout"
        },
        {
          "output_type": "stream",
          "text": [
            "评估中: 67it [00:05, 13.35it/s]"
          ],
          "name": "stderr"
        },
        {
          "output_type": "stream",
          "text": [
            "{'main': 0.7164571653664227, 'rouge-1': 0.7508376511607661, 'rouge-2': 0.6451654600148818, 'rouge-l': 0.7705586278207919, 'best': 0.7168701713661904}\n",
            "Epoch 3/20\n",
            "\r 64/933 [=>............................] - ETA: 2s - loss: 0.0043 - accuracy: 0.9974"
          ],
          "name": "stdout"
        },
        {
          "output_type": "stream",
          "text": [
            "\n"
          ],
          "name": "stderr"
        },
        {
          "output_type": "stream",
          "text": [
            "933/933 [==============================] - 2s 2ms/step - loss: 0.0048 - accuracy: 0.9971\n"
          ],
          "name": "stdout"
        },
        {
          "output_type": "stream",
          "text": [
            "评估中: 67it [00:09,  7.36it/s]"
          ],
          "name": "stderr"
        },
        {
          "output_type": "stream",
          "text": [
            "{'main': 0.7161486655025446, 'rouge-1': 0.7512472898008498, 'rouge-2': 0.6451979362665168, 'rouge-l': 0.76955008258942, 'best': 0.7168701713661904}\n",
            "Epoch 4/20\n",
            "\r 64/933 [=>............................] - ETA: 2s - loss: 0.0048 - accuracy: 0.9969"
          ],
          "name": "stdout"
        },
        {
          "output_type": "stream",
          "text": [
            "\n"
          ],
          "name": "stderr"
        },
        {
          "output_type": "stream",
          "text": [
            "933/933 [==============================] - 2s 2ms/step - loss: 0.0046 - accuracy: 0.9974\n"
          ],
          "name": "stdout"
        },
        {
          "output_type": "stream",
          "text": [
            "评估中: 67it [00:04, 14.07it/s]\n"
          ],
          "name": "stderr"
        },
        {
          "output_type": "stream",
          "text": [
            "{'main': 0.715617505903297, 'rouge-1': 0.7508566683519684, 'rouge-2': 0.6447290685583132, 'rouge-l': 0.7688863620239452, 'best': 0.7168701713661904}\n",
            "Epoch 5/20\n",
            "933/933 [==============================] - 2s 2ms/step - loss: 0.0045 - accuracy: 0.9974\n"
          ],
          "name": "stdout"
        },
        {
          "output_type": "stream",
          "text": [
            "评估中: 67it [00:05, 13.33it/s]"
          ],
          "name": "stderr"
        },
        {
          "output_type": "stream",
          "text": [
            "{'main': 0.7160902334867667, 'rouge-1': 0.7508743766964545, 'rouge-2': 0.6446459144378609, 'rouge-l': 0.7701424809308288, 'best': 0.7168701713661904}\n",
            "Epoch 6/20\n",
            "\r 64/933 [=>............................] - ETA: 2s - loss: 0.0053 - accuracy: 0.9967"
          ],
          "name": "stdout"
        },
        {
          "output_type": "stream",
          "text": [
            "\n"
          ],
          "name": "stderr"
        },
        {
          "output_type": "stream",
          "text": [
            "933/933 [==============================] - 2s 2ms/step - loss: 0.0050 - accuracy: 0.9971\n"
          ],
          "name": "stdout"
        },
        {
          "output_type": "stream",
          "text": [
            "评估中: 67it [00:04, 13.55it/s]"
          ],
          "name": "stderr"
        },
        {
          "output_type": "stream",
          "text": [
            "{'main': 0.7160467652160534, 'rouge-1': 0.7507585783807582, 'rouge-2': 0.6447642621610193, 'rouge-l': 0.7699733616887351, 'best': 0.7168701713661904}\n",
            "Epoch 7/20\n",
            "\r 64/933 [=>............................] - ETA: 2s - loss: 0.0042 - accuracy: 0.9978"
          ],
          "name": "stdout"
        },
        {
          "output_type": "stream",
          "text": [
            "\n"
          ],
          "name": "stderr"
        },
        {
          "output_type": "stream",
          "text": [
            "933/933 [==============================] - 2s 2ms/step - loss: 0.0049 - accuracy: 0.9973\n"
          ],
          "name": "stdout"
        },
        {
          "output_type": "stream",
          "text": [
            "评估中: 67it [00:04, 13.46it/s]"
          ],
          "name": "stderr"
        },
        {
          "output_type": "stream",
          "text": [
            "{'main': 0.7161244791679428, 'rouge-1': 0.7508397558149845, 'rouge-2': 0.6449511765607012, 'rouge-l': 0.7699401434516635, 'best': 0.7168701713661904}\n",
            "Epoch 8/20\n",
            "\r 64/933 [=>............................] - ETA: 2s - loss: 0.0031 - accuracy: 0.9978"
          ],
          "name": "stdout"
        },
        {
          "output_type": "stream",
          "text": [
            "\n"
          ],
          "name": "stderr"
        },
        {
          "output_type": "stream",
          "text": [
            "933/933 [==============================] - 2s 2ms/step - loss: 0.0046 - accuracy: 0.9974\n"
          ],
          "name": "stdout"
        },
        {
          "output_type": "stream",
          "text": [
            "评估中: 67it [00:05, 13.36it/s]"
          ],
          "name": "stderr"
        },
        {
          "output_type": "stream",
          "text": [
            "{'main': 0.716220500416017, 'rouge-1': 0.7511027525576134, 'rouge-2': 0.6451359083715767, 'rouge-l': 0.769863966389659, 'best': 0.7168701713661904}\n",
            "Epoch 9/20\n",
            "\r 64/933 [=>............................] - ETA: 2s - loss: 0.0031 - accuracy: 0.9983"
          ],
          "name": "stdout"
        },
        {
          "output_type": "stream",
          "text": [
            "\n"
          ],
          "name": "stderr"
        },
        {
          "output_type": "stream",
          "text": [
            "933/933 [==============================] - 2s 2ms/step - loss: 0.0043 - accuracy: 0.9975\n"
          ],
          "name": "stdout"
        },
        {
          "output_type": "stream",
          "text": [
            "评估中: 67it [00:04, 13.47it/s]"
          ],
          "name": "stderr"
        },
        {
          "output_type": "stream",
          "text": [
            "{'main': 0.7161388146717244, 'rouge-1': 0.7506259712262772, 'rouge-2': 0.64481039370763, 'rouge-l': 0.7702236573585424, 'best': 0.7168701713661904}\n",
            "Epoch 10/20\n",
            "\r 64/933 [=>............................] - ETA: 2s - loss: 0.0049 - accuracy: 0.9972"
          ],
          "name": "stdout"
        },
        {
          "output_type": "stream",
          "text": [
            "\n"
          ],
          "name": "stderr"
        },
        {
          "output_type": "stream",
          "text": [
            "933/933 [==============================] - 2s 2ms/step - loss: 0.0043 - accuracy: 0.9975\n"
          ],
          "name": "stdout"
        },
        {
          "output_type": "stream",
          "text": [
            "评估中: 67it [00:04, 13.47it/s]"
          ],
          "name": "stderr"
        },
        {
          "output_type": "stream",
          "text": [
            "{'main': 0.7156535540462453, 'rouge-1': 0.7506162188541842, 'rouge-2': 0.6442648255264088, 'rouge-l': 0.7695609501621128, 'best': 0.7168701713661904}\n",
            "Epoch 11/20\n",
            "\r 64/933 [=>............................] - ETA: 2s - loss: 0.0052 - accuracy: 0.9973"
          ],
          "name": "stdout"
        },
        {
          "output_type": "stream",
          "text": [
            "\n"
          ],
          "name": "stderr"
        },
        {
          "output_type": "stream",
          "text": [
            "933/933 [==============================] - 2s 2ms/step - loss: 0.0044 - accuracy: 0.9974\n"
          ],
          "name": "stdout"
        },
        {
          "output_type": "stream",
          "text": [
            "评估中: 67it [00:05, 13.32it/s]"
          ],
          "name": "stderr"
        },
        {
          "output_type": "stream",
          "text": [
            "{'main': 0.7149584607172706, 'rouge-1': 0.749903085639408, 'rouge-2': 0.6436312264652537, 'rouge-l': 0.7688133825082192, 'best': 0.7168701713661904}\n",
            "Epoch 12/20\n",
            "\r 64/933 [=>............................] - ETA: 2s - loss: 0.0054 - accuracy: 0.9960"
          ],
          "name": "stdout"
        },
        {
          "output_type": "stream",
          "text": [
            "\n"
          ],
          "name": "stderr"
        },
        {
          "output_type": "stream",
          "text": [
            "933/933 [==============================] - 2s 2ms/step - loss: 0.0037 - accuracy: 0.9978\n"
          ],
          "name": "stdout"
        },
        {
          "output_type": "stream",
          "text": [
            "评估中: 67it [00:04, 13.45it/s]"
          ],
          "name": "stderr"
        },
        {
          "output_type": "stream",
          "text": [
            "{'main': 0.7152573836312054, 'rouge-1': 0.7503342980443074, 'rouge-2': 0.6439824800139569, 'rouge-l': 0.7689938300419029, 'best': 0.7168701713661904}\n",
            "Epoch 13/20\n",
            "\r 64/933 [=>............................] - ETA: 2s - loss: 0.0029 - accuracy: 0.9981"
          ],
          "name": "stdout"
        },
        {
          "output_type": "stream",
          "text": [
            "\n"
          ],
          "name": "stderr"
        },
        {
          "output_type": "stream",
          "text": [
            "933/933 [==============================] - 2s 2ms/step - loss: 0.0042 - accuracy: 0.9976\n"
          ],
          "name": "stdout"
        },
        {
          "output_type": "stream",
          "text": [
            "评估中: 67it [00:05, 13.06it/s]\n"
          ],
          "name": "stderr"
        },
        {
          "output_type": "stream",
          "text": [
            "{'main': 0.7158849334761482, 'rouge-1': 0.7506431049990255, 'rouge-2': 0.6445871837715789, 'rouge-l': 0.769803597419279, 'best': 0.7168701713661904}\n",
            "Epoch 14/20\n",
            "933/933 [==============================] - 2s 2ms/step - loss: 0.0041 - accuracy: 0.9977\n"
          ],
          "name": "stdout"
        },
        {
          "output_type": "stream",
          "text": [
            "评估中: 67it [00:05, 13.21it/s]"
          ],
          "name": "stderr"
        },
        {
          "output_type": "stream",
          "text": [
            "{'main': 0.7156853724157592, 'rouge-1': 0.750251349427401, 'rouge-2': 0.644243857735057, 'rouge-l': 0.7698438985906408, 'best': 0.7168701713661904}\n",
            "Epoch 15/20\n",
            "\r 64/933 [=>............................] - ETA: 2s - loss: 0.0031 - accuracy: 0.9981"
          ],
          "name": "stdout"
        },
        {
          "output_type": "stream",
          "text": [
            "\n"
          ],
          "name": "stderr"
        },
        {
          "output_type": "stream",
          "text": [
            "933/933 [==============================] - 2s 2ms/step - loss: 0.0039 - accuracy: 0.9978\n"
          ],
          "name": "stdout"
        },
        {
          "output_type": "stream",
          "text": [
            "评估中: 67it [00:05, 13.38it/s]"
          ],
          "name": "stderr"
        },
        {
          "output_type": "stream",
          "text": [
            "{'main': 0.7157463832987208, 'rouge-1': 0.7504485235941393, 'rouge-2': 0.6443545293806234, 'rouge-l': 0.7697871670691091, 'best': 0.7168701713661904}\n",
            "Epoch 16/20\n",
            "\r 64/933 [=>............................] - ETA: 2s - loss: 0.0043 - accuracy: 0.9974"
          ],
          "name": "stdout"
        },
        {
          "output_type": "stream",
          "text": [
            "\n"
          ],
          "name": "stderr"
        },
        {
          "output_type": "stream",
          "text": [
            "933/933 [==============================] - 2s 2ms/step - loss: 0.0040 - accuracy: 0.9977\n"
          ],
          "name": "stdout"
        },
        {
          "output_type": "stream",
          "text": [
            "评估中: 67it [00:05, 13.27it/s]"
          ],
          "name": "stderr"
        },
        {
          "output_type": "stream",
          "text": [
            "{'main': 0.7158592137328263, 'rouge-1': 0.7502779306304088, 'rouge-2': 0.6442993412214516, 'rouge-l': 0.7702097277954101, 'best': 0.7168701713661904}\n",
            "Epoch 17/20\n",
            "\r 64/933 [=>............................] - ETA: 2s - loss: 0.0026 - accuracy: 0.9987"
          ],
          "name": "stdout"
        },
        {
          "output_type": "stream",
          "text": [
            "\n"
          ],
          "name": "stderr"
        },
        {
          "output_type": "stream",
          "text": [
            "933/933 [==============================] - 2s 2ms/step - loss: 0.0042 - accuracy: 0.9977\n"
          ],
          "name": "stdout"
        },
        {
          "output_type": "stream",
          "text": [
            "评估中: 67it [00:05, 13.22it/s]"
          ],
          "name": "stderr"
        },
        {
          "output_type": "stream",
          "text": [
            "{'main': 0.7153842456964726, 'rouge-1': 0.7499339556018608, 'rouge-2': 0.643894739555647, 'rouge-l': 0.7695988968846043, 'best': 0.7168701713661904}\n",
            "Epoch 18/20\n",
            "\r 64/933 [=>............................] - ETA: 2s - loss: 0.0044 - accuracy: 0.9973"
          ],
          "name": "stdout"
        },
        {
          "output_type": "stream",
          "text": [
            "\n"
          ],
          "name": "stderr"
        },
        {
          "output_type": "stream",
          "text": [
            "933/933 [==============================] - 2s 2ms/step - loss: 0.0039 - accuracy: 0.9977\n"
          ],
          "name": "stdout"
        },
        {
          "output_type": "stream",
          "text": [
            "评估中: 67it [00:09,  7.17it/s]\n"
          ],
          "name": "stderr"
        },
        {
          "output_type": "stream",
          "text": [
            "{'main': 0.7152922401162403, 'rouge-1': 0.7500585527255497, 'rouge-2': 0.6438998416238618, 'rouge-l': 0.7693014823039643, 'best': 0.7168701713661904}\n",
            "Epoch 19/20\n",
            "933/933 [==============================] - 2s 2ms/step - loss: 0.0035 - accuracy: 0.9979\n"
          ],
          "name": "stdout"
        },
        {
          "output_type": "stream",
          "text": [
            "评估中: 67it [00:04, 14.02it/s]"
          ],
          "name": "stderr"
        },
        {
          "output_type": "stream",
          "text": [
            "{'main': 0.7152974469450947, 'rouge-1': 0.7510894073834153, 'rouge-2': 0.6441633604057219, 'rouge-l': 0.768535553265307, 'best': 0.7168701713661904}\n",
            "Epoch 20/20\n",
            "\r 64/933 [=>............................] - ETA: 2s - loss: 0.0033 - accuracy: 0.9980"
          ],
          "name": "stdout"
        },
        {
          "output_type": "stream",
          "text": [
            "\n"
          ],
          "name": "stderr"
        },
        {
          "output_type": "stream",
          "text": [
            "933/933 [==============================] - 2s 2ms/step - loss: 0.0038 - accuracy: 0.9978\n"
          ],
          "name": "stdout"
        },
        {
          "output_type": "stream",
          "text": [
            "评估中: 67it [00:05, 13.37it/s]\n"
          ],
          "name": "stderr"
        },
        {
          "output_type": "stream",
          "text": [
            "{'main': 0.7157242877390443, 'rouge-1': 0.7502157440971468, 'rouge-2': 0.6442562951037187, 'rouge-l': 0.7699465521953189, 'best': 0.7168701713661904}\n",
            "Epoch 1/20\n",
            "933/933 [==============================] - 2s 2ms/step - loss: 0.0048 - accuracy: 0.9974\n"
          ],
          "name": "stdout"
        },
        {
          "output_type": "stream",
          "text": [
            "评估中: 67it [00:04, 13.92it/s]\n"
          ],
          "name": "stderr"
        },
        {
          "output_type": "stream",
          "text": [
            "{'main': 0.7151306760926235, 'rouge-1': 0.7331139292192578, 'rouge-2': 0.6390330176932748, 'rouge-l': 0.7822367079286549, 'best': 0.7151306760926235}\n",
            "Epoch 2/20\n",
            "933/933 [==============================] - 2s 2ms/step - loss: 0.0045 - accuracy: 0.9973\n"
          ],
          "name": "stdout"
        },
        {
          "output_type": "stream",
          "text": [
            "评估中: 67it [00:04, 13.86it/s]\n"
          ],
          "name": "stderr"
        },
        {
          "output_type": "stream",
          "text": [
            "{'main': 0.7146843894353859, 'rouge-1': 0.7328611655442816, 'rouge-2': 0.6389518748470844, 'rouge-l': 0.7813285159692395, 'best': 0.7151306760926235}\n",
            "Epoch 3/20\n",
            "933/933 [==============================] - 2s 2ms/step - loss: 0.0042 - accuracy: 0.9976\n"
          ],
          "name": "stdout"
        },
        {
          "output_type": "stream",
          "text": [
            "评估中: 67it [00:04, 13.78it/s]\n"
          ],
          "name": "stderr"
        },
        {
          "output_type": "stream",
          "text": [
            "{'main': 0.7136163980781064, 'rouge-1': 0.7315815625683552, 'rouge-2': 0.6378912916700897, 'rouge-l': 0.7803589222409986, 'best': 0.7151306760926235}\n",
            "Epoch 4/20\n",
            "933/933 [==============================] - 2s 2ms/step - loss: 0.0039 - accuracy: 0.9977\n"
          ],
          "name": "stdout"
        },
        {
          "output_type": "stream",
          "text": [
            "评估中: 67it [00:04, 13.85it/s]\n"
          ],
          "name": "stderr"
        },
        {
          "output_type": "stream",
          "text": [
            "{'main': 0.7124909493207406, 'rouge-1': 0.7310543628490226, 'rouge-2': 0.6365004874754508, 'rouge-l': 0.7791997044018893, 'best': 0.7151306760926235}\n",
            "Epoch 5/20\n",
            "933/933 [==============================] - 2s 2ms/step - loss: 0.0036 - accuracy: 0.9979\n"
          ],
          "name": "stdout"
        },
        {
          "output_type": "stream",
          "text": [
            "评估中: 67it [00:04, 13.85it/s]\n"
          ],
          "name": "stderr"
        },
        {
          "output_type": "stream",
          "text": [
            "{'main': 0.7128076295497049, 'rouge-1': 0.7312497175115189, 'rouge-2': 0.6369523514208771, 'rouge-l': 0.7794418636976257, 'best': 0.7151306760926235}\n",
            "Epoch 6/20\n",
            "933/933 [==============================] - 2s 2ms/step - loss: 0.0037 - accuracy: 0.9979\n"
          ],
          "name": "stdout"
        },
        {
          "output_type": "stream",
          "text": [
            "评估中: 67it [00:04, 13.93it/s]\n"
          ],
          "name": "stderr"
        },
        {
          "output_type": "stream",
          "text": [
            "{'main': 0.7117885457209154, 'rouge-1': 0.730109638091907, 'rouge-2': 0.6360729354263785, 'rouge-l': 0.7783436098299568, 'best': 0.7151306760926235}\n",
            "Epoch 7/20\n",
            "933/933 [==============================] - 2s 2ms/step - loss: 0.0037 - accuracy: 0.9978\n"
          ],
          "name": "stdout"
        },
        {
          "output_type": "stream",
          "text": [
            "评估中: 67it [00:04, 13.97it/s]\n"
          ],
          "name": "stderr"
        },
        {
          "output_type": "stream",
          "text": [
            "{'main': 0.7106327084219982, 'rouge-1': 0.7288283057955578, 'rouge-2': 0.6347855897469604, 'rouge-l': 0.7773820284102559, 'best': 0.7151306760926235}\n",
            "Epoch 8/20\n",
            "933/933 [==============================] - 2s 2ms/step - loss: 0.0038 - accuracy: 0.9978\n"
          ],
          "name": "stdout"
        },
        {
          "output_type": "stream",
          "text": [
            "评估中: 67it [00:04, 14.05it/s]\n"
          ],
          "name": "stderr"
        },
        {
          "output_type": "stream",
          "text": [
            "{'main': 0.7114061548881383, 'rouge-1': 0.7295391895762352, 'rouge-2': 0.6356227274516456, 'rouge-l': 0.7781230649805827, 'best': 0.7151306760926235}\n",
            "Epoch 9/20\n",
            "933/933 [==============================] - 2s 2ms/step - loss: 0.0035 - accuracy: 0.9980\n"
          ],
          "name": "stdout"
        },
        {
          "output_type": "stream",
          "text": [
            "评估中: 67it [00:04, 13.90it/s]\n"
          ],
          "name": "stderr"
        },
        {
          "output_type": "stream",
          "text": [
            "{'main': 0.7114784549372513, 'rouge-1': 0.7296781254354863, 'rouge-2': 0.6357019975844648, 'rouge-l': 0.77815507704092, 'best': 0.7151306760926235}\n",
            "Epoch 10/20\n",
            "933/933 [==============================] - 2s 2ms/step - loss: 0.0040 - accuracy: 0.9979\n"
          ],
          "name": "stdout"
        },
        {
          "output_type": "stream",
          "text": [
            "评估中: 67it [00:04, 13.92it/s]\n"
          ],
          "name": "stderr"
        },
        {
          "output_type": "stream",
          "text": [
            "{'main': 0.7110938747075346, 'rouge-1': 0.7296530826136816, 'rouge-2': 0.6351655873633655, 'rouge-l': 0.7777425580986301, 'best': 0.7151306760926235}\n",
            "Epoch 11/20\n",
            "933/933 [==============================] - 2s 2ms/step - loss: 0.0039 - accuracy: 0.9979\n"
          ],
          "name": "stdout"
        },
        {
          "output_type": "stream",
          "text": [
            "评估中: 67it [00:04, 14.14it/s]\n"
          ],
          "name": "stderr"
        },
        {
          "output_type": "stream",
          "text": [
            "{'main': 0.710660288931841, 'rouge-1': 0.7289672721071907, 'rouge-2': 0.634990665326561, 'rouge-l': 0.777176420949446, 'best': 0.7151306760926235}\n",
            "Epoch 12/20\n",
            "933/933 [==============================] - 2s 2ms/step - loss: 0.0038 - accuracy: 0.9977\n"
          ],
          "name": "stdout"
        },
        {
          "output_type": "stream",
          "text": [
            "评估中: 67it [00:09,  7.40it/s]\n"
          ],
          "name": "stderr"
        },
        {
          "output_type": "stream",
          "text": [
            "{'main': 0.7120686117904532, 'rouge-1': 0.7306428168437823, 'rouge-2': 0.6364941586279081, 'rouge-l': 0.7783559624263338, 'best': 0.7151306760926235}\n",
            "Epoch 13/20\n",
            "933/933 [==============================] - 2s 2ms/step - loss: 0.0039 - accuracy: 0.9978\n"
          ],
          "name": "stdout"
        },
        {
          "output_type": "stream",
          "text": [
            "评估中: 67it [00:04, 14.60it/s]\n"
          ],
          "name": "stderr"
        },
        {
          "output_type": "stream",
          "text": [
            "{'main': 0.7101316155760394, 'rouge-1': 0.7283410377895753, 'rouge-2': 0.6343054176827356, 'rouge-l': 0.7768531023625753, 'best': 0.7151306760926235}\n",
            "Epoch 14/20\n",
            "933/933 [==============================] - 2s 2ms/step - loss: 0.0041 - accuracy: 0.9976\n"
          ],
          "name": "stdout"
        },
        {
          "output_type": "stream",
          "text": [
            "评估中: 67it [00:04, 14.05it/s]\n"
          ],
          "name": "stderr"
        },
        {
          "output_type": "stream",
          "text": [
            "{'main': 0.7104805134942112, 'rouge-1': 0.7286226771368762, 'rouge-2': 0.6346775232654422, 'rouge-l': 0.7772124219016475, 'best': 0.7151306760926235}\n",
            "Epoch 15/20\n",
            "933/933 [==============================] - 2s 2ms/step - loss: 0.0039 - accuracy: 0.9979\n"
          ],
          "name": "stdout"
        },
        {
          "output_type": "stream",
          "text": [
            "评估中: 67it [00:04, 13.85it/s]\n"
          ],
          "name": "stderr"
        },
        {
          "output_type": "stream",
          "text": [
            "{'main': 0.710660288931841, 'rouge-1': 0.7289672721071907, 'rouge-2': 0.634990665326561, 'rouge-l': 0.777176420949446, 'best': 0.7151306760926235}\n",
            "Epoch 16/20\n",
            "933/933 [==============================] - 2s 2ms/step - loss: 0.0038 - accuracy: 0.9978\n"
          ],
          "name": "stdout"
        },
        {
          "output_type": "stream",
          "text": [
            "评估中: 67it [00:04, 14.01it/s]\n"
          ],
          "name": "stderr"
        },
        {
          "output_type": "stream",
          "text": [
            "{'main': 0.7113521460384528, 'rouge-1': 0.7296408932539579, 'rouge-2': 0.6357052766892773, 'rouge-l': 0.7778546417798757, 'best': 0.7151306760926235}\n",
            "Epoch 17/20\n",
            "933/933 [==============================] - 2s 2ms/step - loss: 0.0034 - accuracy: 0.9980\n"
          ],
          "name": "stdout"
        },
        {
          "output_type": "stream",
          "text": [
            "评估中: 67it [00:04, 14.06it/s]\n"
          ],
          "name": "stderr"
        },
        {
          "output_type": "stream",
          "text": [
            "{'main': 0.7105510626581096, 'rouge-1': 0.7289376071614507, 'rouge-2': 0.6349149342384698, 'rouge-l': 0.7769939188260792, 'best': 0.7151306760926235}\n",
            "Epoch 18/20\n",
            "933/933 [==============================] - 2s 2ms/step - loss: 0.0034 - accuracy: 0.9979\n"
          ],
          "name": "stdout"
        },
        {
          "output_type": "stream",
          "text": [
            "评估中: 67it [00:04, 14.05it/s]\n"
          ],
          "name": "stderr"
        },
        {
          "output_type": "stream",
          "text": [
            "{'main': 0.7102399271773782, 'rouge-1': 0.7286201696120956, 'rouge-2': 0.6345700805274763, 'rouge-l': 0.7767196526099215, 'best': 0.7151306760926235}\n",
            "Epoch 19/20\n",
            "933/933 [==============================] - 2s 2ms/step - loss: 0.0034 - accuracy: 0.9980\n"
          ],
          "name": "stdout"
        },
        {
          "output_type": "stream",
          "text": [
            "评估中: 67it [00:04, 14.08it/s]\n"
          ],
          "name": "stderr"
        },
        {
          "output_type": "stream",
          "text": [
            "{'main': 0.7107826261530341, 'rouge-1': 0.7292911366255491, 'rouge-2': 0.6348627550430336, 'rouge-l': 0.777448242026777, 'best': 0.7151306760926235}\n",
            "Epoch 20/20\n",
            "933/933 [==============================] - 2s 2ms/step - loss: 0.0038 - accuracy: 0.9977\n"
          ],
          "name": "stdout"
        },
        {
          "output_type": "stream",
          "text": [
            "评估中: 67it [00:04, 14.00it/s]\n"
          ],
          "name": "stderr"
        },
        {
          "output_type": "stream",
          "text": [
            "{'main': 0.7115834170646783, 'rouge-1': 0.7303681419420888, 'rouge-2': 0.6358234391102784, 'rouge-l': 0.7779510325803731, 'best': 0.7151306760926235}\n",
            "Epoch 1/20\n",
            "933/933 [==============================] - 2s 2ms/step - loss: 0.0039 - accuracy: 0.9978\n"
          ],
          "name": "stdout"
        },
        {
          "output_type": "stream",
          "text": [
            "评估中: 67it [00:04, 13.69it/s]\n"
          ],
          "name": "stderr"
        },
        {
          "output_type": "stream",
          "text": [
            "{'main': 0.7213960196284384, 'rouge-1': 0.7508593745661373, 'rouge-2': 0.6488527470173141, 'rouge-l': 0.779207614770712, 'best': 0.7213960196284384}\n",
            "Epoch 2/20\n",
            "933/933 [==============================] - 2s 2ms/step - loss: 0.0041 - accuracy: 0.9977\n"
          ],
          "name": "stdout"
        },
        {
          "output_type": "stream",
          "text": [
            "评估中: 67it [00:04, 13.98it/s]\n"
          ],
          "name": "stderr"
        },
        {
          "output_type": "stream",
          "text": [
            "{'main': 0.7226493540703244, 'rouge-1': 0.7518564875162536, 'rouge-2': 0.6502401706609588, 'rouge-l': 0.7804549707567243, 'best': 0.7226493540703244}\n",
            "Epoch 3/20\n",
            "933/933 [==============================] - 2s 2ms/step - loss: 0.0040 - accuracy: 0.9976\n"
          ],
          "name": "stdout"
        },
        {
          "output_type": "stream",
          "text": [
            "评估中: 67it [00:04, 13.82it/s]\n"
          ],
          "name": "stderr"
        },
        {
          "output_type": "stream",
          "text": [
            "{'main': 0.7212472907295352, 'rouge-1': 0.750416799364362, 'rouge-2': 0.6488126507159742, 'rouge-l': 0.7790971764256815, 'best': 0.7226493540703244}\n",
            "Epoch 4/20\n",
            "933/933 [==============================] - 2s 2ms/step - loss: 0.0039 - accuracy: 0.9977\n"
          ],
          "name": "stdout"
        },
        {
          "output_type": "stream",
          "text": [
            "评估中: 67it [00:04, 13.58it/s]\n"
          ],
          "name": "stderr"
        },
        {
          "output_type": "stream",
          "text": [
            "{'main': 0.7196049807593964, 'rouge-1': 0.7493245744484326, 'rouge-2': 0.6472436325081612, 'rouge-l': 0.7771065321661126, 'best': 0.7226493540703244}\n",
            "Epoch 5/20\n",
            "933/933 [==============================] - 2s 2ms/step - loss: 0.0035 - accuracy: 0.9979\n"
          ],
          "name": "stdout"
        },
        {
          "output_type": "stream",
          "text": [
            "评估中: 67it [00:04, 13.62it/s]\n"
          ],
          "name": "stderr"
        },
        {
          "output_type": "stream",
          "text": [
            "{'main': 0.7206608255723604, 'rouge-1': 0.7503175269911132, 'rouge-2': 0.6484504509126845, 'rouge-l': 0.7780428495226587, 'best': 0.7226493540703244}\n",
            "Epoch 6/20\n",
            "933/933 [==============================] - 2s 2ms/step - loss: 0.0037 - accuracy: 0.9979\n"
          ],
          "name": "stdout"
        },
        {
          "output_type": "stream",
          "text": [
            "评估中: 67it [00:04, 13.74it/s]\n"
          ],
          "name": "stderr"
        },
        {
          "output_type": "stream",
          "text": [
            "{'main': 0.7189850080699703, 'rouge-1': 0.7484542016003519, 'rouge-2': 0.6464184396309514, 'rouge-l': 0.7768169797437968, 'best': 0.7226493540703244}\n",
            "Epoch 7/20\n",
            "933/933 [==============================] - 2s 2ms/step - loss: 0.0034 - accuracy: 0.9980\n"
          ],
          "name": "stdout"
        },
        {
          "output_type": "stream",
          "text": [
            "评估中: 67it [00:08,  7.48it/s]"
          ],
          "name": "stderr"
        },
        {
          "output_type": "stream",
          "text": [
            "{'main': 0.7191017225187999, 'rouge-1': 0.7484446041398294, 'rouge-2': 0.6466945248072998, 'rouge-l': 0.776837479419784, 'best': 0.7226493540703244}\n",
            "Epoch 8/20\n",
            "\r 64/933 [=>............................] - ETA: 2s - loss: 0.0035 - accuracy: 0.9978"
          ],
          "name": "stdout"
        },
        {
          "output_type": "stream",
          "text": [
            "\n"
          ],
          "name": "stderr"
        },
        {
          "output_type": "stream",
          "text": [
            "933/933 [==============================] - 2s 2ms/step - loss: 0.0034 - accuracy: 0.9980\n"
          ],
          "name": "stdout"
        },
        {
          "output_type": "stream",
          "text": [
            "评估中: 67it [00:04, 14.39it/s]\n"
          ],
          "name": "stderr"
        },
        {
          "output_type": "stream",
          "text": [
            "{'main': 0.7191551088981676, 'rouge-1': 0.7483141865289209, 'rouge-2': 0.6466173510809462, 'rouge-l': 0.7771133279000111, 'best': 0.7226493540703244}\n",
            "Epoch 9/20\n",
            "933/933 [==============================] - 2s 2ms/step - loss: 0.0036 - accuracy: 0.9979\n"
          ],
          "name": "stdout"
        },
        {
          "output_type": "stream",
          "text": [
            "评估中: 67it [00:04, 13.76it/s]\n"
          ],
          "name": "stderr"
        },
        {
          "output_type": "stream",
          "text": [
            "{'main': 0.7185529506217779, 'rouge-1': 0.7477709595013813, 'rouge-2': 0.6459156402419204, 'rouge-l': 0.7765812565618321, 'best': 0.7226493540703244}\n",
            "Epoch 10/20\n",
            "933/933 [==============================] - 2s 2ms/step - loss: 0.0034 - accuracy: 0.9981\n"
          ],
          "name": "stdout"
        },
        {
          "output_type": "stream",
          "text": [
            "评估中: 67it [00:04, 14.03it/s]"
          ],
          "name": "stderr"
        },
        {
          "output_type": "stream",
          "text": [
            "{'main': 0.7182077976125083, 'rouge-1': 0.7476716318693112, 'rouge-2': 0.6456836801421693, 'rouge-l': 0.7759999979544443, 'best': 0.7226493540703244}\n",
            "Epoch 11/20\n",
            "\r 64/933 [=>............................] - ETA: 2s - loss: 0.0034 - accuracy: 0.9981"
          ],
          "name": "stdout"
        },
        {
          "output_type": "stream",
          "text": [
            "\n"
          ],
          "name": "stderr"
        },
        {
          "output_type": "stream",
          "text": [
            "933/933 [==============================] - 2s 2ms/step - loss: 0.0033 - accuracy: 0.9982\n"
          ],
          "name": "stdout"
        },
        {
          "output_type": "stream",
          "text": [
            "评估中: 67it [00:04, 13.98it/s]\n"
          ],
          "name": "stderr"
        },
        {
          "output_type": "stream",
          "text": [
            "{'main': 0.718175975824206, 'rouge-1': 0.747429993067643, 'rouge-2': 0.6456488450481116, 'rouge-l': 0.7760760979785807, 'best': 0.7226493540703244}\n",
            "Epoch 12/20\n",
            "933/933 [==============================] - 2s 2ms/step - loss: 0.0031 - accuracy: 0.9983\n"
          ],
          "name": "stdout"
        },
        {
          "output_type": "stream",
          "text": [
            "评估中: 67it [00:04, 13.86it/s]\n"
          ],
          "name": "stderr"
        },
        {
          "output_type": "stream",
          "text": [
            "{'main': 0.7183863335348177, 'rouge-1': 0.7470046707048289, 'rouge-2': 0.6456826420056089, 'rouge-l': 0.7767808564790201, 'best': 0.7226493540703244}\n",
            "Epoch 13/20\n",
            "933/933 [==============================] - 2s 2ms/step - loss: 0.0031 - accuracy: 0.9982\n"
          ],
          "name": "stdout"
        },
        {
          "output_type": "stream",
          "text": [
            "评估中: 67it [00:04, 14.00it/s]"
          ],
          "name": "stderr"
        },
        {
          "output_type": "stream",
          "text": [
            "{'main': 0.7178427334144617, 'rouge-1': 0.7472655932544101, 'rouge-2': 0.6454543935420294, 'rouge-l': 0.7755196433669187, 'best': 0.7226493540703244}\n",
            "Epoch 14/20\n",
            "\r 64/933 [=>............................] - ETA: 2s - loss: 0.0040 - accuracy: 0.9978"
          ],
          "name": "stdout"
        },
        {
          "output_type": "stream",
          "text": [
            "\n"
          ],
          "name": "stderr"
        },
        {
          "output_type": "stream",
          "text": [
            "933/933 [==============================] - 2s 2ms/step - loss: 0.0032 - accuracy: 0.9982\n"
          ],
          "name": "stdout"
        },
        {
          "output_type": "stream",
          "text": [
            "评估中: 67it [00:04, 13.80it/s]\n"
          ],
          "name": "stderr"
        },
        {
          "output_type": "stream",
          "text": [
            "{'main': 0.718292004954677, 'rouge-1': 0.7476377309194926, 'rouge-2': 0.6458608710811392, 'rouge-l': 0.7760502758458061, 'best': 0.7226493540703244}\n",
            "Epoch 15/20\n",
            "933/933 [==============================] - 2s 2ms/step - loss: 0.0031 - accuracy: 0.9982\n"
          ],
          "name": "stdout"
        },
        {
          "output_type": "stream",
          "text": [
            "评估中: 67it [00:04, 14.02it/s]"
          ],
          "name": "stderr"
        },
        {
          "output_type": "stream",
          "text": [
            "{'main': 0.7177317985300053, 'rouge-1': 0.7473459646383013, 'rouge-2': 0.6452622852846834, 'rouge-l': 0.7753942287211785, 'best': 0.7226493540703244}\n",
            "Epoch 16/20\n",
            "\r 64/933 [=>............................] - ETA: 2s - loss: 0.0032 - accuracy: 0.9979"
          ],
          "name": "stdout"
        },
        {
          "output_type": "stream",
          "text": [
            "\n"
          ],
          "name": "stderr"
        },
        {
          "output_type": "stream",
          "text": [
            "933/933 [==============================] - 2s 2ms/step - loss: 0.0034 - accuracy: 0.9980\n"
          ],
          "name": "stdout"
        },
        {
          "output_type": "stream",
          "text": [
            "评估中: 67it [00:04, 13.98it/s]"
          ],
          "name": "stderr"
        },
        {
          "output_type": "stream",
          "text": [
            "{'main': 0.7183548062459366, 'rouge-1': 0.7476900117458495, 'rouge-2': 0.6458672156470964, 'rouge-l': 0.7761747940948193, 'best': 0.7226493540703244}\n",
            "Epoch 17/20\n",
            "\r 64/933 [=>............................] - ETA: 2s - loss: 0.0040 - accuracy: 0.9980"
          ],
          "name": "stdout"
        },
        {
          "output_type": "stream",
          "text": [
            "\n"
          ],
          "name": "stderr"
        },
        {
          "output_type": "stream",
          "text": [
            "933/933 [==============================] - 2s 2ms/step - loss: 0.0036 - accuracy: 0.9980\n"
          ],
          "name": "stdout"
        },
        {
          "output_type": "stream",
          "text": [
            "评估中: 67it [00:04, 13.86it/s]\n"
          ],
          "name": "stderr"
        },
        {
          "output_type": "stream",
          "text": [
            "{'main': 0.7187088616299714, 'rouge-1': 0.7479623610658893, 'rouge-2': 0.6461616967636349, 'rouge-l': 0.7766292767783474, 'best': 0.7226493540703244}\n",
            "Epoch 18/20\n",
            "933/933 [==============================] - 2s 2ms/step - loss: 0.0036 - accuracy: 0.9979\n"
          ],
          "name": "stdout"
        },
        {
          "output_type": "stream",
          "text": [
            "评估中: 67it [00:04, 13.99it/s]\n"
          ],
          "name": "stderr"
        },
        {
          "output_type": "stream",
          "text": [
            "{'main': 0.7187034262187745, 'rouge-1': 0.7480198848213907, 'rouge-2': 0.6462154207125688, 'rouge-l': 0.7765332024236707, 'best': 0.7226493540703244}\n",
            "Epoch 19/20\n",
            "933/933 [==============================] - 2s 2ms/step - loss: 0.0034 - accuracy: 0.9980\n"
          ],
          "name": "stdout"
        },
        {
          "output_type": "stream",
          "text": [
            "评估中: 67it [00:04, 13.96it/s]\n"
          ],
          "name": "stderr"
        },
        {
          "output_type": "stream",
          "text": [
            "{'main': 0.7172440050861043, 'rouge-1': 0.746954086824149, 'rouge-2': 0.6447768692546556, 'rouge-l': 0.7748561000485297, 'best': 0.7226493540703244}\n",
            "Epoch 20/20\n",
            "933/933 [==============================] - 2s 2ms/step - loss: 0.0031 - accuracy: 0.9983\n"
          ],
          "name": "stdout"
        },
        {
          "output_type": "stream",
          "text": [
            "评估中: 67it [00:04, 14.06it/s]\n"
          ],
          "name": "stderr"
        },
        {
          "output_type": "stream",
          "text": [
            "{'main': 0.7175748461270134, 'rouge-1': 0.7477294770568367, 'rouge-2': 0.645338778794555, 'rouge-l': 0.7747335979945589, 'best': 0.7226493540703244}\n",
            "Epoch 1/20\n",
            "933/933 [==============================] - 2s 2ms/step - loss: 0.0041 - accuracy: 0.9980\n"
          ],
          "name": "stdout"
        },
        {
          "output_type": "stream",
          "text": [
            "评估中: 67it [00:08,  7.45it/s]\n"
          ],
          "name": "stderr"
        },
        {
          "output_type": "stream",
          "text": [
            "{'main': 0.7205547010087071, 'rouge-1': 0.7517945849529368, 'rouge-2': 0.6471619265043929, 'rouge-l': 0.7783275335409058, 'best': 0.7205547010087071}\n",
            "Epoch 2/20\n",
            "933/933 [==============================] - 2s 2ms/step - loss: 0.0036 - accuracy: 0.9980\n"
          ],
          "name": "stdout"
        },
        {
          "output_type": "stream",
          "text": [
            "评估中: 67it [00:04, 14.75it/s]\n"
          ],
          "name": "stderr"
        },
        {
          "output_type": "stream",
          "text": [
            "{'main': 0.7204979032667208, 'rouge-1': 0.751720812930356, 'rouge-2': 0.6471467712772467, 'rouge-l': 0.7782375804243767, 'best': 0.7205547010087071}\n",
            "Epoch 3/20\n",
            "933/933 [==============================] - 2s 2ms/step - loss: 0.0036 - accuracy: 0.9981\n"
          ],
          "name": "stdout"
        },
        {
          "output_type": "stream",
          "text": [
            "评估中: 67it [00:04, 14.57it/s]\n"
          ],
          "name": "stderr"
        },
        {
          "output_type": "stream",
          "text": [
            "{'main': 0.7205339950646629, 'rouge-1': 0.7518031135599897, 'rouge-2': 0.6471058973407562, 'rouge-l': 0.7783275335409058, 'best': 0.7205547010087071}\n",
            "Epoch 4/20\n",
            "933/933 [==============================] - 2s 2ms/step - loss: 0.0033 - accuracy: 0.9980\n"
          ],
          "name": "stdout"
        },
        {
          "output_type": "stream",
          "text": [
            "评估中: 67it [00:04, 13.95it/s]\n"
          ],
          "name": "stderr"
        },
        {
          "output_type": "stream",
          "text": [
            "{'main': 0.7200173696454079, 'rouge-1': 0.7513632649281294, 'rouge-2': 0.6467697818108623, 'rouge-l': 0.7775920098385919, 'best': 0.7205547010087071}\n",
            "Epoch 5/20\n",
            "933/933 [==============================] - 2s 2ms/step - loss: 0.0036 - accuracy: 0.9980\n"
          ],
          "name": "stdout"
        },
        {
          "output_type": "stream",
          "text": [
            "评估中: 67it [00:04, 14.07it/s]\n"
          ],
          "name": "stderr"
        },
        {
          "output_type": "stream",
          "text": [
            "{'main': 0.7198340318190336, 'rouge-1': 0.7515046445710607, 'rouge-2': 0.6463358851286727, 'rouge-l': 0.7774968721333806, 'best': 0.7205547010087071}\n",
            "Epoch 6/20\n",
            "933/933 [==============================] - 2s 2ms/step - loss: 0.0031 - accuracy: 0.9982\n"
          ],
          "name": "stdout"
        },
        {
          "output_type": "stream",
          "text": [
            "评估中: 67it [00:04, 14.16it/s]\n"
          ],
          "name": "stderr"
        },
        {
          "output_type": "stream",
          "text": [
            "{'main': 0.7195919538019997, 'rouge-1': 0.7513594933180112, 'rouge-2': 0.646110672937014, 'rouge-l': 0.7771894649089794, 'best': 0.7205547010087071}\n",
            "Epoch 7/20\n",
            "933/933 [==============================] - 2s 2ms/step - loss: 0.0033 - accuracy: 0.9980\n"
          ],
          "name": "stdout"
        },
        {
          "output_type": "stream",
          "text": [
            "评估中: 67it [00:04, 14.18it/s]\n"
          ],
          "name": "stderr"
        },
        {
          "output_type": "stream",
          "text": [
            "{'main': 0.719561580374208, 'rouge-1': 0.7510761590596775, 'rouge-2': 0.646065959857148, 'rouge-l': 0.7772999115485332, 'best': 0.7205547010087071}\n",
            "Epoch 8/20\n",
            "933/933 [==============================] - 2s 2ms/step - loss: 0.0035 - accuracy: 0.9979\n"
          ],
          "name": "stdout"
        },
        {
          "output_type": "stream",
          "text": [
            "评估中: 67it [00:04, 14.07it/s]\n"
          ],
          "name": "stderr"
        },
        {
          "output_type": "stream",
          "text": [
            "{'main': 0.7186469433059115, 'rouge-1': 0.7503132479781908, 'rouge-2': 0.6451066661325918, 'rouge-l': 0.7763540681430913, 'best': 0.7205547010087071}\n",
            "Epoch 9/20\n",
            "933/933 [==============================] - 2s 2ms/step - loss: 0.0033 - accuracy: 0.9979\n"
          ],
          "name": "stdout"
        },
        {
          "output_type": "stream",
          "text": [
            "评估中: 67it [00:04, 13.91it/s]\n"
          ],
          "name": "stderr"
        },
        {
          "output_type": "stream",
          "text": [
            "{'main': 0.7198737110634583, 'rouge-1': 0.752041832497027, 'rouge-2': 0.6469921209810491, 'rouge-l': 0.7766712404290828, 'best': 0.7205547010087071}\n",
            "Epoch 10/20\n",
            "933/933 [==============================] - 2s 2ms/step - loss: 0.0037 - accuracy: 0.9979\n"
          ],
          "name": "stdout"
        },
        {
          "output_type": "stream",
          "text": [
            "评估中: 67it [00:04, 13.94it/s]\n"
          ],
          "name": "stderr"
        },
        {
          "output_type": "stream",
          "text": [
            "{'main': 0.7195056661856069, 'rouge-1': 0.7510967681037103, 'rouge-2': 0.6460408956027578, 'rouge-l': 0.777174885809404, 'best': 0.7205547010087071}\n",
            "Epoch 11/20\n",
            "933/933 [==============================] - 2s 2ms/step - loss: 0.0037 - accuracy: 0.9979\n"
          ],
          "name": "stdout"
        },
        {
          "output_type": "stream",
          "text": [
            "评估中: 67it [00:04, 14.03it/s]\n"
          ],
          "name": "stderr"
        },
        {
          "output_type": "stream",
          "text": [
            "{'main': 0.7193787608369271, 'rouge-1': 0.7517730172125321, 'rouge-2': 0.6465450028360009, 'rouge-l': 0.7760153906500502, 'best': 0.7205547010087071}\n",
            "Epoch 12/20\n",
            "933/933 [==============================] - 2s 2ms/step - loss: 0.0036 - accuracy: 0.9979\n"
          ],
          "name": "stdout"
        },
        {
          "output_type": "stream",
          "text": [
            "评估中: 67it [00:04, 13.66it/s]\n"
          ],
          "name": "stderr"
        },
        {
          "output_type": "stream",
          "text": [
            "{'main': 0.7193852027362336, 'rouge-1': 0.7513859976347957, 'rouge-2': 0.6460247939279518, 'rouge-l': 0.7767452140952343, 'best': 0.7205547010087071}\n",
            "Epoch 13/20\n",
            "933/933 [==============================] - 2s 2ms/step - loss: 0.0034 - accuracy: 0.9981\n"
          ],
          "name": "stdout"
        },
        {
          "output_type": "stream",
          "text": [
            "评估中: 67it [00:04, 14.12it/s]\n"
          ],
          "name": "stderr"
        },
        {
          "output_type": "stream",
          "text": [
            "{'main': 0.7192848434617582, 'rouge-1': 0.7514065166334257, 'rouge-2': 0.6461668517259629, 'rouge-l': 0.7763419986117194, 'best': 0.7205547010087071}\n",
            "Epoch 14/20\n",
            "933/933 [==============================] - 2s 2ms/step - loss: 0.0031 - accuracy: 0.9982\n"
          ],
          "name": "stdout"
        },
        {
          "output_type": "stream",
          "text": [
            "评估中: 67it [00:04, 14.08it/s]\n"
          ],
          "name": "stderr"
        },
        {
          "output_type": "stream",
          "text": [
            "{'main': 0.719234811177924, 'rouge-1': 0.7513020843262378, 'rouge-2': 0.6459981789108575, 'rouge-l': 0.7764378068708331, 'best': 0.7205547010087071}\n",
            "Epoch 15/20\n",
            "933/933 [==============================] - 2s 2ms/step - loss: 0.0033 - accuracy: 0.9981\n"
          ],
          "name": "stdout"
        },
        {
          "output_type": "stream",
          "text": [
            "评估中: 67it [00:08,  7.64it/s]\n"
          ],
          "name": "stderr"
        },
        {
          "output_type": "stream",
          "text": [
            "{'main': 0.719146965165061, 'rouge-1': 0.751176777107952, 'rouge-2': 0.6460186155423553, 'rouge-l': 0.7762604088163212, 'best': 0.7205547010087071}\n",
            "Epoch 16/20\n",
            "933/933 [==============================] - 2s 2ms/step - loss: 0.0032 - accuracy: 0.9981\n"
          ],
          "name": "stdout"
        },
        {
          "output_type": "stream",
          "text": [
            "评估中: 67it [00:04, 14.32it/s]\n"
          ],
          "name": "stderr"
        },
        {
          "output_type": "stream",
          "text": [
            "{'main': 0.7193769619650995, 'rouge-1': 0.7514380142551739, 'rouge-2': 0.6462683281648486, 'rouge-l': 0.7764550696203129, 'best': 0.7205547010087071}\n",
            "Epoch 17/20\n",
            "933/933 [==============================] - 2s 2ms/step - loss: 0.0029 - accuracy: 0.9984\n"
          ],
          "name": "stdout"
        },
        {
          "output_type": "stream",
          "text": [
            "评估中: 67it [00:04, 14.66it/s]\n"
          ],
          "name": "stderr"
        },
        {
          "output_type": "stream",
          "text": [
            "{'main': 0.7187474250400407, 'rouge-1': 0.7508331371964996, 'rouge-2': 0.6455237607288569, 'rouge-l': 0.7759282332729948, 'best': 0.7205547010087071}\n",
            "Epoch 18/20\n",
            "933/933 [==============================] - 2s 2ms/step - loss: 0.0030 - accuracy: 0.9982\n"
          ],
          "name": "stdout"
        },
        {
          "output_type": "stream",
          "text": [
            "评估中: 67it [00:04, 13.96it/s]\n"
          ],
          "name": "stderr"
        },
        {
          "output_type": "stream",
          "text": [
            "{'main': 0.7185250363519782, 'rouge-1': 0.7504193868569674, 'rouge-2': 0.6451543859491268, 'rouge-l': 0.7759485115023343, 'best': 0.7205547010087071}\n",
            "Epoch 19/20\n",
            "933/933 [==============================] - 2s 2ms/step - loss: 0.0028 - accuracy: 0.9984\n"
          ],
          "name": "stdout"
        },
        {
          "output_type": "stream",
          "text": [
            "评估中: 67it [00:04, 13.93it/s]\n"
          ],
          "name": "stderr"
        },
        {
          "output_type": "stream",
          "text": [
            "{'main': 0.719124109178633, 'rouge-1': 0.7510214804637466, 'rouge-2': 0.6458022944938504, 'rouge-l': 0.7764972382208585, 'best': 0.7205547010087071}\n",
            "Epoch 20/20\n",
            "933/933 [==============================] - 2s 2ms/step - loss: 0.0033 - accuracy: 0.9980\n"
          ],
          "name": "stdout"
        },
        {
          "output_type": "stream",
          "text": [
            "评估中: 67it [00:04, 13.72it/s]\n"
          ],
          "name": "stderr"
        },
        {
          "output_type": "stream",
          "text": [
            "{'main': 0.7188304653814077, 'rouge-1': 0.7506912105090481, 'rouge-2': 0.6455395051325873, 'rouge-l': 0.7761910530664077, 'best': 0.7205547010087071}\n",
            "Epoch 1/20\n",
            "934/934 [==============================] - 2s 3ms/step - loss: 0.0037 - accuracy: 0.9979\n"
          ],
          "name": "stdout"
        },
        {
          "output_type": "stream",
          "text": [
            "评估中: 66it [00:04, 13.71it/s]\n"
          ],
          "name": "stderr"
        },
        {
          "output_type": "stream",
          "text": [
            "{'main': 0.7093292187725418, 'rouge-1': 0.7421373103316169, 'rouge-2': 0.634515795737625, 'rouge-l': 0.7677385960279208, 'best': 0.7093292187725418}\n",
            "Epoch 2/20\n",
            "934/934 [==============================] - 2s 2ms/step - loss: 0.0037 - accuracy: 0.9978\n"
          ],
          "name": "stdout"
        },
        {
          "output_type": "stream",
          "text": [
            "评估中: 66it [00:04, 13.92it/s]\n"
          ],
          "name": "stderr"
        },
        {
          "output_type": "stream",
          "text": [
            "{'main': 0.7103641129875702, 'rouge-1': 0.7429743515784956, 'rouge-2': 0.6352706739460456, 'rouge-l': 0.7691524327336314, 'best': 0.7103641129875702}\n",
            "Epoch 3/20\n",
            "934/934 [==============================] - 2s 2ms/step - loss: 0.0037 - accuracy: 0.9979\n"
          ],
          "name": "stdout"
        },
        {
          "output_type": "stream",
          "text": [
            "评估中: 66it [00:04, 13.93it/s]\n"
          ],
          "name": "stderr"
        },
        {
          "output_type": "stream",
          "text": [
            "{'main': 0.7096638315630722, 'rouge-1': 0.7425937206616542, 'rouge-2': 0.6344857304859212, 'rouge-l': 0.768376988090932, 'best': 0.7103641129875702}\n",
            "Epoch 4/20\n",
            "934/934 [==============================] - 2s 2ms/step - loss: 0.0035 - accuracy: 0.9979\n"
          ],
          "name": "stdout"
        },
        {
          "output_type": "stream",
          "text": [
            "评估中: 66it [00:04, 13.72it/s]\n"
          ],
          "name": "stderr"
        },
        {
          "output_type": "stream",
          "text": [
            "{'main': 0.7091532267547633, 'rouge-1': 0.7419643850118549, 'rouge-2': 0.6343727289284377, 'rouge-l': 0.7675281454525432, 'best': 0.7103641129875702}\n",
            "Epoch 5/20\n",
            "934/934 [==============================] - 2s 2ms/step - loss: 0.0040 - accuracy: 0.9977\n"
          ],
          "name": "stdout"
        },
        {
          "output_type": "stream",
          "text": [
            "评估中: 66it [00:04, 13.53it/s]\n"
          ],
          "name": "stderr"
        },
        {
          "output_type": "stream",
          "text": [
            "{'main': 0.7097998041020244, 'rouge-1': 0.7427274118539873, 'rouge-2': 0.6348317208530015, 'rouge-l': 0.7683040834750654, 'best': 0.7103641129875702}\n",
            "Epoch 6/20\n",
            "934/934 [==============================] - 2s 2ms/step - loss: 0.0036 - accuracy: 0.9979\n"
          ],
          "name": "stdout"
        },
        {
          "output_type": "stream",
          "text": [
            "评估中: 66it [00:04, 13.84it/s]\n"
          ],
          "name": "stderr"
        },
        {
          "output_type": "stream",
          "text": [
            "{'main': 0.7081269984671077, 'rouge-1': 0.7414289481163192, 'rouge-2': 0.6334811824542, 'rouge-l': 0.7661218396554093, 'best': 0.7103641129875702}\n",
            "Epoch 7/20\n",
            "934/934 [==============================] - 2s 2ms/step - loss: 0.0034 - accuracy: 0.9978\n"
          ],
          "name": "stdout"
        },
        {
          "output_type": "stream",
          "text": [
            "评估中: 66it [00:04, 13.72it/s]\n"
          ],
          "name": "stderr"
        },
        {
          "output_type": "stream",
          "text": [
            "{'main': 0.7087211145448898, 'rouge-1': 0.7417638975760394, 'rouge-2': 0.6340662834200242, 'rouge-l': 0.7668545541541799, 'best': 0.7103641129875702}\n",
            "Epoch 8/20\n",
            "934/934 [==============================] - 2s 2ms/step - loss: 0.0031 - accuracy: 0.9980\n"
          ],
          "name": "stdout"
        },
        {
          "output_type": "stream",
          "text": [
            "评估中: 66it [00:04, 13.73it/s]\n"
          ],
          "name": "stderr"
        },
        {
          "output_type": "stream",
          "text": [
            "{'main': 0.7081921865538768, 'rouge-1': 0.7414213678975171, 'rouge-2': 0.6334323065989211, 'rouge-l': 0.7663374758370118, 'best': 0.7103641129875702}\n",
            "Epoch 9/20\n",
            "934/934 [==============================] - 2s 2ms/step - loss: 0.0030 - accuracy: 0.9983\n"
          ],
          "name": "stdout"
        },
        {
          "output_type": "stream",
          "text": [
            "评估中: 66it [00:04, 13.79it/s]\n"
          ],
          "name": "stderr"
        },
        {
          "output_type": "stream",
          "text": [
            "{'main': 0.7088869293765213, 'rouge-1': 0.7420617891740307, 'rouge-2': 0.6342287918991952, 'rouge-l': 0.7669576369550926, 'best': 0.7103641129875702}\n",
            "Epoch 10/20\n",
            "934/934 [==============================] - 2s 2ms/step - loss: 0.0031 - accuracy: 0.9982\n"
          ],
          "name": "stdout"
        },
        {
          "output_type": "stream",
          "text": [
            "评估中: 66it [00:09,  7.33it/s]\n"
          ],
          "name": "stderr"
        },
        {
          "output_type": "stream",
          "text": [
            "{'main': 0.7092920641375933, 'rouge-1': 0.7421150742542828, 'rouge-2': 0.6345599540560437, 'rouge-l': 0.7676126691607975, 'best': 0.7103641129875702}\n",
            "Epoch 11/20\n",
            "934/934 [==============================] - 2s 2ms/step - loss: 0.0035 - accuracy: 0.9979\n"
          ],
          "name": "stdout"
        },
        {
          "output_type": "stream",
          "text": [
            "评估中: 66it [00:04, 14.23it/s]\n"
          ],
          "name": "stderr"
        },
        {
          "output_type": "stream",
          "text": [
            "{'main': 0.7080125927294206, 'rouge-1': 0.7412527045211509, 'rouge-2': 0.6333222827773288, 'rouge-l': 0.766082846785647, 'best': 0.7103641129875702}\n",
            "Epoch 12/20\n",
            "934/934 [==============================] - 2s 2ms/step - loss: 0.0034 - accuracy: 0.9980\n"
          ],
          "name": "stdout"
        },
        {
          "output_type": "stream",
          "text": [
            "评估中: 66it [00:04, 14.01it/s]\n"
          ],
          "name": "stderr"
        },
        {
          "output_type": "stream",
          "text": [
            "{'main': 0.7087649098869961, 'rouge-1': 0.7418903706071086, 'rouge-2': 0.6340768426445806, 'rouge-l': 0.7668902467693548, 'best': 0.7103641129875702}\n",
            "Epoch 13/20\n",
            "934/934 [==============================] - 2s 2ms/step - loss: 0.0032 - accuracy: 0.9981\n"
          ],
          "name": "stdout"
        },
        {
          "output_type": "stream",
          "text": [
            "评估中: 66it [00:04, 13.82it/s]\n"
          ],
          "name": "stderr"
        },
        {
          "output_type": "stream",
          "text": [
            "{'main': 0.7084447049392945, 'rouge-1': 0.7414531919569664, 'rouge-2': 0.633628728285742, 'rouge-l': 0.7667564380840104, 'best': 0.7103641129875702}\n",
            "Epoch 14/20\n",
            "934/934 [==============================] - 2s 2ms/step - loss: 0.0030 - accuracy: 0.9984\n"
          ],
          "name": "stdout"
        },
        {
          "output_type": "stream",
          "text": [
            "评估中: 66it [00:04, 13.67it/s]\n"
          ],
          "name": "stderr"
        },
        {
          "output_type": "stream",
          "text": [
            "{'main': 0.7081684251407246, 'rouge-1': 0.741634224570406, 'rouge-2': 0.6332116103572464, 'rouge-l': 0.766392340209362, 'best': 0.7103641129875702}\n",
            "Epoch 15/20\n",
            "934/934 [==============================] - 2s 2ms/step - loss: 0.0032 - accuracy: 0.9980\n"
          ],
          "name": "stdout"
        },
        {
          "output_type": "stream",
          "text": [
            "评估中: 66it [00:04, 13.86it/s]\n"
          ],
          "name": "stderr"
        },
        {
          "output_type": "stream",
          "text": [
            "{'main': 0.7095940048920097, 'rouge-1': 0.7424664767990133, 'rouge-2': 0.634542506171034, 'rouge-l': 0.7682092676594832, 'best': 0.7103641129875702}\n",
            "Epoch 16/20\n",
            "934/934 [==============================] - 2s 2ms/step - loss: 0.0030 - accuracy: 0.9982\n"
          ],
          "name": "stdout"
        },
        {
          "output_type": "stream",
          "text": [
            "评估中: 66it [00:04, 13.84it/s]\n"
          ],
          "name": "stderr"
        },
        {
          "output_type": "stream",
          "text": [
            "{'main': 0.7084447049392945, 'rouge-1': 0.7414531919569664, 'rouge-2': 0.633628728285742, 'rouge-l': 0.7667564380840104, 'best': 0.7103641129875702}\n",
            "Epoch 17/20\n",
            "934/934 [==============================] - 2s 2ms/step - loss: 0.0032 - accuracy: 0.9982\n"
          ],
          "name": "stdout"
        },
        {
          "output_type": "stream",
          "text": [
            "评估中: 66it [00:04, 13.86it/s]\n"
          ],
          "name": "stderr"
        },
        {
          "output_type": "stream",
          "text": [
            "{'main': 0.7085374170021272, 'rouge-1': 0.7416019603307438, 'rouge-2': 0.633782824001348, 'rouge-l': 0.7667597383385977, 'best': 0.7103641129875702}\n",
            "Epoch 18/20\n",
            "934/934 [==============================] - 2s 2ms/step - loss: 0.0027 - accuracy: 0.9984\n"
          ],
          "name": "stdout"
        },
        {
          "output_type": "stream",
          "text": [
            "评估中: 66it [00:04, 13.77it/s]\n"
          ],
          "name": "stderr"
        },
        {
          "output_type": "stream",
          "text": [
            "{'main': 0.708515315334875, 'rouge-1': 0.7415029625210655, 'rouge-2': 0.633777068738057, 'rouge-l': 0.7667597383385977, 'best': 0.7103641129875702}\n",
            "Epoch 19/20\n",
            "934/934 [==============================] - 2s 2ms/step - loss: 0.0027 - accuracy: 0.9983\n"
          ],
          "name": "stdout"
        },
        {
          "output_type": "stream",
          "text": [
            "评估中: 66it [00:04, 13.64it/s]\n"
          ],
          "name": "stderr"
        },
        {
          "output_type": "stream",
          "text": [
            "{'main': 0.7085591106769815, 'rouge-1': 0.7416294355521347, 'rouge-2': 0.6337876279626133, 'rouge-l': 0.7667954309537724, 'best': 0.7103641129875702}\n",
            "Epoch 20/20\n",
            "934/934 [==============================] - 2s 2ms/step - loss: 0.0027 - accuracy: 0.9984\n"
          ],
          "name": "stdout"
        },
        {
          "output_type": "stream",
          "text": [
            "评估中: 66it [00:04, 13.84it/s]\n"
          ],
          "name": "stderr"
        },
        {
          "output_type": "stream",
          "text": [
            "{'main': 0.708515315334875, 'rouge-1': 0.7415029625210655, 'rouge-2': 0.633777068738057, 'rouge-l': 0.7667597383385977, 'best': 0.7103641129875702}\n",
            "Epoch 1/20\n",
            "934/934 [==============================] - 2s 2ms/step - loss: 0.0032 - accuracy: 0.9981\n"
          ],
          "name": "stdout"
        },
        {
          "output_type": "stream",
          "text": [
            "评估中: 66it [00:04, 13.49it/s]\n"
          ],
          "name": "stderr"
        },
        {
          "output_type": "stream",
          "text": [
            "{'main': 0.6935523703748819, 'rouge-1': 0.7255544865692511, 'rouge-2': 0.6172775803761595, 'rouge-l': 0.75382610227642, 'best': 0.6935523703748819}\n",
            "Epoch 2/20\n",
            "934/934 [==============================] - 2s 2ms/step - loss: 0.0031 - accuracy: 0.9981\n"
          ],
          "name": "stdout"
        },
        {
          "output_type": "stream",
          "text": [
            "评估中: 66it [00:04, 13.44it/s]\n"
          ],
          "name": "stderr"
        },
        {
          "output_type": "stream",
          "text": [
            "{'main': 0.6926971795231448, 'rouge-1': 0.7246920291393242, 'rouge-2': 0.6163393522573397, 'rouge-l': 0.75305758198086, 'best': 0.6935523703748819}\n",
            "Epoch 3/20\n",
            "934/934 [==============================] - 2s 2ms/step - loss: 0.0033 - accuracy: 0.9981\n"
          ],
          "name": "stdout"
        },
        {
          "output_type": "stream",
          "text": [
            "评估中: 66it [00:04, 13.44it/s]\n"
          ],
          "name": "stderr"
        },
        {
          "output_type": "stream",
          "text": [
            "{'main': 0.6926971795231448, 'rouge-1': 0.7246920291393242, 'rouge-2': 0.6163393522573397, 'rouge-l': 0.75305758198086, 'best': 0.6935523703748819}\n",
            "Epoch 4/20\n",
            "934/934 [==============================] - 2s 2ms/step - loss: 0.0030 - accuracy: 0.9984\n"
          ],
          "name": "stdout"
        },
        {
          "output_type": "stream",
          "text": [
            "评估中: 66it [00:04, 13.69it/s]\n"
          ],
          "name": "stderr"
        },
        {
          "output_type": "stream",
          "text": [
            "{'main': 0.6933123294797557, 'rouge-1': 0.7255495383568552, 'rouge-2': 0.6170840515565946, 'rouge-l': 0.7534220029643673, 'best': 0.6935523703748819}\n",
            "Epoch 5/20\n",
            "934/934 [==============================] - 2s 2ms/step - loss: 0.0030 - accuracy: 0.9982\n"
          ],
          "name": "stdout"
        },
        {
          "output_type": "stream",
          "text": [
            "评估中: 66it [00:09,  7.25it/s]\n"
          ],
          "name": "stderr"
        },
        {
          "output_type": "stream",
          "text": [
            "{'main': 0.6930805250320531, 'rouge-1': 0.7253337631468207, 'rouge-2': 0.6168268113298532, 'rouge-l': 0.7532076196768696, 'best': 0.6935523703748819}\n",
            "Epoch 6/20\n",
            "934/934 [==============================] - 2s 2ms/step - loss: 0.0030 - accuracy: 0.9983\n"
          ],
          "name": "stdout"
        },
        {
          "output_type": "stream",
          "text": [
            "评估中: 66it [00:04, 14.20it/s]\n"
          ],
          "name": "stderr"
        },
        {
          "output_type": "stream",
          "text": [
            "{'main': 0.6933123294797557, 'rouge-1': 0.7255495383568552, 'rouge-2': 0.6170840515565946, 'rouge-l': 0.7534220029643673, 'best': 0.6935523703748819}\n",
            "Epoch 7/20\n",
            "934/934 [==============================] - 2s 2ms/step - loss: 0.0029 - accuracy: 0.9983\n"
          ],
          "name": "stdout"
        },
        {
          "output_type": "stream",
          "text": [
            "评估中: 66it [00:04, 13.73it/s]\n"
          ],
          "name": "stderr"
        },
        {
          "output_type": "stream",
          "text": [
            "{'main': 0.6931286309692837, 'rouge-1': 0.7254001894165805, 'rouge-2': 0.616865626893881, 'rouge-l': 0.7532558558210379, 'best': 0.6935523703748819}\n",
            "Epoch 8/20\n",
            "934/934 [==============================] - 2s 2ms/step - loss: 0.0028 - accuracy: 0.9984\n"
          ],
          "name": "stdout"
        },
        {
          "output_type": "stream",
          "text": [
            "评估中: 66it [00:04, 13.57it/s]\n"
          ],
          "name": "stderr"
        },
        {
          "output_type": "stream",
          "text": [
            "{'main': 0.6928233799625978, 'rouge-1': 0.7250846709877685, 'rouge-2': 0.6166488051771243, 'rouge-l': 0.752867309235486, 'best': 0.6935523703748819}\n",
            "Epoch 9/20\n",
            "934/934 [==============================] - 2s 2ms/step - loss: 0.0029 - accuracy: 0.9983\n"
          ],
          "name": "stdout"
        },
        {
          "output_type": "stream",
          "text": [
            "评估中: 66it [00:04, 13.69it/s]\n"
          ],
          "name": "stderr"
        },
        {
          "output_type": "stream",
          "text": [
            "{'main': 0.6933087271042044, 'rouge-1': 0.7255347415031114, 'rouge-2': 0.6171968450633086, 'rouge-l': 0.7533076019456467, 'best': 0.6935523703748819}\n",
            "Epoch 10/20\n",
            "934/934 [==============================] - 2s 2ms/step - loss: 0.0026 - accuracy: 0.9984\n"
          ],
          "name": "stdout"
        },
        {
          "output_type": "stream",
          "text": [
            "评估中: 66it [00:04, 13.59it/s]\n"
          ],
          "name": "stderr"
        },
        {
          "output_type": "stream",
          "text": [
            "{'main': 0.6919718388202061, 'rouge-1': 0.7247426534933502, 'rouge-2': 0.6158680546624264, 'rouge-l': 0.7516902156414133, 'best': 0.6935523703748819}\n",
            "Epoch 11/20\n",
            "934/934 [==============================] - 2s 2ms/step - loss: 0.0030 - accuracy: 0.9983\n"
          ],
          "name": "stdout"
        },
        {
          "output_type": "stream",
          "text": [
            "评估中: 66it [00:04, 13.50it/s]\n"
          ],
          "name": "stderr"
        },
        {
          "output_type": "stream",
          "text": [
            "{'main': 0.6918214671784164, 'rouge-1': 0.7247384245216816, 'rouge-2': 0.6158160592296257, 'rouge-l': 0.7513683964555746, 'best': 0.6935523703748819}\n",
            "Epoch 12/20\n",
            "934/934 [==============================] - 2s 2ms/step - loss: 0.0032 - accuracy: 0.9981\n"
          ],
          "name": "stdout"
        },
        {
          "output_type": "stream",
          "text": [
            "评估中: 66it [00:04, 13.41it/s]\n"
          ],
          "name": "stderr"
        },
        {
          "output_type": "stream",
          "text": [
            "{'main': 0.6918458006841358, 'rouge-1': 0.7246608658448093, 'rouge-2': 0.6157147154851146, 'rouge-l': 0.7515693533028203, 'best': 0.6935523703748819}\n",
            "Epoch 13/20\n",
            "934/934 [==============================] - 2s 2ms/step - loss: 0.0031 - accuracy: 0.9983\n"
          ],
          "name": "stdout"
        },
        {
          "output_type": "stream",
          "text": [
            "评估中: 66it [00:04, 13.53it/s]\n"
          ],
          "name": "stderr"
        },
        {
          "output_type": "stream",
          "text": [
            "{'main': 0.6919718388202061, 'rouge-1': 0.7247426534933502, 'rouge-2': 0.6158680546624264, 'rouge-l': 0.7516902156414133, 'best': 0.6935523703748819}\n",
            "Epoch 14/20\n",
            "934/934 [==============================] - 2s 2ms/step - loss: 0.0030 - accuracy: 0.9983\n"
          ],
          "name": "stdout"
        },
        {
          "output_type": "stream",
          "text": [
            "评估中: 66it [00:04, 13.70it/s]\n"
          ],
          "name": "stderr"
        },
        {
          "output_type": "stream",
          "text": [
            "{'main': 0.6920834813874983, 'rouge-1': 0.725046324947451, 'rouge-2': 0.6160027620853301, 'rouge-l': 0.7516827789096899, 'best': 0.6935523703748819}\n",
            "Epoch 15/20\n",
            "934/934 [==============================] - 2s 2ms/step - loss: 0.0028 - accuracy: 0.9985\n"
          ],
          "name": "stdout"
        },
        {
          "output_type": "stream",
          "text": [
            "评估中: 66it [00:04, 13.68it/s]\n"
          ],
          "name": "stderr"
        },
        {
          "output_type": "stream",
          "text": [
            "{'main': 0.6925679179218153, 'rouge-1': 0.7249232328246894, 'rouge-2': 0.6163596726441841, 'rouge-l': 0.7525985057480092, 'best': 0.6935523703748819}\n",
            "Epoch 16/20\n",
            "934/934 [==============================] - 2s 2ms/step - loss: 0.0031 - accuracy: 0.9982\n"
          ],
          "name": "stdout"
        },
        {
          "output_type": "stream",
          "text": [
            "评估中: 66it [00:04, 13.61it/s]\n"
          ],
          "name": "stderr"
        },
        {
          "output_type": "stream",
          "text": [
            "{'main': 0.6919443092937881, 'rouge-1': 0.7248047183536813, 'rouge-2': 0.6158227048367246, 'rouge-l': 0.751635709220905, 'best': 0.6935523703748819}\n",
            "Epoch 17/20\n",
            "934/934 [==============================] - 2s 2ms/step - loss: 0.0027 - accuracy: 0.9984\n"
          ],
          "name": "stdout"
        },
        {
          "output_type": "stream",
          "text": [
            "评估中: 66it [00:04, 13.45it/s]\n"
          ],
          "name": "stderr"
        },
        {
          "output_type": "stream",
          "text": [
            "{'main': 0.6918176953309584, 'rouge-1': 0.7247432783295003, 'rouge-2': 0.615688291768833, 'rouge-l': 0.7514843073938126, 'best': 0.6935523703748819}\n",
            "Epoch 18/20\n",
            "934/934 [==============================] - 2s 2ms/step - loss: 0.0030 - accuracy: 0.9983\n"
          ],
          "name": "stdout"
        },
        {
          "output_type": "stream",
          "text": [
            "评估中: 66it [00:04, 13.60it/s]\n"
          ],
          "name": "stderr"
        },
        {
          "output_type": "stream",
          "text": [
            "{'main': 0.6914852512345915, 'rouge-1': 0.7243381270625214, 'rouge-2': 0.615289922028015, 'rouge-l': 0.7512541425272031, 'best': 0.6935523703748819}\n",
            "Epoch 19/20\n",
            "934/934 [==============================] - 2s 2ms/step - loss: 0.0028 - accuracy: 0.9984\n"
          ],
          "name": "stdout"
        },
        {
          "output_type": "stream",
          "text": [
            "评估中: 66it [00:09,  7.14it/s]\n"
          ],
          "name": "stderr"
        },
        {
          "output_type": "stream",
          "text": [
            "{'main': 0.6914900268524218, 'rouge-1': 0.7242910017724474, 'rouge-2': 0.6153578455774679, 'rouge-l': 0.7512217206673628, 'best': 0.6935523703748819}\n",
            "Epoch 20/20\n",
            "934/934 [==============================] - 2s 2ms/step - loss: 0.0027 - accuracy: 0.9984\n"
          ],
          "name": "stdout"
        },
        {
          "output_type": "stream",
          "text": [
            "评估中: 66it [00:04, 14.14it/s]\n"
          ],
          "name": "stderr"
        },
        {
          "output_type": "stream",
          "text": [
            "{'main': 0.6913384753722847, 'rouge-1': 0.724231861840463, 'rouge-2': 0.6152793548348007, 'rouge-l': 0.7509509026756795, 'best': 0.6935523703748819}\n",
            "Epoch 1/20\n",
            "934/934 [==============================] - 2s 2ms/step - loss: 0.0031 - accuracy: 0.9981\n"
          ],
          "name": "stdout"
        },
        {
          "output_type": "stream",
          "text": [
            "评估中: 66it [00:04, 15.80it/s]\n"
          ],
          "name": "stderr"
        },
        {
          "output_type": "stream",
          "text": [
            "{'main': 0.7491676068716575, 'rouge-1': 0.7750882772152738, 'rouge-2': 0.6840166367886882, 'rouge-l': 0.8013582417828186, 'best': 0.7491676068716575}\n",
            "Epoch 2/20\n",
            "934/934 [==============================] - 2s 2ms/step - loss: 0.0029 - accuracy: 0.9983\n"
          ],
          "name": "stdout"
        },
        {
          "output_type": "stream",
          "text": [
            "评估中: 66it [00:04, 15.42it/s]\n"
          ],
          "name": "stderr"
        },
        {
          "output_type": "stream",
          "text": [
            "{'main': 0.7488974808045032, 'rouge-1': 0.7748218308379288, 'rouge-2': 0.6837423746227078, 'rouge-l': 0.8010904119695859, 'best': 0.7491676068716575}\n",
            "Epoch 3/20\n",
            "934/934 [==============================] - 2s 2ms/step - loss: 0.0028 - accuracy: 0.9983\n"
          ],
          "name": "stdout"
        },
        {
          "output_type": "stream",
          "text": [
            "评估中: 66it [00:04, 15.04it/s]\n"
          ],
          "name": "stderr"
        },
        {
          "output_type": "stream",
          "text": [
            "{'main': 0.7488832598199935, 'rouge-1': 0.7748324225663322, 'rouge-2': 0.6836864827578926, 'rouge-l': 0.801105455508925, 'best': 0.7491676068716575}\n",
            "Epoch 4/20\n",
            "934/934 [==============================] - 2s 2ms/step - loss: 0.0029 - accuracy: 0.9984\n"
          ],
          "name": "stdout"
        },
        {
          "output_type": "stream",
          "text": [
            "评估中: 66it [00:04, 15.20it/s]\n"
          ],
          "name": "stderr"
        },
        {
          "output_type": "stream",
          "text": [
            "{'main': 0.7492941139315835, 'rouge-1': 0.7752045045572306, 'rouge-2': 0.6841203804222846, 'rouge-l': 0.8015126521280589, 'best': 0.7492941139315835}\n",
            "Epoch 5/20\n",
            "934/934 [==============================] - 2s 2ms/step - loss: 0.0031 - accuracy: 0.9981\n"
          ],
          "name": "stdout"
        },
        {
          "output_type": "stream",
          "text": [
            "评估中: 66it [00:04, 15.02it/s]\n"
          ],
          "name": "stderr"
        },
        {
          "output_type": "stream",
          "text": [
            "{'main': 0.7488832598199935, 'rouge-1': 0.7748324225663322, 'rouge-2': 0.6836864827578926, 'rouge-l': 0.801105455508925, 'best': 0.7492941139315835}\n",
            "Epoch 6/20\n",
            "934/934 [==============================] - 2s 2ms/step - loss: 0.0031 - accuracy: 0.9982\n"
          ],
          "name": "stdout"
        },
        {
          "output_type": "stream",
          "text": [
            "评估中: 66it [00:04, 15.28it/s]\n"
          ],
          "name": "stderr"
        },
        {
          "output_type": "stream",
          "text": [
            "{'main': 0.7490239878644293, 'rouge-1': 0.7749380581798855, 'rouge-2': 0.6838461182563043, 'rouge-l': 0.8012448223148262, 'best': 0.7492941139315835}\n",
            "Epoch 7/20\n",
            "934/934 [==============================] - 2s 2ms/step - loss: 0.0031 - accuracy: 0.9982\n"
          ],
          "name": "stdout"
        },
        {
          "output_type": "stream",
          "text": [
            "评估中: 66it [00:04, 15.18it/s]\n"
          ],
          "name": "stderr"
        },
        {
          "output_type": "stream",
          "text": [
            "{'main': 0.7488832598199935, 'rouge-1': 0.7748324225663322, 'rouge-2': 0.6836864827578926, 'rouge-l': 0.801105455508925, 'best': 0.7492941139315835}\n",
            "Epoch 8/20\n",
            "934/934 [==============================] - 2s 2ms/step - loss: 0.0033 - accuracy: 0.9981\n"
          ],
          "name": "stdout"
        },
        {
          "output_type": "stream",
          "text": [
            "评估中: 66it [00:04, 15.31it/s]\n"
          ],
          "name": "stderr"
        },
        {
          "output_type": "stream",
          "text": [
            "{'main': 0.7492941139315835, 'rouge-1': 0.7752045045572306, 'rouge-2': 0.6841203804222846, 'rouge-l': 0.8015126521280589, 'best': 0.7492941139315835}\n",
            "Epoch 9/20\n",
            "934/934 [==============================] - 2s 2ms/step - loss: 0.0030 - accuracy: 0.9983\n"
          ],
          "name": "stdout"
        },
        {
          "output_type": "stream",
          "text": [
            "评估中: 66it [00:04, 15.33it/s]\n"
          ],
          "name": "stderr"
        },
        {
          "output_type": "stream",
          "text": [
            "{'main': 0.7486689043643836, 'rouge-1': 0.7745828613116554, 'rouge-2': 0.6834677749382885, 'rouge-l': 0.8009130553168425, 'best': 0.7492941139315835}\n",
            "Epoch 10/20\n",
            "934/934 [==============================] - 2s 2ms/step - loss: 0.0028 - accuracy: 0.9984\n"
          ],
          "name": "stdout"
        },
        {
          "output_type": "stream",
          "text": [
            "评估中: 66it [00:04, 15.25it/s]\n"
          ],
          "name": "stderr"
        },
        {
          "output_type": "stream",
          "text": [
            "{'main': 0.7488096324088194, 'rouge-1': 0.7746884969252087, 'rouge-2': 0.6836274104367003, 'rouge-l': 0.8010524221227437, 'best': 0.7492941139315835}\n",
            "Epoch 11/20\n",
            "934/934 [==============================] - 2s 2ms/step - loss: 0.0024 - accuracy: 0.9986\n"
          ],
          "name": "stdout"
        },
        {
          "output_type": "stream",
          "text": [
            "评估中: 66it [00:04, 15.28it/s]\n"
          ],
          "name": "stderr"
        },
        {
          "output_type": "stream",
          "text": [
            "{'main': 0.7488096324088194, 'rouge-1': 0.7746884969252087, 'rouge-2': 0.6836274104367003, 'rouge-l': 0.8010524221227437, 'best': 0.7492941139315835}\n",
            "Epoch 12/20\n",
            "934/934 [==============================] - 2s 2ms/step - loss: 0.0025 - accuracy: 0.9984\n"
          ],
          "name": "stdout"
        },
        {
          "output_type": "stream",
          "text": [
            "评估中: 66it [00:04, 15.21it/s]\n"
          ],
          "name": "stderr"
        },
        {
          "output_type": "stream",
          "text": [
            "{'main': 0.7488096324088194, 'rouge-1': 0.7746884969252087, 'rouge-2': 0.6836274104367003, 'rouge-l': 0.8010524221227437, 'best': 0.7492941139315835}\n",
            "Epoch 13/20\n",
            "934/934 [==============================] - 2s 2ms/step - loss: 0.0029 - accuracy: 0.9984\n"
          ],
          "name": "stdout"
        },
        {
          "output_type": "stream",
          "text": [
            "评估中: 66it [00:04, 15.24it/s]\n"
          ],
          "name": "stderr"
        },
        {
          "output_type": "stream",
          "text": [
            "{'main': 0.7492578368675044, 'rouge-1': 0.7750647317156751, 'rouge-2': 0.6839633635926339, 'rouge-l': 0.8016488627182894, 'best': 0.7492941139315835}\n",
            "Epoch 14/20\n",
            "934/934 [==============================] - 2s 2ms/step - loss: 0.0031 - accuracy: 0.9982\n"
          ],
          "name": "stdout"
        },
        {
          "output_type": "stream",
          "text": [
            "评估中: 66it [00:04, 15.17it/s]\n"
          ],
          "name": "stderr"
        },
        {
          "output_type": "stream",
          "text": [
            "{'main': 0.748965990059702, 'rouge-1': 0.7748243815584555, 'rouge-2': 0.6836111123454929, 'rouge-l': 0.8013916720245343, 'best': 0.7492941139315835}\n",
            "Epoch 15/20\n",
            "934/934 [==============================] - 2s 2ms/step - loss: 0.0032 - accuracy: 0.9982\n"
          ],
          "name": "stdout"
        },
        {
          "output_type": "stream",
          "text": [
            "评估中: 66it [00:08,  7.75it/s]\n"
          ],
          "name": "stderr"
        },
        {
          "output_type": "stream",
          "text": [
            "{'main': 0.7492448725542887, 'rouge-1': 0.7752635669489658, 'rouge-2': 0.6843200659431946, 'rouge-l': 0.8011603319680441, 'best': 0.7492941139315835}\n",
            "Epoch 16/20\n",
            "934/934 [==============================] - 2s 2ms/step - loss: 0.0034 - accuracy: 0.9980\n"
          ],
          "name": "stdout"
        },
        {
          "output_type": "stream",
          "text": [
            "评估中: 66it [00:04, 15.85it/s]\n"
          ],
          "name": "stderr"
        },
        {
          "output_type": "stream",
          "text": [
            "{'main': 0.7494939084254831, 'rouge-1': 0.7752842800878996, 'rouge-2': 0.6841843294944493, 'rouge-l': 0.8019083015253081, 'best': 0.7494939084254831}\n",
            "Epoch 17/20\n",
            "934/934 [==============================] - 2s 2ms/step - loss: 0.0028 - accuracy: 0.9984\n"
          ],
          "name": "stdout"
        },
        {
          "output_type": "stream",
          "text": [
            "评估中: 66it [00:04, 15.85it/s]\n"
          ],
          "name": "stderr"
        },
        {
          "output_type": "stream",
          "text": [
            "{'main': 0.7488863702134573, 'rouge-1': 0.7747848054449102, 'rouge-2': 0.6836719532856063, 'rouge-l': 0.8011515695255816, 'best': 0.7494939084254831}\n",
            "Epoch 18/20\n",
            "934/934 [==============================] - 2s 2ms/step - loss: 0.0029 - accuracy: 0.9982\n"
          ],
          "name": "stdout"
        },
        {
          "output_type": "stream",
          "text": [
            "评估中: 66it [00:04, 15.24it/s]\n"
          ],
          "name": "stderr"
        },
        {
          "output_type": "stream",
          "text": [
            "{'main': 0.7488129007765897, 'rouge-1': 0.7745586328619223, 'rouge-2': 0.6836013659849314, 'rouge-l': 0.8011515695255816, 'best': 0.7494939084254831}\n",
            "Epoch 19/20\n",
            "934/934 [==============================] - 2s 2ms/step - loss: 0.0026 - accuracy: 0.9985\n"
          ],
          "name": "stdout"
        },
        {
          "output_type": "stream",
          "text": [
            "评估中: 66it [00:04, 15.18it/s]\n"
          ],
          "name": "stderr"
        },
        {
          "output_type": "stream",
          "text": [
            "{'main': 0.7489586922048961, 'rouge-1': 0.7749087493683651, 'rouge-2': 0.6838369003191329, 'rouge-l': 0.801105455508925, 'best': 0.7494939084254831}\n",
            "Epoch 20/20\n",
            "934/934 [==============================] - 2s 2ms/step - loss: 0.0025 - accuracy: 0.9985\n"
          ],
          "name": "stdout"
        },
        {
          "output_type": "stream",
          "text": [
            "评估中: 66it [00:04, 14.94it/s]\n"
          ],
          "name": "stderr"
        },
        {
          "output_type": "stream",
          "text": [
            "{'main': 0.7485205583910626, 'rouge-1': 0.7742809953329955, 'rouge-2': 0.6832478429943162, 'rouge-l': 0.8009130553168425, 'best': 0.7494939084254831}\n",
            "Epoch 1/20\n",
            "934/934 [==============================] - 2s 2ms/step - loss: 0.0027 - accuracy: 0.9985\n"
          ],
          "name": "stdout"
        },
        {
          "output_type": "stream",
          "text": [
            "评估中: 66it [00:04, 13.42it/s]\n"
          ],
          "name": "stderr"
        },
        {
          "output_type": "stream",
          "text": [
            "{'main': 0.7080292183608987, 'rouge-1': 0.7373890844648221, 'rouge-2': 0.6320392944054894, 'rouge-l': 0.7693392092643465, 'best': 0.7080292183608987}\n",
            "Epoch 2/20\n",
            "934/934 [==============================] - 2s 2ms/step - loss: 0.0030 - accuracy: 0.9981\n"
          ],
          "name": "stdout"
        },
        {
          "output_type": "stream",
          "text": [
            "评估中: 66it [00:04, 13.51it/s]\n"
          ],
          "name": "stderr"
        },
        {
          "output_type": "stream",
          "text": [
            "{'main': 0.7085626859635448, 'rouge-1': 0.7378172189914506, 'rouge-2': 0.6325826119332923, 'rouge-l': 0.7699154934798447, 'best': 0.7085626859635448}\n",
            "Epoch 3/20\n",
            "934/934 [==============================] - 2s 2ms/step - loss: 0.0026 - accuracy: 0.9984\n"
          ],
          "name": "stdout"
        },
        {
          "output_type": "stream",
          "text": [
            "评估中: 66it [00:04, 13.52it/s]\n"
          ],
          "name": "stderr"
        },
        {
          "output_type": "stream",
          "text": [
            "{'main': 0.7091229822280015, 'rouge-1': 0.7386820072227459, 'rouge-2': 0.6332856924170952, 'rouge-l': 0.770180759541536, 'best': 0.7091229822280015}\n",
            "Epoch 4/20\n",
            "934/934 [==============================] - 2s 2ms/step - loss: 0.0029 - accuracy: 0.9982\n"
          ],
          "name": "stdout"
        },
        {
          "output_type": "stream",
          "text": [
            "评估中: 66it [00:04, 13.50it/s]\n"
          ],
          "name": "stderr"
        },
        {
          "output_type": "stream",
          "text": [
            "{'main': 0.7085696060251481, 'rouge-1': 0.7378542408586355, 'rouge-2': 0.6325814011537081, 'rouge-l': 0.7699154934798447, 'best': 0.7091229822280015}\n",
            "Epoch 5/20\n",
            "934/934 [==============================] - 2s 2ms/step - loss: 0.0027 - accuracy: 0.9983\n"
          ],
          "name": "stdout"
        },
        {
          "output_type": "stream",
          "text": [
            "评估中: 66it [00:04, 13.43it/s]\n"
          ],
          "name": "stderr"
        },
        {
          "output_type": "stream",
          "text": [
            "{'main': 0.7086604630598418, 'rouge-1': 0.7378333119446217, 'rouge-2': 0.6326707408079144, 'rouge-l': 0.7700637608693797, 'best': 0.7091229822280015}\n",
            "Epoch 6/20\n",
            "934/934 [==============================] - 2s 2ms/step - loss: 0.0031 - accuracy: 0.9982\n"
          ],
          "name": "stdout"
        },
        {
          "output_type": "stream",
          "text": [
            "评估中: 66it [00:04, 13.38it/s]\n"
          ],
          "name": "stderr"
        },
        {
          "output_type": "stream",
          "text": [
            "{'main': 0.7085626859635448, 'rouge-1': 0.7378172189914506, 'rouge-2': 0.6325826119332923, 'rouge-l': 0.7699154934798447, 'best': 0.7091229822280015}\n",
            "Epoch 7/20\n",
            "934/934 [==============================] - 2s 2ms/step - loss: 0.0034 - accuracy: 0.9980\n"
          ],
          "name": "stdout"
        },
        {
          "output_type": "stream",
          "text": [
            "评估中: 66it [00:04, 13.42it/s]\n"
          ],
          "name": "stderr"
        },
        {
          "output_type": "stream",
          "text": [
            "{'main': 0.7083623120145379, 'rouge-1': 0.737548791344498, 'rouge-2': 0.6324220585835115, 'rouge-l': 0.7697093257805852, 'best': 0.7091229822280015}\n",
            "Epoch 8/20\n",
            "934/934 [==============================] - 2s 2ms/step - loss: 0.0029 - accuracy: 0.9982\n"
          ],
          "name": "stdout"
        },
        {
          "output_type": "stream",
          "text": [
            "评估中: 66it [00:04, 13.48it/s]\n"
          ],
          "name": "stderr"
        },
        {
          "output_type": "stream",
          "text": [
            "{'main': 0.7085906934252953, 'rouge-1': 0.7377503104433775, 'rouge-2': 0.6326314238846403, 'rouge-l': 0.7699701544569099, 'best': 0.7091229822280015}\n",
            "Epoch 9/20\n",
            "934/934 [==============================] - 2s 2ms/step - loss: 0.0028 - accuracy: 0.9984\n"
          ],
          "name": "stdout"
        },
        {
          "output_type": "stream",
          "text": [
            "评估中: 66it [00:04, 13.27it/s]\n"
          ],
          "name": "stderr"
        },
        {
          "output_type": "stream",
          "text": [
            "{'main': 0.7086854447354737, 'rouge-1': 0.7379047960659149, 'rouge-2': 0.6327771497615844, 'rouge-l': 0.7699840640441428, 'best': 0.7091229822280015}\n",
            "Epoch 10/20\n",
            "934/934 [==============================] - 2s 2ms/step - loss: 0.0027 - accuracy: 0.9984\n"
          ],
          "name": "stdout"
        },
        {
          "output_type": "stream",
          "text": [
            "评估中: 66it [00:09,  6.95it/s]"
          ],
          "name": "stderr"
        },
        {
          "output_type": "stream",
          "text": [
            "{'main': 0.7085906934252953, 'rouge-1': 0.7377503104433775, 'rouge-2': 0.6326314238846403, 'rouge-l': 0.7699701544569099, 'best': 0.7091229822280015}\n",
            "Epoch 11/20\n",
            "\r 64/934 [=>............................] - ETA: 2s - loss: 0.0020 - accuracy: 0.9989"
          ],
          "name": "stdout"
        },
        {
          "output_type": "stream",
          "text": [
            "\n"
          ],
          "name": "stderr"
        },
        {
          "output_type": "stream",
          "text": [
            "934/934 [==============================] - 2s 2ms/step - loss: 0.0028 - accuracy: 0.9985\n"
          ],
          "name": "stdout"
        },
        {
          "output_type": "stream",
          "text": [
            "评估中: 66it [00:04, 13.99it/s]\n"
          ],
          "name": "stderr"
        },
        {
          "output_type": "stream",
          "text": [
            "{'main': 0.7085121343054633, 'rouge-1': 0.7376419614316923, 'rouge-2': 0.632530009557442, 'rouge-l': 0.7699293454903705, 'best': 0.7091229822280015}\n",
            "Epoch 12/20\n",
            "934/934 [==============================] - 2s 2ms/step - loss: 0.0029 - accuracy: 0.9985\n"
          ],
          "name": "stdout"
        },
        {
          "output_type": "stream",
          "text": [
            "评估中: 66it [00:04, 14.05it/s]\n"
          ],
          "name": "stderr"
        },
        {
          "output_type": "stream",
          "text": [
            "{'main': 0.7087558203414636, 'rouge-1': 0.7378181458185616, 'rouge-2': 0.6327789376497921, 'rouge-l': 0.7702015402945863, 'best': 0.7091229822280015}\n",
            "Epoch 13/20\n",
            "934/934 [==============================] - 2s 2ms/step - loss: 0.0027 - accuracy: 0.9984\n"
          ],
          "name": "stdout"
        },
        {
          "output_type": "stream",
          "text": [
            "评估中: 66it [00:04, 13.74it/s]\n"
          ],
          "name": "stderr"
        },
        {
          "output_type": "stream",
          "text": [
            "{'main': 0.7087492712086861, 'rouge-1': 0.7375697855058386, 'rouge-2': 0.6327471397626095, 'rouge-l': 0.7703411455061868, 'best': 0.7091229822280015}\n",
            "Epoch 14/20\n",
            "934/934 [==============================] - 2s 2ms/step - loss: 0.0025 - accuracy: 0.9986\n"
          ],
          "name": "stdout"
        },
        {
          "output_type": "stream",
          "text": [
            "评估中: 66it [00:04, 13.46it/s]\n"
          ],
          "name": "stderr"
        },
        {
          "output_type": "stream",
          "text": [
            "{'main': 0.7085055851726859, 'rouge-1': 0.7373936011189691, 'rouge-2': 0.6324982116702594, 'rouge-l': 0.770068950701971, 'best': 0.7091229822280015}\n",
            "Epoch 15/20\n",
            "934/934 [==============================] - 2s 2ms/step - loss: 0.0028 - accuracy: 0.9984\n"
          ],
          "name": "stdout"
        },
        {
          "output_type": "stream",
          "text": [
            "评估中: 66it [00:04, 13.46it/s]\n"
          ],
          "name": "stderr"
        },
        {
          "output_type": "stream",
          "text": [
            "{'main': 0.7080238746683595, 'rouge-1': 0.7372181213350912, 'rouge-2': 0.6320274046142174, 'rouge-l': 0.7694232213891365, 'best': 0.7091229822280015}\n",
            "Epoch 16/20\n",
            "934/934 [==============================] - 2s 2ms/step - loss: 0.0027 - accuracy: 0.9984\n"
          ],
          "name": "stdout"
        },
        {
          "output_type": "stream",
          "text": [
            "评估中: 66it [00:04, 13.39it/s]\n"
          ],
          "name": "stderr"
        },
        {
          "output_type": "stream",
          "text": [
            "{'main': 0.7088343794612957, 'rouge-1': 0.7379264948302469, 'rouge-2': 0.6328803519769904, 'rouge-l': 0.7702423492611257, 'best': 0.7091229822280015}\n",
            "Epoch 17/20\n",
            "934/934 [==============================] - 2s 2ms/step - loss: 0.0024 - accuracy: 0.9986\n"
          ],
          "name": "stdout"
        },
        {
          "output_type": "stream",
          "text": [
            "评估中: 66it [00:04, 13.27it/s]\n"
          ],
          "name": "stderr"
        },
        {
          "output_type": "stream",
          "text": [
            "{'main': 0.7075571101099521, 'rouge-1': 0.7365499962729493, 'rouge-2': 0.6318123345836091, 'rouge-l': 0.768805442554797, 'best': 0.7091229822280015}\n",
            "Epoch 18/20\n",
            "934/934 [==============================] - 2s 2ms/step - loss: 0.0023 - accuracy: 0.9987\n"
          ],
          "name": "stdout"
        },
        {
          "output_type": "stream",
          "text": [
            "评估中: 66it [00:04, 13.28it/s]\n"
          ],
          "name": "stderr"
        },
        {
          "output_type": "stream",
          "text": [
            "{'main': 0.7086663008266206, 'rouge-1': 0.7377854534404659, 'rouge-2': 0.6326981505350251, 'rouge-l': 0.7700748748112942, 'best': 0.7091229822280015}\n",
            "Epoch 19/20\n",
            "934/934 [==============================] - 2s 2ms/step - loss: 0.0025 - accuracy: 0.9985\n"
          ],
          "name": "stdout"
        },
        {
          "output_type": "stream",
          "text": [
            "评估中: 66it [00:04, 13.56it/s]\n"
          ],
          "name": "stderr"
        },
        {
          "output_type": "stream",
          "text": [
            "{'main': 0.7080929329369074, 'rouge-1': 0.7370049040194565, 'rouge-2': 0.6320623333774196, 'rouge-l': 0.7696675469551213, 'best': 0.7091229822280015}\n",
            "Epoch 20/20\n",
            "934/934 [==============================] - 2s 2ms/step - loss: 0.0023 - accuracy: 0.9986\n"
          ],
          "name": "stdout"
        },
        {
          "output_type": "stream",
          "text": [
            "评估中: 66it [00:04, 13.45it/s]\n"
          ],
          "name": "stderr"
        },
        {
          "output_type": "stream",
          "text": [
            "{'main': 0.7080929329369074, 'rouge-1': 0.7370049040194565, 'rouge-2': 0.6320623333774196, 'rouge-l': 0.7696675469551213, 'best': 0.7091229822280015}\n",
            "Epoch 1/20\n",
            "934/934 [==============================] - 2s 2ms/step - loss: 0.0027 - accuracy: 0.9984\n"
          ],
          "name": "stdout"
        },
        {
          "output_type": "stream",
          "text": [
            "评估中: 66it [00:04, 15.14it/s]\n"
          ],
          "name": "stderr"
        },
        {
          "output_type": "stream",
          "text": [
            "{'main': 0.7441700260805362, 'rouge-1': 0.7688343097379746, 'rouge-2': 0.6715240873290766, 'rouge-l': 0.8044838230032764, 'best': 0.7441700260805362}\n",
            "Epoch 2/20\n",
            "934/934 [==============================] - 2s 2ms/step - loss: 0.0032 - accuracy: 0.9982\n"
          ],
          "name": "stdout"
        },
        {
          "output_type": "stream",
          "text": [
            "评估中: 66it [00:04, 14.72it/s]\n"
          ],
          "name": "stderr"
        },
        {
          "output_type": "stream",
          "text": [
            "{'main': 0.7441700260805362, 'rouge-1': 0.7688343097379746, 'rouge-2': 0.6715240873290766, 'rouge-l': 0.8044838230032764, 'best': 0.7441700260805362}\n",
            "Epoch 3/20\n",
            "934/934 [==============================] - 2s 2ms/step - loss: 0.0031 - accuracy: 0.9983\n"
          ],
          "name": "stdout"
        },
        {
          "output_type": "stream",
          "text": [
            "评估中: 66it [00:04, 14.86it/s]\n"
          ],
          "name": "stderr"
        },
        {
          "output_type": "stream",
          "text": [
            "{'main': 0.7441700260805362, 'rouge-1': 0.7688343097379746, 'rouge-2': 0.6715240873290766, 'rouge-l': 0.8044838230032764, 'best': 0.7441700260805362}\n",
            "Epoch 4/20\n",
            "934/934 [==============================] - 2s 2ms/step - loss: 0.0029 - accuracy: 0.9984\n"
          ],
          "name": "stdout"
        },
        {
          "output_type": "stream",
          "text": [
            "评估中: 66it [00:04, 15.03it/s]\n"
          ],
          "name": "stderr"
        },
        {
          "output_type": "stream",
          "text": [
            "{'main': 0.7441700260805362, 'rouge-1': 0.7688343097379746, 'rouge-2': 0.6715240873290766, 'rouge-l': 0.8044838230032764, 'best': 0.7441700260805362}\n",
            "Epoch 5/20\n",
            "934/934 [==============================] - 2s 2ms/step - loss: 0.0029 - accuracy: 0.9984\n"
          ],
          "name": "stdout"
        },
        {
          "output_type": "stream",
          "text": [
            "评估中: 66it [00:04, 15.03it/s]\n"
          ],
          "name": "stderr"
        },
        {
          "output_type": "stream",
          "text": [
            "{'main': 0.7441700260805362, 'rouge-1': 0.7688343097379746, 'rouge-2': 0.6715240873290766, 'rouge-l': 0.8044838230032764, 'best': 0.7441700260805362}\n",
            "Epoch 6/20\n",
            "934/934 [==============================] - 2s 2ms/step - loss: 0.0028 - accuracy: 0.9984\n"
          ],
          "name": "stdout"
        },
        {
          "output_type": "stream",
          "text": [
            "评估中: 66it [00:09,  7.31it/s]\n"
          ],
          "name": "stderr"
        },
        {
          "output_type": "stream",
          "text": [
            "{'main': 0.7441700260805362, 'rouge-1': 0.7688343097379746, 'rouge-2': 0.6715240873290766, 'rouge-l': 0.8044838230032764, 'best': 0.7441700260805362}\n",
            "Epoch 7/20\n",
            "934/934 [==============================] - 2s 2ms/step - loss: 0.0029 - accuracy: 0.9983\n"
          ],
          "name": "stdout"
        },
        {
          "output_type": "stream",
          "text": [
            "评估中: 66it [00:04, 15.24it/s]\n"
          ],
          "name": "stderr"
        },
        {
          "output_type": "stream",
          "text": [
            "{'main': 0.7441700260805362, 'rouge-1': 0.7688343097379746, 'rouge-2': 0.6715240873290766, 'rouge-l': 0.8044838230032764, 'best': 0.7441700260805362}\n",
            "Epoch 8/20\n",
            "934/934 [==============================] - 2s 2ms/step - loss: 0.0025 - accuracy: 0.9985\n"
          ],
          "name": "stdout"
        },
        {
          "output_type": "stream",
          "text": [
            "评估中: 66it [00:04, 15.30it/s]\n"
          ],
          "name": "stderr"
        },
        {
          "output_type": "stream",
          "text": [
            "{'main': 0.7441700260805362, 'rouge-1': 0.7688343097379746, 'rouge-2': 0.6715240873290766, 'rouge-l': 0.8044838230032764, 'best': 0.7441700260805362}\n",
            "Epoch 9/20\n",
            "934/934 [==============================] - 2s 2ms/step - loss: 0.0023 - accuracy: 0.9986\n"
          ],
          "name": "stdout"
        },
        {
          "output_type": "stream",
          "text": [
            "评估中: 66it [00:04, 15.20it/s]\n"
          ],
          "name": "stderr"
        },
        {
          "output_type": "stream",
          "text": [
            "{'main': 0.7441700260805362, 'rouge-1': 0.7688343097379746, 'rouge-2': 0.6715240873290766, 'rouge-l': 0.8044838230032764, 'best': 0.7441700260805362}\n",
            "Epoch 10/20\n",
            "934/934 [==============================] - 2s 2ms/step - loss: 0.0026 - accuracy: 0.9985\n"
          ],
          "name": "stdout"
        },
        {
          "output_type": "stream",
          "text": [
            "评估中: 66it [00:04, 14.85it/s]\n"
          ],
          "name": "stderr"
        },
        {
          "output_type": "stream",
          "text": [
            "{'main': 0.7438237551477396, 'rouge-1': 0.768518779126331, 'rouge-2': 0.6712513571604634, 'rouge-l': 0.80404864114572, 'best': 0.7441700260805362}\n",
            "Epoch 11/20\n",
            "934/934 [==============================] - 2s 2ms/step - loss: 0.0025 - accuracy: 0.9985\n"
          ],
          "name": "stdout"
        },
        {
          "output_type": "stream",
          "text": [
            "评估中: 66it [00:04, 14.66it/s]\n"
          ],
          "name": "stderr"
        },
        {
          "output_type": "stream",
          "text": [
            "{'main': 0.7441700260805362, 'rouge-1': 0.7688343097379746, 'rouge-2': 0.6715240873290766, 'rouge-l': 0.8044838230032764, 'best': 0.7441700260805362}\n",
            "Epoch 12/20\n",
            "934/934 [==============================] - 2s 2ms/step - loss: 0.0024 - accuracy: 0.9985\n"
          ],
          "name": "stdout"
        },
        {
          "output_type": "stream",
          "text": [
            "评估中: 66it [00:04, 14.80it/s]\n"
          ],
          "name": "stderr"
        },
        {
          "output_type": "stream",
          "text": [
            "{'main': 0.7441700260805362, 'rouge-1': 0.7688343097379746, 'rouge-2': 0.6715240873290766, 'rouge-l': 0.8044838230032764, 'best': 0.7441700260805362}\n",
            "Epoch 13/20\n",
            "934/934 [==============================] - 2s 2ms/step - loss: 0.0024 - accuracy: 0.9986\n"
          ],
          "name": "stdout"
        },
        {
          "output_type": "stream",
          "text": [
            "评估中: 66it [00:04, 14.88it/s]\n"
          ],
          "name": "stderr"
        },
        {
          "output_type": "stream",
          "text": [
            "{'main': 0.7440771193698278, 'rouge-1': 0.7688091246123884, 'rouge-2': 0.671516037556277, 'rouge-l': 0.804272198562098, 'best': 0.7441700260805362}\n",
            "Epoch 14/20\n",
            "934/934 [==============================] - 2s 2ms/step - loss: 0.0035 - accuracy: 0.9979\n"
          ],
          "name": "stdout"
        },
        {
          "output_type": "stream",
          "text": [
            "评估中: 66it [00:04, 14.87it/s]\n"
          ],
          "name": "stderr"
        },
        {
          "output_type": "stream",
          "text": [
            "{'main': 0.7441700260805362, 'rouge-1': 0.7688343097379746, 'rouge-2': 0.6715240873290766, 'rouge-l': 0.8044838230032764, 'best': 0.7441700260805362}\n",
            "Epoch 15/20\n",
            "934/934 [==============================] - 2s 2ms/step - loss: 0.0033 - accuracy: 0.9981\n"
          ],
          "name": "stdout"
        },
        {
          "output_type": "stream",
          "text": [
            "评估中: 66it [00:04, 14.82it/s]\n"
          ],
          "name": "stderr"
        },
        {
          "output_type": "stream",
          "text": [
            "{'main': 0.7441700260805362, 'rouge-1': 0.7688343097379746, 'rouge-2': 0.6715240873290766, 'rouge-l': 0.8044838230032764, 'best': 0.7441700260805362}\n",
            "Epoch 16/20\n",
            "934/934 [==============================] - 2s 2ms/step - loss: 0.0027 - accuracy: 0.9985\n"
          ],
          "name": "stdout"
        },
        {
          "output_type": "stream",
          "text": [
            "评估中: 66it [00:04, 14.81it/s]\n"
          ],
          "name": "stderr"
        },
        {
          "output_type": "stream",
          "text": [
            "{'main': 0.7434583752380437, 'rouge-1': 0.7680497542183878, 'rouge-2': 0.6705700249709536, 'rouge-l': 0.8040510360149619, 'best': 0.7441700260805362}\n",
            "Epoch 17/20\n",
            "934/934 [==============================] - 2s 2ms/step - loss: 0.0024 - accuracy: 0.9986\n"
          ],
          "name": "stdout"
        },
        {
          "output_type": "stream",
          "text": [
            "评估中: 66it [00:04, 14.93it/s]\n"
          ],
          "name": "stderr"
        },
        {
          "output_type": "stream",
          "text": [
            "{'main': 0.7441700260805362, 'rouge-1': 0.7688343097379746, 'rouge-2': 0.6715240873290766, 'rouge-l': 0.8044838230032764, 'best': 0.7441700260805362}\n",
            "Epoch 18/20\n",
            "934/934 [==============================] - 2s 2ms/step - loss: 0.0023 - accuracy: 0.9986\n"
          ],
          "name": "stdout"
        },
        {
          "output_type": "stream",
          "text": [
            "评估中: 66it [00:04, 14.80it/s]\n"
          ],
          "name": "stderr"
        },
        {
          "output_type": "stream",
          "text": [
            "{'main': 0.7439373502620567, 'rouge-1': 0.7683891402231403, 'rouge-2': 0.6711649825402951, 'rouge-l': 0.8044838230032764, 'best': 0.7441700260805362}\n",
            "Epoch 19/20\n",
            "934/934 [==============================] - 2s 2ms/step - loss: 0.0025 - accuracy: 0.9985\n"
          ],
          "name": "stdout"
        },
        {
          "output_type": "stream",
          "text": [
            "评估中: 66it [00:04, 14.78it/s]\n"
          ],
          "name": "stderr"
        },
        {
          "output_type": "stream",
          "text": [
            "{'main': 0.7440836288915915, 'rouge-1': 0.7688437971288793, 'rouge-2': 0.6714818913460858, 'rouge-l': 0.8043052823184531, 'best': 0.7441700260805362}\n",
            "Epoch 20/20\n",
            "934/934 [==============================] - 2s 2ms/step - loss: 0.0030 - accuracy: 0.9982\n"
          ],
          "name": "stdout"
        },
        {
          "output_type": "stream",
          "text": [
            "评估中: 66it [00:04, 14.72it/s]\n"
          ],
          "name": "stderr"
        },
        {
          "output_type": "stream",
          "text": [
            "{'main': 0.7441700260805362, 'rouge-1': 0.7688343097379746, 'rouge-2': 0.6715240873290766, 'rouge-l': 0.8044838230032764, 'best': 0.7441700260805362}\n"
          ],
          "name": "stdout"
        }
      ]
    },
    {
      "cell_type": "code",
      "metadata": {
        "id": "TYa0TqxLG0e9",
        "colab": {
          "base_uri": "https://localhost:8080/"
        },
        "outputId": "e6cdb726-1bb7-4f53-b5a7-acd3ae3eed3e"
      },
      "source": [
        "#! -*- coding: utf-8 -*-\n",
        "# 法研杯2020 司法摘要\n",
        "# 生成式：数据转换\n",
        "# 科学空间：https://kexue.fm\n",
        "\n",
        "from bert4keras.snippets import open\n",
        "\n",
        "\n",
        "def fold_convert(data, data_x, fold):\n",
        "    \"\"\"每一fold用对应的模型做数据转换\n",
        "    \"\"\"\n",
        "    valid_data = data_split(data, fold, num_folds, 'valid')\n",
        "    valid_x = data_split(data_x, fold, num_folds, 'valid')\n",
        "\n",
        "    extract_model.load_weights('weights/extract_model.%s.weights' % fold)\n",
        "    y_pred = extract_model.predict(valid_x)[:, :, 0]\n",
        "\n",
        "    results = []\n",
        "    for d, yp in tqdm(zip(valid_data, y_pred), desc=u'转换中'):\n",
        "        yp = yp[:len(d[0])]\n",
        "        yp = np.where(yp > threshold)[0]\n",
        "        source_1 = ''.join([d[0][i] for i in yp])\n",
        "        source_2 = ''.join([d[0][i] for i in d[1]])\n",
        "        result = {\n",
        "            'source_1': source_1,\n",
        "            'source_2': source_2,\n",
        "            'target': d[2],\n",
        "        }\n",
        "        results.append(result)\n",
        "\n",
        "    return results\n",
        "\n",
        "\n",
        "def convert(filename, data, data_x):\n",
        "    \"\"\"转换为生成式数据\n",
        "    \"\"\"\n",
        "    F = open(filename, 'w', encoding='utf-8')\n",
        "    total_results = []\n",
        "    for fold in range(num_folds):\n",
        "        total_results.append(fold_convert(data, data_x, fold))\n",
        "\n",
        "    # 按照原始顺序写入到文件中\n",
        "    n = 0\n",
        "    while True:\n",
        "        i, j = n % num_folds, n // num_folds\n",
        "        try:\n",
        "            d = total_results[i][j]\n",
        "        except:\n",
        "            break\n",
        "        F.write(json.dumps(d, ensure_ascii=False) + '\\n')\n",
        "        n += 1\n",
        "\n",
        "    F.close()\n",
        "\n",
        "\n",
        "if __name__ == '__main__':\n",
        "\n",
        "    data = load_data(data_extract_json)\n",
        "    data_x = np.load(data_extract_npy)\n",
        "    data_seq2seq_json = data_json[:-5] + '_seq2seq.json'\n",
        "    convert(data_seq2seq_json, data, data_x)\n",
        "    print(u'输出路径：%s' % data_seq2seq_json)"
      ],
      "execution_count": null,
      "outputs": [
        {
          "output_type": "stream",
          "text": [
            "转换中: 67it [00:00, 38681.12it/s]\n",
            "转换中: 67it [00:00, 50588.37it/s]\n",
            "转换中: 67it [00:00, 55570.17it/s]\n",
            "转换中: 67it [00:00, 57977.79it/s]\n",
            "转换中: 67it [00:00, 50643.07it/s]\n",
            "转换中: 67it [00:00, 53344.41it/s]\n",
            "转换中: 67it [00:00, 57703.98it/s]\n",
            "转换中: 67it [00:00, 57374.11it/s]\n",
            "转换中: 67it [00:00, 58790.45it/s]\n",
            "转换中: 67it [00:00, 58864.34it/s]\n",
            "转换中: 66it [00:00, 59264.41it/s]\n",
            "转换中: 66it [00:00, 33388.50it/s]\n",
            "转换中: 66it [00:00, 37177.55it/s]\n",
            "转换中: 66it [00:00, 56656.58it/s]\n",
            "转换中: 66it [00:00, 57030.09it/s]"
          ],
          "name": "stderr"
        },
        {
          "output_type": "stream",
          "text": [
            "输出路径：./SPACES/datasets/train_seq2seq.json\n"
          ],
          "name": "stdout"
        },
        {
          "output_type": "stream",
          "text": [
            "\n"
          ],
          "name": "stderr"
        }
      ]
    },
    {
      "cell_type": "code",
      "metadata": {
        "id": "bRJ9-crMHzoB",
        "colab": {
          "base_uri": "https://localhost:8080/"
        },
        "outputId": "eeccd6e6-eead-4d6f-a1d3-82355e9c263b"
      },
      "source": [
        "#! -*- coding: utf-8 -*-\n",
        "# 法研杯2020 司法摘要\n",
        "# 生成式：正式模型\n",
        "# 科学空间：https://kexue.fm\n",
        "\n",
        "import os, json\n",
        "import numpy as np\n",
        "from tqdm import tqdm\n",
        "import tensorflow as tf\n",
        "from bert4keras.backend import keras, K, batch_gather\n",
        "from bert4keras.layers import Loss\n",
        "from bert4keras.models import build_transformer_model\n",
        "from bert4keras.tokenizers import Tokenizer, load_vocab\n",
        "from bert4keras.optimizers import Adam, extend_with_exponential_moving_average\n",
        "from bert4keras.snippets import sequence_padding, open\n",
        "from bert4keras.snippets import DataGenerator, AutoRegressiveDecoder\n",
        "from bert4keras.snippets import longest_common_subsequence\n",
        "from keras.layers import Input, Dense, Lambda\n",
        "from keras.models import Model\n",
        "#from snippets import *\n",
        "\n",
        "# 基本参数\n",
        "maxlen = 1024\n",
        "batch_size = 5\n",
        "epochs = 1024\n",
        "k_sparse = 10\n",
        "data_seq2seq_json = data_json[:-5] + '_seq2seq.json'\n",
        "seq2seq_config_json = data_json[:-10] + 'seq2seq_config.json'\n",
        "\n",
        "if len(sys.argv) == 1:\n",
        "    fold = 0\n",
        "else:\n",
        "    fold = 0 # int(sys.argv[1])\n",
        "\n",
        "\n",
        "def load_data(filename):\n",
        "    \"\"\"加载数据\n",
        "    返回：[{...}]\n",
        "    \"\"\"\n",
        "    D = []\n",
        "    with open(filename) as f:\n",
        "        for l in f:\n",
        "            D.append(json.loads(l))\n",
        "    return D\n",
        "\n",
        "\n",
        "if os.path.exists(seq2seq_config_json):\n",
        "    token_dict, keep_tokens, compound_tokens = json.load(\n",
        "        open(seq2seq_config_json)\n",
        "    )\n",
        "else:\n",
        "    # 加载并精简词表\n",
        "    token_dict, keep_tokens = load_vocab(\n",
        "        dict_path=nezha_dict_path,\n",
        "        simplified=True,\n",
        "        startswith=['[PAD]', '[UNK]', '[CLS]', '[SEP]'],\n",
        "    )\n",
        "    pure_tokenizer = Tokenizer(token_dict.copy(), do_lower_case=True)\n",
        "    user_dict = []\n",
        "    for w in load_user_dict(user_dict_path) + load_user_dict(user_dict_path_2):\n",
        "        if w not in token_dict:\n",
        "            token_dict[w] = len(token_dict)\n",
        "            user_dict.append(w)\n",
        "    compound_tokens = [pure_tokenizer.encode(w)[0][1:-1] for w in user_dict]\n",
        "    json.dump([token_dict, keep_tokens, compound_tokens],\n",
        "              open(seq2seq_config_json, 'w'))\n",
        "\n",
        "tokenizer = Tokenizer(\n",
        "    token_dict,\n",
        "    do_lower_case=True,\n",
        "    pre_tokenize=lambda s: jieba.cut(s, HMM=False)\n",
        ")\n",
        "\n",
        "\n",
        "def generate_copy_labels(source, target):\n",
        "    \"\"\"构建copy机制对应的label\n",
        "    \"\"\"\n",
        "    mapping = longest_common_subsequence(source, target)[1]\n",
        "    source_labels = [0] * len(source)\n",
        "    target_labels = [0] * len(target)\n",
        "    i0, j0 = -2, -2\n",
        "    for i, j in mapping:\n",
        "        if i == i0 + 1 and j == j0 + 1:\n",
        "            source_labels[i] = 2\n",
        "            target_labels[j] = 2\n",
        "        else:\n",
        "            source_labels[i] = 1\n",
        "            target_labels[j] = 1\n",
        "        i0, j0 = i, j\n",
        "    return source_labels, target_labels\n",
        "\n",
        "\n",
        "def random_masking(token_ids):\n",
        "    \"\"\"对输入进行随机mask，增加泛化能力\n",
        "    \"\"\"\n",
        "    rands = np.random.random(len(token_ids))\n",
        "    return [\n",
        "        t if r > 0.15 else np.random.choice(token_ids)\n",
        "        for r, t in zip(rands, token_ids)\n",
        "    ]\n",
        "\n",
        "\n",
        "class data_generator(DataGenerator):\n",
        "    \"\"\"数据生成器\n",
        "    \"\"\"\n",
        "    def __iter__(self, random=False):\n",
        "        batch_token_ids, batch_segment_ids = [], []\n",
        "        batch_output_ids, batch_labels = [], []\n",
        "        for is_end, d in self.sample(random):\n",
        "            i = np.random.choice(2) + 1 if random else 1\n",
        "            source, target = d['source_%s' % i], d['target']\n",
        "            token_ids, segment_ids = tokenizer.encode(\n",
        "                source, target, maxlen=maxlen, pattern='S*ES*E'\n",
        "            )\n",
        "            idx = token_ids.index(tokenizer._token_end_id) + 1\n",
        "            masked_token_ids = random_masking(token_ids)\n",
        "            source_labels, target_labels = generate_copy_labels(\n",
        "                masked_token_ids[:idx], token_ids[idx:]\n",
        "            )\n",
        "            labels = source_labels + target_labels[1:]\n",
        "            batch_token_ids.append(masked_token_ids)\n",
        "            batch_segment_ids.append(segment_ids)\n",
        "            batch_output_ids.append(token_ids)\n",
        "            batch_labels.append(labels)\n",
        "            if len(batch_token_ids) == self.batch_size or is_end:\n",
        "                batch_token_ids = sequence_padding(batch_token_ids)\n",
        "                batch_segment_ids = sequence_padding(batch_segment_ids)\n",
        "                batch_output_ids = sequence_padding(batch_output_ids)\n",
        "                batch_labels = sequence_padding(batch_labels)\n",
        "                yield [\n",
        "                    batch_token_ids, batch_segment_ids, \\\n",
        "                    batch_output_ids, batch_labels\n",
        "                ], None\n",
        "                batch_token_ids, batch_segment_ids = [], []\n",
        "                batch_output_ids, batch_labels = [], []\n",
        "\n",
        "\n",
        "class CrossEntropy(Loss):\n",
        "    \"\"\"交叉熵作为loss，并mask掉输入部分\n",
        "    \"\"\"\n",
        "    def compute_loss(self, inputs, mask=None):\n",
        "        seq2seq_loss = self.compute_seq2seq_loss(inputs, mask)\n",
        "        copy_loss = self.compute_copy_loss(inputs, mask)\n",
        "        self.add_metric(seq2seq_loss, 'seq2seq_loss')\n",
        "        self.add_metric(copy_loss, 'copy_loss')\n",
        "        return seq2seq_loss + 2 * copy_loss\n",
        "\n",
        "    def compute_seq2seq_loss(self, inputs, mask=None):\n",
        "        y_true, y_mask, _, y_pred, _ = inputs\n",
        "        y_true = y_true[:, 1:]  # 目标token_ids\n",
        "        y_mask = y_mask[:, :-1] * y_mask[:, 1:]  # segment_ids，刚好指示了要预测的部分\n",
        "        y_pred = y_pred[:, :-1]  # 预测序列，错开一位\n",
        "        # 正loss\n",
        "        pos_loss = batch_gather(y_pred, y_true[..., None])[..., 0]\n",
        "        # 负loss\n",
        "        y_pred = tf.nn.top_k(y_pred, k=k_sparse)[0]\n",
        "        neg_loss = K.logsumexp(y_pred, axis=-1)\n",
        "        # 总loss\n",
        "        loss = neg_loss - pos_loss\n",
        "        loss = K.sum(loss * y_mask) / K.sum(y_mask)\n",
        "        return loss\n",
        "\n",
        "    def compute_copy_loss(self, inputs, mask=None):\n",
        "        _, y_mask, y_true, _, y_pred = inputs\n",
        "        y_mask = K.cumsum(y_mask[:, ::-1], axis=1)[:, ::-1]\n",
        "        y_mask = K.cast(K.greater(y_mask, 0.5), K.floatx())\n",
        "        y_mask = y_mask[:, 1:]  # mask标记，减少一位\n",
        "        y_pred = y_pred[:, :-1]  # 预测序列，错开一位\n",
        "        loss = K.sparse_categorical_crossentropy(y_true, y_pred)\n",
        "        loss = K.sum(loss * y_mask) / K.sum(y_mask)\n",
        "        return loss\n",
        "\n",
        "\n",
        "model = build_transformer_model(\n",
        "    nezha_config_path,\n",
        "    nezha_checkpoint_path,\n",
        "    model='nezha',\n",
        "    application='unilm',\n",
        "    with_mlm='linear',\n",
        "    keep_tokens=keep_tokens,  # 只保留keep_tokens中的字，精简原字表\n",
        "    compound_tokens=compound_tokens,\n",
        ")\n",
        "\n",
        "output = model.get_layer('MLM-Norm').output\n",
        "output = Dense(3, activation='softmax')(output)\n",
        "outputs = model.outputs + [output]\n",
        "\n",
        "# 预测用模型\n",
        "model = Model(model.inputs, outputs)\n",
        "\n",
        "# 训练用模型\n",
        "y_in = Input(shape=(None,))\n",
        "l_in = Input(shape=(None,))\n",
        "outputs = [y_in, model.inputs[1], l_in] + outputs\n",
        "outputs = CrossEntropy([3, 4])(outputs)\n",
        "\n",
        "train_model = Model(model.inputs + [y_in, l_in], outputs)\n",
        "\n",
        "AdamEMA = extend_with_exponential_moving_average(Adam, name='AdamEMA')\n",
        "optimizer = AdamEMA(learning_rate=2e-5, ema_momentum=0.9999)\n",
        "train_model.compile(optimizer=optimizer)\n",
        "train_model.summary()\n",
        "\n",
        "\n",
        "class AutoSummary(AutoRegressiveDecoder):\n",
        "    \"\"\"seq2seq解码器\n",
        "    \"\"\"\n",
        "    def get_ngram_set(self, x, n):\n",
        "        \"\"\"生成ngram合集，返回结果格式是:\n",
        "        {(n-1)-gram: set([n-gram的第n个字集合])}\n",
        "        \"\"\"\n",
        "        result = {}\n",
        "        for i in range(len(x) - n + 1):\n",
        "            k = tuple(x[i:i + n])\n",
        "            if k[:-1] not in result:\n",
        "                result[k[:-1]] = set()\n",
        "            result[k[:-1]].add(k[-1])\n",
        "        return result\n",
        "\n",
        "    @AutoRegressiveDecoder.wraps(default_rtype='logits', use_states=True)\n",
        "    def predict(self, inputs, output_ids, states):\n",
        "        token_ids, segment_ids = inputs\n",
        "        token_ids = np.concatenate([token_ids, output_ids], 1)\n",
        "        segment_ids = np.concatenate([segment_ids, np.ones_like(output_ids)], 1)\n",
        "        prediction = self.last_token(model).predict([token_ids, segment_ids])\n",
        "        # states用来缓存ngram的n值\n",
        "        if states is None:\n",
        "            states = [0]\n",
        "        elif len(states) == 1 and len(token_ids) > 1:\n",
        "            states = states * len(token_ids)\n",
        "        # 根据copy标签来调整概率分布\n",
        "        probas = np.zeros_like(prediction[0]) - 1000  # 最终要返回的概率分布\n",
        "        for i, token_ids in enumerate(inputs[0]):\n",
        "            if states[i] == 0:\n",
        "                prediction[1][i, 2] *= -1  # 0不能接2\n",
        "            label = prediction[1][i].argmax()  # 当前label\n",
        "            if label < 2:\n",
        "                states[i] = label\n",
        "            else:\n",
        "                states[i] += 1\n",
        "            if states[i] > 0:\n",
        "                ngrams = self.get_ngram_set(token_ids, states[i])\n",
        "                prefix = tuple(output_ids[i, 1 - states[i]:])\n",
        "                if prefix in ngrams:  # 如果确实是适合的ngram\n",
        "                    candidates = ngrams[prefix]\n",
        "                else:  # 没有的话就退回1gram\n",
        "                    ngrams = self.get_ngram_set(token_ids, 1)\n",
        "                    candidates = ngrams[tuple()]\n",
        "                    states[i] = 1\n",
        "                candidates = list(candidates)\n",
        "                probas[i, candidates] = prediction[0][i, candidates]\n",
        "            else:\n",
        "                probas[i] = prediction[0][i]\n",
        "            idxs = probas[i].argpartition(-k_sparse)\n",
        "            probas[i, idxs[:-k_sparse]] = -1000\n",
        "        return probas, states\n",
        "\n",
        "    def generate(self, text, topk=1):\n",
        "        max_c_len = maxlen - self.maxlen\n",
        "        token_ids, segment_ids = tokenizer.encode(text, maxlen=max_c_len)\n",
        "        output_ids = self.beam_search([token_ids, segment_ids],\n",
        "                                      topk)  # 基于beam search\n",
        "        return tokenizer.decode(output_ids)\n",
        "\n",
        "\n",
        "autosummary = AutoSummary(\n",
        "    start_id=tokenizer._token_start_id,\n",
        "    end_id=tokenizer._token_end_id,\n",
        "    maxlen=maxlen // 2\n",
        ")\n",
        "\n",
        "\n",
        "def evaluate(data, topk=1, filename=None):\n",
        "    \"\"\"验证集评估\n",
        "    \"\"\"\n",
        "    if filename is not None:\n",
        "        F = open(filename, 'w', encoding='utf-8')\n",
        "    total_metrics = {k: 0.0 for k in metric_keys}\n",
        "    for d in tqdm(data, desc=u'评估中'):\n",
        "        pred_summary = autosummary.generate(d['source_1'], topk)\n",
        "        metrics = compute_metrics(pred_summary, d['target'])\n",
        "        for k, v in metrics.items():\n",
        "            total_metrics[k] += v\n",
        "        if filename is not None:\n",
        "            F.write(d['target'] + '\\t' + pred_summary + '\\n')\n",
        "            F.flush()\n",
        "    if filename is not None:\n",
        "        F.close()\n",
        "    return {k: v / len(data) for k, v in total_metrics.items()}\n",
        "\n",
        "\n",
        "class Evaluator(keras.callbacks.Callback):\n",
        "    \"\"\"训练回调\n",
        "    \"\"\"\n",
        "    def on_epoch_end(self, epoch, logs=None):\n",
        "        optimizer.apply_ema_weights()\n",
        "        if epoch == epochs - 1:\n",
        "          model.save_weights('weights/seq2seq_model.%s.weights' % epoch)  # 保存模型\n",
        "          model.save_weights('gdrive/MyDrive/seq2seq_model.%s.weights' % epoch)\n",
        "        optimizer.reset_old_weights()\n",
        "\n",
        "\n",
        "if __name__ == '__main__':\n",
        "\n",
        "    # 加载数据\n",
        "    data = load_data(data_seq2seq_json)\n",
        "    train_data = data_split(data, fold, num_folds, 'train')\n",
        "    valid_data = data_split(data, fold, num_folds, 'valid')\n",
        "\n",
        "    # 启动训练\n",
        "    evaluator = Evaluator()\n",
        "    train_generator = data_generator(train_data, batch_size)\n",
        "\n",
        "    train_model.fit_generator(\n",
        "        train_generator.forfit(),\n",
        "        steps_per_epoch=len(train_generator),\n",
        "        epochs=epochs,\n",
        "        callbacks=[evaluator]\n",
        "    )\n",
        "\n",
        "else:\n",
        "\n",
        "    model.load_weights('weights/seq2seq_model.%s.weights' % (epochs - 1))"
      ],
      "execution_count": null,
      "outputs": [
        {
          "output_type": "stream",
          "text": [
            "/tensorflow-1.15.2/python3.7/keras/engine/training_utils.py:819: UserWarning: Output cross_entropy_1 missing from loss dictionary. We assume this was done on purpose. The fit and evaluate APIs will not be expecting any data to be passed to cross_entropy_1.\n",
            "  'be expecting any data to be passed to {0}.'.format(name))\n"
          ],
          "name": "stderr"
        },
        {
          "output_type": "stream",
          "text": [
            "Model: \"model_6\"\n",
            "__________________________________________________________________________________________________\n",
            "Layer (type)                    Output Shape         Param #     Connected to                     \n",
            "==================================================================================================\n",
            "Input-Segment (InputLayer)      (None, None)         0                                            \n",
            "__________________________________________________________________________________________________\n",
            "Input-Token (InputLayer)        (None, None)         0                                            \n",
            "__________________________________________________________________________________________________\n",
            "Embedding-Token (Embedding)     multiple             12405504    Input-Token[0][0]                \n",
            "                                                                 MLM-Norm[0][0]                   \n",
            "__________________________________________________________________________________________________\n",
            "Embedding-Segment (Embedding)   (None, None, 768)    1536        Input-Segment[0][0]              \n",
            "__________________________________________________________________________________________________\n",
            "Embedding-Token-Segment (Add)   (None, None, 768)    0           Embedding-Token[0][0]            \n",
            "                                                                 Embedding-Segment[0][0]          \n",
            "__________________________________________________________________________________________________\n",
            "Embedding-Norm (LayerNormalizat (None, None, 768)    1536        Embedding-Token-Segment[0][0]    \n",
            "__________________________________________________________________________________________________\n",
            "Embedding-Dropout (Dropout)     (None, None, 768)    0           Embedding-Norm[0][0]             \n",
            "__________________________________________________________________________________________________\n",
            "Attention-UniLM-Mask (Lambda)   (None, 1, None, None 0           Input-Segment[0][0]              \n",
            "__________________________________________________________________________________________________\n",
            "Embedding-Relative-Position (Re (None, None, 64)     8256        Embedding-Dropout[0][0]          \n",
            "                                                                 Embedding-Dropout[0][0]          \n",
            "__________________________________________________________________________________________________\n",
            "Transformer-0-MultiHeadSelfAtte (None, None, 768)    2362368     Embedding-Dropout[0][0]          \n",
            "                                                                 Embedding-Dropout[0][0]          \n",
            "                                                                 Embedding-Dropout[0][0]          \n",
            "                                                                 Attention-UniLM-Mask[0][0]       \n",
            "                                                                 Embedding-Relative-Position[0][0]\n",
            "__________________________________________________________________________________________________\n",
            "Transformer-0-MultiHeadSelfAtte (None, None, 768)    0           Transformer-0-MultiHeadSelfAttent\n",
            "__________________________________________________________________________________________________\n",
            "Transformer-0-MultiHeadSelfAtte (None, None, 768)    0           Embedding-Dropout[0][0]          \n",
            "                                                                 Transformer-0-MultiHeadSelfAttent\n",
            "__________________________________________________________________________________________________\n",
            "Transformer-0-MultiHeadSelfAtte (None, None, 768)    1536        Transformer-0-MultiHeadSelfAttent\n",
            "__________________________________________________________________________________________________\n",
            "Transformer-0-FeedForward (Feed (None, None, 768)    4722432     Transformer-0-MultiHeadSelfAttent\n",
            "__________________________________________________________________________________________________\n",
            "Transformer-0-FeedForward-Dropo (None, None, 768)    0           Transformer-0-FeedForward[0][0]  \n",
            "__________________________________________________________________________________________________\n",
            "Transformer-0-FeedForward-Add ( (None, None, 768)    0           Transformer-0-MultiHeadSelfAttent\n",
            "                                                                 Transformer-0-FeedForward-Dropout\n",
            "__________________________________________________________________________________________________\n",
            "Transformer-0-FeedForward-Norm  (None, None, 768)    1536        Transformer-0-FeedForward-Add[0][\n",
            "__________________________________________________________________________________________________\n",
            "Transformer-1-MultiHeadSelfAtte (None, None, 768)    2362368     Transformer-0-FeedForward-Norm[0]\n",
            "                                                                 Transformer-0-FeedForward-Norm[0]\n",
            "                                                                 Transformer-0-FeedForward-Norm[0]\n",
            "                                                                 Attention-UniLM-Mask[0][0]       \n",
            "                                                                 Embedding-Relative-Position[0][0]\n",
            "__________________________________________________________________________________________________\n",
            "Transformer-1-MultiHeadSelfAtte (None, None, 768)    0           Transformer-1-MultiHeadSelfAttent\n",
            "__________________________________________________________________________________________________\n",
            "Transformer-1-MultiHeadSelfAtte (None, None, 768)    0           Transformer-0-FeedForward-Norm[0]\n",
            "                                                                 Transformer-1-MultiHeadSelfAttent\n",
            "__________________________________________________________________________________________________\n",
            "Transformer-1-MultiHeadSelfAtte (None, None, 768)    1536        Transformer-1-MultiHeadSelfAttent\n",
            "__________________________________________________________________________________________________\n",
            "Transformer-1-FeedForward (Feed (None, None, 768)    4722432     Transformer-1-MultiHeadSelfAttent\n",
            "__________________________________________________________________________________________________\n",
            "Transformer-1-FeedForward-Dropo (None, None, 768)    0           Transformer-1-FeedForward[0][0]  \n",
            "__________________________________________________________________________________________________\n",
            "Transformer-1-FeedForward-Add ( (None, None, 768)    0           Transformer-1-MultiHeadSelfAttent\n",
            "                                                                 Transformer-1-FeedForward-Dropout\n",
            "__________________________________________________________________________________________________\n",
            "Transformer-1-FeedForward-Norm  (None, None, 768)    1536        Transformer-1-FeedForward-Add[0][\n",
            "__________________________________________________________________________________________________\n",
            "Transformer-2-MultiHeadSelfAtte (None, None, 768)    2362368     Transformer-1-FeedForward-Norm[0]\n",
            "                                                                 Transformer-1-FeedForward-Norm[0]\n",
            "                                                                 Transformer-1-FeedForward-Norm[0]\n",
            "                                                                 Attention-UniLM-Mask[0][0]       \n",
            "                                                                 Embedding-Relative-Position[0][0]\n",
            "__________________________________________________________________________________________________\n",
            "Transformer-2-MultiHeadSelfAtte (None, None, 768)    0           Transformer-2-MultiHeadSelfAttent\n",
            "__________________________________________________________________________________________________\n",
            "Transformer-2-MultiHeadSelfAtte (None, None, 768)    0           Transformer-1-FeedForward-Norm[0]\n",
            "                                                                 Transformer-2-MultiHeadSelfAttent\n",
            "__________________________________________________________________________________________________\n",
            "Transformer-2-MultiHeadSelfAtte (None, None, 768)    1536        Transformer-2-MultiHeadSelfAttent\n",
            "__________________________________________________________________________________________________\n",
            "Transformer-2-FeedForward (Feed (None, None, 768)    4722432     Transformer-2-MultiHeadSelfAttent\n",
            "__________________________________________________________________________________________________\n",
            "Transformer-2-FeedForward-Dropo (None, None, 768)    0           Transformer-2-FeedForward[0][0]  \n",
            "__________________________________________________________________________________________________\n",
            "Transformer-2-FeedForward-Add ( (None, None, 768)    0           Transformer-2-MultiHeadSelfAttent\n",
            "                                                                 Transformer-2-FeedForward-Dropout\n",
            "__________________________________________________________________________________________________\n",
            "Transformer-2-FeedForward-Norm  (None, None, 768)    1536        Transformer-2-FeedForward-Add[0][\n",
            "__________________________________________________________________________________________________\n",
            "Transformer-3-MultiHeadSelfAtte (None, None, 768)    2362368     Transformer-2-FeedForward-Norm[0]\n",
            "                                                                 Transformer-2-FeedForward-Norm[0]\n",
            "                                                                 Transformer-2-FeedForward-Norm[0]\n",
            "                                                                 Attention-UniLM-Mask[0][0]       \n",
            "                                                                 Embedding-Relative-Position[0][0]\n",
            "__________________________________________________________________________________________________\n",
            "Transformer-3-MultiHeadSelfAtte (None, None, 768)    0           Transformer-3-MultiHeadSelfAttent\n",
            "__________________________________________________________________________________________________\n",
            "Transformer-3-MultiHeadSelfAtte (None, None, 768)    0           Transformer-2-FeedForward-Norm[0]\n",
            "                                                                 Transformer-3-MultiHeadSelfAttent\n",
            "__________________________________________________________________________________________________\n",
            "Transformer-3-MultiHeadSelfAtte (None, None, 768)    1536        Transformer-3-MultiHeadSelfAttent\n",
            "__________________________________________________________________________________________________\n",
            "Transformer-3-FeedForward (Feed (None, None, 768)    4722432     Transformer-3-MultiHeadSelfAttent\n",
            "__________________________________________________________________________________________________\n",
            "Transformer-3-FeedForward-Dropo (None, None, 768)    0           Transformer-3-FeedForward[0][0]  \n",
            "__________________________________________________________________________________________________\n",
            "Transformer-3-FeedForward-Add ( (None, None, 768)    0           Transformer-3-MultiHeadSelfAttent\n",
            "                                                                 Transformer-3-FeedForward-Dropout\n",
            "__________________________________________________________________________________________________\n",
            "Transformer-3-FeedForward-Norm  (None, None, 768)    1536        Transformer-3-FeedForward-Add[0][\n",
            "__________________________________________________________________________________________________\n",
            "Transformer-4-MultiHeadSelfAtte (None, None, 768)    2362368     Transformer-3-FeedForward-Norm[0]\n",
            "                                                                 Transformer-3-FeedForward-Norm[0]\n",
            "                                                                 Transformer-3-FeedForward-Norm[0]\n",
            "                                                                 Attention-UniLM-Mask[0][0]       \n",
            "                                                                 Embedding-Relative-Position[0][0]\n",
            "__________________________________________________________________________________________________\n",
            "Transformer-4-MultiHeadSelfAtte (None, None, 768)    0           Transformer-4-MultiHeadSelfAttent\n",
            "__________________________________________________________________________________________________\n",
            "Transformer-4-MultiHeadSelfAtte (None, None, 768)    0           Transformer-3-FeedForward-Norm[0]\n",
            "                                                                 Transformer-4-MultiHeadSelfAttent\n",
            "__________________________________________________________________________________________________\n",
            "Transformer-4-MultiHeadSelfAtte (None, None, 768)    1536        Transformer-4-MultiHeadSelfAttent\n",
            "__________________________________________________________________________________________________\n",
            "Transformer-4-FeedForward (Feed (None, None, 768)    4722432     Transformer-4-MultiHeadSelfAttent\n",
            "__________________________________________________________________________________________________\n",
            "Transformer-4-FeedForward-Dropo (None, None, 768)    0           Transformer-4-FeedForward[0][0]  \n",
            "__________________________________________________________________________________________________\n",
            "Transformer-4-FeedForward-Add ( (None, None, 768)    0           Transformer-4-MultiHeadSelfAttent\n",
            "                                                                 Transformer-4-FeedForward-Dropout\n",
            "__________________________________________________________________________________________________\n",
            "Transformer-4-FeedForward-Norm  (None, None, 768)    1536        Transformer-4-FeedForward-Add[0][\n",
            "__________________________________________________________________________________________________\n",
            "Transformer-5-MultiHeadSelfAtte (None, None, 768)    2362368     Transformer-4-FeedForward-Norm[0]\n",
            "                                                                 Transformer-4-FeedForward-Norm[0]\n",
            "                                                                 Transformer-4-FeedForward-Norm[0]\n",
            "                                                                 Attention-UniLM-Mask[0][0]       \n",
            "                                                                 Embedding-Relative-Position[0][0]\n",
            "__________________________________________________________________________________________________\n",
            "Transformer-5-MultiHeadSelfAtte (None, None, 768)    0           Transformer-5-MultiHeadSelfAttent\n",
            "__________________________________________________________________________________________________\n",
            "Transformer-5-MultiHeadSelfAtte (None, None, 768)    0           Transformer-4-FeedForward-Norm[0]\n",
            "                                                                 Transformer-5-MultiHeadSelfAttent\n",
            "__________________________________________________________________________________________________\n",
            "Transformer-5-MultiHeadSelfAtte (None, None, 768)    1536        Transformer-5-MultiHeadSelfAttent\n",
            "__________________________________________________________________________________________________\n",
            "Transformer-5-FeedForward (Feed (None, None, 768)    4722432     Transformer-5-MultiHeadSelfAttent\n",
            "__________________________________________________________________________________________________\n",
            "Transformer-5-FeedForward-Dropo (None, None, 768)    0           Transformer-5-FeedForward[0][0]  \n",
            "__________________________________________________________________________________________________\n",
            "Transformer-5-FeedForward-Add ( (None, None, 768)    0           Transformer-5-MultiHeadSelfAttent\n",
            "                                                                 Transformer-5-FeedForward-Dropout\n",
            "__________________________________________________________________________________________________\n",
            "Transformer-5-FeedForward-Norm  (None, None, 768)    1536        Transformer-5-FeedForward-Add[0][\n",
            "__________________________________________________________________________________________________\n",
            "Transformer-6-MultiHeadSelfAtte (None, None, 768)    2362368     Transformer-5-FeedForward-Norm[0]\n",
            "                                                                 Transformer-5-FeedForward-Norm[0]\n",
            "                                                                 Transformer-5-FeedForward-Norm[0]\n",
            "                                                                 Attention-UniLM-Mask[0][0]       \n",
            "                                                                 Embedding-Relative-Position[0][0]\n",
            "__________________________________________________________________________________________________\n",
            "Transformer-6-MultiHeadSelfAtte (None, None, 768)    0           Transformer-6-MultiHeadSelfAttent\n",
            "__________________________________________________________________________________________________\n",
            "Transformer-6-MultiHeadSelfAtte (None, None, 768)    0           Transformer-5-FeedForward-Norm[0]\n",
            "                                                                 Transformer-6-MultiHeadSelfAttent\n",
            "__________________________________________________________________________________________________\n",
            "Transformer-6-MultiHeadSelfAtte (None, None, 768)    1536        Transformer-6-MultiHeadSelfAttent\n",
            "__________________________________________________________________________________________________\n",
            "Transformer-6-FeedForward (Feed (None, None, 768)    4722432     Transformer-6-MultiHeadSelfAttent\n",
            "__________________________________________________________________________________________________\n",
            "Transformer-6-FeedForward-Dropo (None, None, 768)    0           Transformer-6-FeedForward[0][0]  \n",
            "__________________________________________________________________________________________________\n",
            "Transformer-6-FeedForward-Add ( (None, None, 768)    0           Transformer-6-MultiHeadSelfAttent\n",
            "                                                                 Transformer-6-FeedForward-Dropout\n",
            "__________________________________________________________________________________________________\n",
            "Transformer-6-FeedForward-Norm  (None, None, 768)    1536        Transformer-6-FeedForward-Add[0][\n",
            "__________________________________________________________________________________________________\n",
            "Transformer-7-MultiHeadSelfAtte (None, None, 768)    2362368     Transformer-6-FeedForward-Norm[0]\n",
            "                                                                 Transformer-6-FeedForward-Norm[0]\n",
            "                                                                 Transformer-6-FeedForward-Norm[0]\n",
            "                                                                 Attention-UniLM-Mask[0][0]       \n",
            "                                                                 Embedding-Relative-Position[0][0]\n",
            "__________________________________________________________________________________________________\n",
            "Transformer-7-MultiHeadSelfAtte (None, None, 768)    0           Transformer-7-MultiHeadSelfAttent\n",
            "__________________________________________________________________________________________________\n",
            "Transformer-7-MultiHeadSelfAtte (None, None, 768)    0           Transformer-6-FeedForward-Norm[0]\n",
            "                                                                 Transformer-7-MultiHeadSelfAttent\n",
            "__________________________________________________________________________________________________\n",
            "Transformer-7-MultiHeadSelfAtte (None, None, 768)    1536        Transformer-7-MultiHeadSelfAttent\n",
            "__________________________________________________________________________________________________\n",
            "Transformer-7-FeedForward (Feed (None, None, 768)    4722432     Transformer-7-MultiHeadSelfAttent\n",
            "__________________________________________________________________________________________________\n",
            "Transformer-7-FeedForward-Dropo (None, None, 768)    0           Transformer-7-FeedForward[0][0]  \n",
            "__________________________________________________________________________________________________\n",
            "Transformer-7-FeedForward-Add ( (None, None, 768)    0           Transformer-7-MultiHeadSelfAttent\n",
            "                                                                 Transformer-7-FeedForward-Dropout\n",
            "__________________________________________________________________________________________________\n",
            "Transformer-7-FeedForward-Norm  (None, None, 768)    1536        Transformer-7-FeedForward-Add[0][\n",
            "__________________________________________________________________________________________________\n",
            "Transformer-8-MultiHeadSelfAtte (None, None, 768)    2362368     Transformer-7-FeedForward-Norm[0]\n",
            "                                                                 Transformer-7-FeedForward-Norm[0]\n",
            "                                                                 Transformer-7-FeedForward-Norm[0]\n",
            "                                                                 Attention-UniLM-Mask[0][0]       \n",
            "                                                                 Embedding-Relative-Position[0][0]\n",
            "__________________________________________________________________________________________________\n",
            "Transformer-8-MultiHeadSelfAtte (None, None, 768)    0           Transformer-8-MultiHeadSelfAttent\n",
            "__________________________________________________________________________________________________\n",
            "Transformer-8-MultiHeadSelfAtte (None, None, 768)    0           Transformer-7-FeedForward-Norm[0]\n",
            "                                                                 Transformer-8-MultiHeadSelfAttent\n",
            "__________________________________________________________________________________________________\n",
            "Transformer-8-MultiHeadSelfAtte (None, None, 768)    1536        Transformer-8-MultiHeadSelfAttent\n",
            "__________________________________________________________________________________________________\n",
            "Transformer-8-FeedForward (Feed (None, None, 768)    4722432     Transformer-8-MultiHeadSelfAttent\n",
            "__________________________________________________________________________________________________\n",
            "Transformer-8-FeedForward-Dropo (None, None, 768)    0           Transformer-8-FeedForward[0][0]  \n",
            "__________________________________________________________________________________________________\n",
            "Transformer-8-FeedForward-Add ( (None, None, 768)    0           Transformer-8-MultiHeadSelfAttent\n",
            "                                                                 Transformer-8-FeedForward-Dropout\n",
            "__________________________________________________________________________________________________\n",
            "Transformer-8-FeedForward-Norm  (None, None, 768)    1536        Transformer-8-FeedForward-Add[0][\n",
            "__________________________________________________________________________________________________\n",
            "Transformer-9-MultiHeadSelfAtte (None, None, 768)    2362368     Transformer-8-FeedForward-Norm[0]\n",
            "                                                                 Transformer-8-FeedForward-Norm[0]\n",
            "                                                                 Transformer-8-FeedForward-Norm[0]\n",
            "                                                                 Attention-UniLM-Mask[0][0]       \n",
            "                                                                 Embedding-Relative-Position[0][0]\n",
            "__________________________________________________________________________________________________\n",
            "Transformer-9-MultiHeadSelfAtte (None, None, 768)    0           Transformer-9-MultiHeadSelfAttent\n",
            "__________________________________________________________________________________________________\n",
            "Transformer-9-MultiHeadSelfAtte (None, None, 768)    0           Transformer-8-FeedForward-Norm[0]\n",
            "                                                                 Transformer-9-MultiHeadSelfAttent\n",
            "__________________________________________________________________________________________________\n",
            "Transformer-9-MultiHeadSelfAtte (None, None, 768)    1536        Transformer-9-MultiHeadSelfAttent\n",
            "__________________________________________________________________________________________________\n",
            "Transformer-9-FeedForward (Feed (None, None, 768)    4722432     Transformer-9-MultiHeadSelfAttent\n",
            "__________________________________________________________________________________________________\n",
            "Transformer-9-FeedForward-Dropo (None, None, 768)    0           Transformer-9-FeedForward[0][0]  \n",
            "__________________________________________________________________________________________________\n",
            "Transformer-9-FeedForward-Add ( (None, None, 768)    0           Transformer-9-MultiHeadSelfAttent\n",
            "                                                                 Transformer-9-FeedForward-Dropout\n",
            "__________________________________________________________________________________________________\n",
            "Transformer-9-FeedForward-Norm  (None, None, 768)    1536        Transformer-9-FeedForward-Add[0][\n",
            "__________________________________________________________________________________________________\n",
            "Transformer-10-MultiHeadSelfAtt (None, None, 768)    2362368     Transformer-9-FeedForward-Norm[0]\n",
            "                                                                 Transformer-9-FeedForward-Norm[0]\n",
            "                                                                 Transformer-9-FeedForward-Norm[0]\n",
            "                                                                 Attention-UniLM-Mask[0][0]       \n",
            "                                                                 Embedding-Relative-Position[0][0]\n",
            "__________________________________________________________________________________________________\n",
            "Transformer-10-MultiHeadSelfAtt (None, None, 768)    0           Transformer-10-MultiHeadSelfAtten\n",
            "__________________________________________________________________________________________________\n",
            "Transformer-10-MultiHeadSelfAtt (None, None, 768)    0           Transformer-9-FeedForward-Norm[0]\n",
            "                                                                 Transformer-10-MultiHeadSelfAtten\n",
            "__________________________________________________________________________________________________\n",
            "Transformer-10-MultiHeadSelfAtt (None, None, 768)    1536        Transformer-10-MultiHeadSelfAtten\n",
            "__________________________________________________________________________________________________\n",
            "Transformer-10-FeedForward (Fee (None, None, 768)    4722432     Transformer-10-MultiHeadSelfAtten\n",
            "__________________________________________________________________________________________________\n",
            "Transformer-10-FeedForward-Drop (None, None, 768)    0           Transformer-10-FeedForward[0][0] \n",
            "__________________________________________________________________________________________________\n",
            "Transformer-10-FeedForward-Add  (None, None, 768)    0           Transformer-10-MultiHeadSelfAtten\n",
            "                                                                 Transformer-10-FeedForward-Dropou\n",
            "__________________________________________________________________________________________________\n",
            "Transformer-10-FeedForward-Norm (None, None, 768)    1536        Transformer-10-FeedForward-Add[0]\n",
            "__________________________________________________________________________________________________\n",
            "Transformer-11-MultiHeadSelfAtt (None, None, 768)    2362368     Transformer-10-FeedForward-Norm[0\n",
            "                                                                 Transformer-10-FeedForward-Norm[0\n",
            "                                                                 Transformer-10-FeedForward-Norm[0\n",
            "                                                                 Attention-UniLM-Mask[0][0]       \n",
            "                                                                 Embedding-Relative-Position[0][0]\n",
            "__________________________________________________________________________________________________\n",
            "Transformer-11-MultiHeadSelfAtt (None, None, 768)    0           Transformer-11-MultiHeadSelfAtten\n",
            "__________________________________________________________________________________________________\n",
            "Transformer-11-MultiHeadSelfAtt (None, None, 768)    0           Transformer-10-FeedForward-Norm[0\n",
            "                                                                 Transformer-11-MultiHeadSelfAtten\n",
            "__________________________________________________________________________________________________\n",
            "Transformer-11-MultiHeadSelfAtt (None, None, 768)    1536        Transformer-11-MultiHeadSelfAtten\n",
            "__________________________________________________________________________________________________\n",
            "Transformer-11-FeedForward (Fee (None, None, 768)    4722432     Transformer-11-MultiHeadSelfAtten\n",
            "__________________________________________________________________________________________________\n",
            "Transformer-11-FeedForward-Drop (None, None, 768)    0           Transformer-11-FeedForward[0][0] \n",
            "__________________________________________________________________________________________________\n",
            "Transformer-11-FeedForward-Add  (None, None, 768)    0           Transformer-11-MultiHeadSelfAtten\n",
            "                                                                 Transformer-11-FeedForward-Dropou\n",
            "__________________________________________________________________________________________________\n",
            "Transformer-11-FeedForward-Norm (None, None, 768)    1536        Transformer-11-FeedForward-Add[0]\n",
            "__________________________________________________________________________________________________\n",
            "MLM-Dense (Dense)               (None, None, 768)    590592      Transformer-11-FeedForward-Norm[0\n",
            "__________________________________________________________________________________________________\n",
            "MLM-Norm (LayerNormalization)   (None, None, 768)    1536        MLM-Dense[0][0]                  \n",
            "__________________________________________________________________________________________________\n",
            "MLM-Bias (BiasAdd)              (None, None, 16153)  16153       Embedding-Token[1][0]            \n",
            "__________________________________________________________________________________________________\n",
            "input_2 (InputLayer)            (None, None)         0                                            \n",
            "__________________________________________________________________________________________________\n",
            "input_3 (InputLayer)            (None, None)         0                                            \n",
            "__________________________________________________________________________________________________\n",
            "MLM-Activation (Activation)     (None, None, 16153)  0           MLM-Bias[0][0]                   \n",
            "__________________________________________________________________________________________________\n",
            "dense_147 (Dense)               (None, None, 3)      2307        MLM-Norm[0][0]                   \n",
            "__________________________________________________________________________________________________\n",
            "cross_entropy_1 (CrossEntropy)  [(None, None, 16153) 0           input_2[0][0]                    \n",
            "                                                                 Input-Segment[0][0]              \n",
            "                                                                 input_3[0][0]                    \n",
            "                                                                 MLM-Activation[0][0]             \n",
            "                                                                 dense_147[0][0]                  \n",
            "==================================================================================================\n",
            "Total params: 98,081,884\n",
            "Trainable params: 98,073,628\n",
            "Non-trainable params: 8,256\n",
            "__________________________________________________________________________________________________\n",
            "Epoch 1/1024\n",
            "187/187 [==============================] - 119s 637ms/step - loss: 5.0859 - seq2seq_loss: 2.9178 - copy_loss: 1.0840\n",
            "Epoch 2/1024\n",
            "187/187 [==============================] - 87s 464ms/step - loss: 4.3704 - seq2seq_loss: 2.5590 - copy_loss: 0.9057\n",
            "Epoch 3/1024\n",
            "187/187 [==============================] - 87s 468ms/step - loss: 4.1991 - seq2seq_loss: 2.5067 - copy_loss: 0.8462\n",
            "Epoch 4/1024\n",
            "187/187 [==============================] - 87s 467ms/step - loss: 4.0413 - seq2seq_loss: 2.4428 - copy_loss: 0.7992\n",
            "Epoch 5/1024\n",
            "187/187 [==============================] - 88s 470ms/step - loss: 3.8895 - seq2seq_loss: 2.3593 - copy_loss: 0.7651\n",
            "Epoch 6/1024\n",
            "187/187 [==============================] - 88s 468ms/step - loss: 3.7269 - seq2seq_loss: 2.2786 - copy_loss: 0.7242\n",
            "Epoch 7/1024\n",
            "187/187 [==============================] - 87s 463ms/step - loss: 3.6077 - seq2seq_loss: 2.2087 - copy_loss: 0.6995\n",
            "Epoch 8/1024\n",
            "187/187 [==============================] - 87s 466ms/step - loss: 3.4840 - seq2seq_loss: 2.1299 - copy_loss: 0.6771\n",
            "Epoch 9/1024\n",
            "187/187 [==============================] - 88s 470ms/step - loss: 3.3333 - seq2seq_loss: 2.0201 - copy_loss: 0.6566\n",
            "Epoch 10/1024\n",
            "187/187 [==============================] - 88s 473ms/step - loss: 3.1122 - seq2seq_loss: 1.8634 - copy_loss: 0.6244\n",
            "Epoch 11/1024\n",
            "187/187 [==============================] - 86s 461ms/step - loss: 2.8600 - seq2seq_loss: 1.6757 - copy_loss: 0.5921\n",
            "Epoch 12/1024\n",
            "187/187 [==============================] - 88s 468ms/step - loss: 2.6589 - seq2seq_loss: 1.5427 - copy_loss: 0.5581\n",
            "Epoch 13/1024\n",
            "187/187 [==============================] - 87s 466ms/step - loss: 2.5154 - seq2seq_loss: 1.4489 - copy_loss: 0.5333\n",
            "Epoch 14/1024\n",
            "187/187 [==============================] - 87s 467ms/step - loss: 2.3800 - seq2seq_loss: 1.3698 - copy_loss: 0.5051\n",
            "Epoch 15/1024\n",
            "187/187 [==============================] - 89s 475ms/step - loss: 2.2934 - seq2seq_loss: 1.3154 - copy_loss: 0.4890\n",
            "Epoch 16/1024\n",
            "187/187 [==============================] - 88s 470ms/step - loss: 2.2095 - seq2seq_loss: 1.2661 - copy_loss: 0.4717\n",
            "Epoch 17/1024\n",
            "187/187 [==============================] - 89s 474ms/step - loss: 2.1437 - seq2seq_loss: 1.2243 - copy_loss: 0.4597\n",
            "Epoch 18/1024\n",
            "187/187 [==============================] - 88s 473ms/step - loss: 2.0738 - seq2seq_loss: 1.1879 - copy_loss: 0.4430\n",
            "Epoch 19/1024\n",
            "187/187 [==============================] - 87s 467ms/step - loss: 2.0129 - seq2seq_loss: 1.1577 - copy_loss: 0.4276\n",
            "Epoch 20/1024\n",
            "187/187 [==============================] - 88s 468ms/step - loss: 1.9762 - seq2seq_loss: 1.1340 - copy_loss: 0.4211\n",
            "Epoch 21/1024\n",
            "187/187 [==============================] - 88s 469ms/step - loss: 1.9104 - seq2seq_loss: 1.0977 - copy_loss: 0.4063\n",
            "Epoch 22/1024\n",
            "187/187 [==============================] - 88s 472ms/step - loss: 1.8705 - seq2seq_loss: 1.0784 - copy_loss: 0.3961\n",
            "Epoch 23/1024\n",
            "187/187 [==============================] - 87s 466ms/step - loss: 1.8194 - seq2seq_loss: 1.0524 - copy_loss: 0.3835\n",
            "Epoch 24/1024\n",
            "187/187 [==============================] - 88s 473ms/step - loss: 1.7838 - seq2seq_loss: 1.0313 - copy_loss: 0.3763\n",
            "Epoch 25/1024\n",
            "187/187 [==============================] - 88s 469ms/step - loss: 1.7482 - seq2seq_loss: 1.0129 - copy_loss: 0.3676\n",
            "Epoch 26/1024\n",
            "187/187 [==============================] - 88s 470ms/step - loss: 1.7149 - seq2seq_loss: 0.9965 - copy_loss: 0.3592\n",
            "Epoch 27/1024\n",
            "187/187 [==============================] - 87s 468ms/step - loss: 1.6708 - seq2seq_loss: 0.9743 - copy_loss: 0.3482\n",
            "Epoch 28/1024\n",
            "187/187 [==============================] - 89s 477ms/step - loss: 1.6454 - seq2seq_loss: 0.9595 - copy_loss: 0.3430\n",
            "Epoch 29/1024\n",
            "187/187 [==============================] - 88s 473ms/step - loss: 1.6119 - seq2seq_loss: 0.9436 - copy_loss: 0.3342\n",
            "Epoch 30/1024\n",
            "187/187 [==============================] - 88s 470ms/step - loss: 1.5852 - seq2seq_loss: 0.9283 - copy_loss: 0.3285\n",
            "Epoch 31/1024\n",
            "187/187 [==============================] - 88s 468ms/step - loss: 1.5519 - seq2seq_loss: 0.9147 - copy_loss: 0.3186\n",
            "Epoch 32/1024\n",
            "187/187 [==============================] - 87s 467ms/step - loss: 1.5129 - seq2seq_loss: 0.8918 - copy_loss: 0.3105\n",
            "Epoch 33/1024\n",
            "187/187 [==============================] - 87s 465ms/step - loss: 1.4961 - seq2seq_loss: 0.8800 - copy_loss: 0.3081\n",
            "Epoch 34/1024\n",
            "187/187 [==============================] - 89s 474ms/step - loss: 1.4810 - seq2seq_loss: 0.8702 - copy_loss: 0.3054\n",
            "Epoch 35/1024\n",
            "187/187 [==============================] - 86s 462ms/step - loss: 1.4540 - seq2seq_loss: 0.8625 - copy_loss: 0.2957\n",
            "Epoch 36/1024\n",
            "187/187 [==============================] - 88s 471ms/step - loss: 1.4200 - seq2seq_loss: 0.8422 - copy_loss: 0.2889\n",
            "Epoch 37/1024\n",
            "187/187 [==============================] - 87s 465ms/step - loss: 1.3920 - seq2seq_loss: 0.8282 - copy_loss: 0.2819\n",
            "Epoch 38/1024\n",
            "187/187 [==============================] - 87s 464ms/step - loss: 1.3780 - seq2seq_loss: 0.8205 - copy_loss: 0.2787\n",
            "Epoch 39/1024\n",
            "187/187 [==============================] - 87s 468ms/step - loss: 1.3476 - seq2seq_loss: 0.8056 - copy_loss: 0.2710\n",
            "Epoch 40/1024\n",
            "187/187 [==============================] - 88s 471ms/step - loss: 1.3307 - seq2seq_loss: 0.7940 - copy_loss: 0.2684\n",
            "Epoch 41/1024\n",
            "187/187 [==============================] - 87s 465ms/step - loss: 1.3105 - seq2seq_loss: 0.7819 - copy_loss: 0.2643\n",
            "Epoch 42/1024\n",
            "187/187 [==============================] - 88s 469ms/step - loss: 1.2907 - seq2seq_loss: 0.7737 - copy_loss: 0.2585\n",
            "Epoch 43/1024\n",
            "187/187 [==============================] - 88s 469ms/step - loss: 1.2646 - seq2seq_loss: 0.7600 - copy_loss: 0.2523\n",
            "Epoch 44/1024\n",
            "187/187 [==============================] - 87s 467ms/step - loss: 1.2509 - seq2seq_loss: 0.7501 - copy_loss: 0.2504\n",
            "Epoch 45/1024\n",
            "187/187 [==============================] - 87s 465ms/step - loss: 1.2374 - seq2seq_loss: 0.7420 - copy_loss: 0.2477\n",
            "Epoch 46/1024\n",
            "187/187 [==============================] - 87s 465ms/step - loss: 1.2212 - seq2seq_loss: 0.7344 - copy_loss: 0.2434\n",
            "Epoch 47/1024\n",
            "187/187 [==============================] - 87s 465ms/step - loss: 1.1967 - seq2seq_loss: 0.7211 - copy_loss: 0.2378\n",
            "Epoch 48/1024\n",
            "187/187 [==============================] - 88s 469ms/step - loss: 1.1777 - seq2seq_loss: 0.7074 - copy_loss: 0.2351\n",
            "Epoch 49/1024\n",
            "187/187 [==============================] - 88s 469ms/step - loss: 1.1628 - seq2seq_loss: 0.7019 - copy_loss: 0.2304\n",
            "Epoch 50/1024\n",
            "187/187 [==============================] - 87s 466ms/step - loss: 1.1464 - seq2seq_loss: 0.6919 - copy_loss: 0.2272\n",
            "Epoch 51/1024\n",
            "187/187 [==============================] - 87s 467ms/step - loss: 1.1277 - seq2seq_loss: 0.6836 - copy_loss: 0.2221\n",
            "Epoch 52/1024\n",
            "187/187 [==============================] - 88s 472ms/step - loss: 1.1133 - seq2seq_loss: 0.6742 - copy_loss: 0.2196\n",
            "Epoch 53/1024\n",
            "187/187 [==============================] - 88s 469ms/step - loss: 1.0982 - seq2seq_loss: 0.6663 - copy_loss: 0.2160\n",
            "Epoch 54/1024\n",
            "187/187 [==============================] - 87s 465ms/step - loss: 1.0848 - seq2seq_loss: 0.6570 - copy_loss: 0.2139\n",
            "Epoch 55/1024\n",
            "187/187 [==============================] - 88s 469ms/step - loss: 1.0717 - seq2seq_loss: 0.6503 - copy_loss: 0.2107\n",
            "Epoch 56/1024\n",
            "187/187 [==============================] - 87s 467ms/step - loss: 1.0441 - seq2seq_loss: 0.6358 - copy_loss: 0.2042\n",
            "Epoch 57/1024\n",
            "187/187 [==============================] - 88s 468ms/step - loss: 1.0534 - seq2seq_loss: 0.6397 - copy_loss: 0.2069\n",
            "Epoch 58/1024\n",
            "187/187 [==============================] - 87s 467ms/step - loss: 1.0328 - seq2seq_loss: 0.6259 - copy_loss: 0.2035\n",
            "Epoch 59/1024\n",
            "187/187 [==============================] - 87s 464ms/step - loss: 1.0114 - seq2seq_loss: 0.6166 - copy_loss: 0.1974\n",
            "Epoch 60/1024\n",
            "187/187 [==============================] - 88s 469ms/step - loss: 0.9924 - seq2seq_loss: 0.6027 - copy_loss: 0.1949\n",
            "Epoch 61/1024\n",
            "187/187 [==============================] - 87s 464ms/step - loss: 0.9922 - seq2seq_loss: 0.6030 - copy_loss: 0.1946\n",
            "Epoch 62/1024\n",
            "187/187 [==============================] - 86s 462ms/step - loss: 0.9830 - seq2seq_loss: 0.5958 - copy_loss: 0.1936\n",
            "Epoch 63/1024\n",
            "187/187 [==============================] - 87s 467ms/step - loss: 0.9725 - seq2seq_loss: 0.5890 - copy_loss: 0.1917\n",
            "Epoch 64/1024\n",
            "187/187 [==============================] - 87s 466ms/step - loss: 0.9605 - seq2seq_loss: 0.5838 - copy_loss: 0.1884\n",
            "Epoch 65/1024\n",
            "187/187 [==============================] - 88s 470ms/step - loss: 0.9450 - seq2seq_loss: 0.5715 - copy_loss: 0.1867\n",
            "Epoch 66/1024\n",
            "187/187 [==============================] - 88s 469ms/step - loss: 0.9324 - seq2seq_loss: 0.5660 - copy_loss: 0.1832\n",
            "Epoch 67/1024\n",
            "187/187 [==============================] - 87s 466ms/step - loss: 0.9200 - seq2seq_loss: 0.5564 - copy_loss: 0.1818\n",
            "Epoch 68/1024\n",
            "187/187 [==============================] - 87s 467ms/step - loss: 0.9061 - seq2seq_loss: 0.5506 - copy_loss: 0.1778\n",
            "Epoch 69/1024\n",
            "187/187 [==============================] - 87s 463ms/step - loss: 0.9029 - seq2seq_loss: 0.5507 - copy_loss: 0.1761\n",
            "Epoch 70/1024\n",
            "187/187 [==============================] - 88s 472ms/step - loss: 0.8831 - seq2seq_loss: 0.5319 - copy_loss: 0.1756\n",
            "Epoch 71/1024\n",
            "187/187 [==============================] - 88s 470ms/step - loss: 0.8723 - seq2seq_loss: 0.5289 - copy_loss: 0.1717\n",
            "Epoch 72/1024\n",
            "187/187 [==============================] - 86s 462ms/step - loss: 0.8683 - seq2seq_loss: 0.5236 - copy_loss: 0.1724\n",
            "Epoch 73/1024\n",
            "187/187 [==============================] - 87s 466ms/step - loss: 0.8564 - seq2seq_loss: 0.5151 - copy_loss: 0.1706\n",
            "Epoch 74/1024\n",
            "187/187 [==============================] - 87s 466ms/step - loss: 0.8345 - seq2seq_loss: 0.5043 - copy_loss: 0.1651\n",
            "Epoch 75/1024\n",
            "187/187 [==============================] - 87s 464ms/step - loss: 0.8407 - seq2seq_loss: 0.5037 - copy_loss: 0.1685\n",
            "Epoch 76/1024\n",
            "187/187 [==============================] - 87s 465ms/step - loss: 0.8156 - seq2seq_loss: 0.4934 - copy_loss: 0.1611\n",
            "Epoch 77/1024\n",
            "187/187 [==============================] - 88s 472ms/step - loss: 0.8164 - seq2seq_loss: 0.4908 - copy_loss: 0.1628\n",
            "Epoch 78/1024\n",
            "187/187 [==============================] - 88s 468ms/step - loss: 0.8058 - seq2seq_loss: 0.4819 - copy_loss: 0.1619\n",
            "Epoch 79/1024\n",
            "187/187 [==============================] - 87s 466ms/step - loss: 0.8074 - seq2seq_loss: 0.4801 - copy_loss: 0.1637\n",
            "Epoch 80/1024\n",
            "187/187 [==============================] - 88s 468ms/step - loss: 0.7966 - seq2seq_loss: 0.4734 - copy_loss: 0.1616\n",
            "Epoch 81/1024\n",
            "187/187 [==============================] - 87s 466ms/step - loss: 0.7772 - seq2seq_loss: 0.4650 - copy_loss: 0.1561\n",
            "Epoch 82/1024\n",
            "187/187 [==============================] - 88s 469ms/step - loss: 0.7807 - seq2seq_loss: 0.4674 - copy_loss: 0.1566\n",
            "Epoch 83/1024\n",
            "187/187 [==============================] - 87s 466ms/step - loss: 0.7507 - seq2seq_loss: 0.4524 - copy_loss: 0.1491\n",
            "Epoch 84/1024\n",
            "187/187 [==============================] - 88s 470ms/step - loss: 0.7518 - seq2seq_loss: 0.4482 - copy_loss: 0.1518\n",
            "Epoch 85/1024\n",
            "187/187 [==============================] - 87s 467ms/step - loss: 0.7434 - seq2seq_loss: 0.4430 - copy_loss: 0.1502\n",
            "Epoch 86/1024\n",
            "187/187 [==============================] - 87s 467ms/step - loss: 0.7366 - seq2seq_loss: 0.4385 - copy_loss: 0.1490\n",
            "Epoch 87/1024\n",
            "187/187 [==============================] - 88s 471ms/step - loss: 0.7346 - seq2seq_loss: 0.4348 - copy_loss: 0.1499\n",
            "Epoch 88/1024\n",
            "187/187 [==============================] - 87s 465ms/step - loss: 0.7298 - seq2seq_loss: 0.4283 - copy_loss: 0.1508\n",
            "Epoch 89/1024\n",
            "187/187 [==============================] - 88s 470ms/step - loss: 0.7136 - seq2seq_loss: 0.4213 - copy_loss: 0.1461\n",
            "Epoch 90/1024\n",
            "187/187 [==============================] - 88s 472ms/step - loss: 0.7081 - seq2seq_loss: 0.4200 - copy_loss: 0.1440\n",
            "Epoch 91/1024\n",
            "187/187 [==============================] - 87s 463ms/step - loss: 0.7081 - seq2seq_loss: 0.4165 - copy_loss: 0.1458\n",
            "Epoch 92/1024\n",
            "187/187 [==============================] - 87s 466ms/step - loss: 0.7027 - seq2seq_loss: 0.4106 - copy_loss: 0.1460\n",
            "Epoch 93/1024\n",
            "187/187 [==============================] - 87s 467ms/step - loss: 0.6786 - seq2seq_loss: 0.3980 - copy_loss: 0.1403\n",
            "Epoch 94/1024\n",
            "187/187 [==============================] - 87s 466ms/step - loss: 0.6824 - seq2seq_loss: 0.4016 - copy_loss: 0.1404\n",
            "Epoch 95/1024\n",
            "187/187 [==============================] - 88s 470ms/step - loss: 0.6831 - seq2seq_loss: 0.3999 - copy_loss: 0.1416\n",
            "Epoch 96/1024\n",
            "187/187 [==============================] - 87s 465ms/step - loss: 0.6643 - seq2seq_loss: 0.3886 - copy_loss: 0.1379\n",
            "Epoch 97/1024\n",
            "187/187 [==============================] - 88s 471ms/step - loss: 0.6583 - seq2seq_loss: 0.3854 - copy_loss: 0.1364\n",
            "Epoch 98/1024\n",
            "187/187 [==============================] - 89s 475ms/step - loss: 0.6410 - seq2seq_loss: 0.3730 - copy_loss: 0.1340\n",
            "Epoch 99/1024\n",
            "187/187 [==============================] - 88s 470ms/step - loss: 0.6457 - seq2seq_loss: 0.3748 - copy_loss: 0.1354\n",
            "Epoch 100/1024\n",
            "187/187 [==============================] - 86s 462ms/step - loss: 0.6420 - seq2seq_loss: 0.3728 - copy_loss: 0.1346\n",
            "Epoch 101/1024\n",
            "187/187 [==============================] - 88s 470ms/step - loss: 0.6330 - seq2seq_loss: 0.3665 - copy_loss: 0.1333\n",
            "Epoch 102/1024\n",
            "187/187 [==============================] - 89s 474ms/step - loss: 0.6319 - seq2seq_loss: 0.3603 - copy_loss: 0.1358\n",
            "Epoch 103/1024\n",
            "187/187 [==============================] - 86s 462ms/step - loss: 0.6213 - seq2seq_loss: 0.3599 - copy_loss: 0.1307\n",
            "Epoch 104/1024\n",
            "187/187 [==============================] - 88s 468ms/step - loss: 0.6301 - seq2seq_loss: 0.3590 - copy_loss: 0.1355\n",
            "Epoch 105/1024\n",
            "187/187 [==============================] - 87s 464ms/step - loss: 0.6093 - seq2seq_loss: 0.3498 - copy_loss: 0.1297\n",
            "Epoch 106/1024\n",
            "187/187 [==============================] - 88s 472ms/step - loss: 0.6093 - seq2seq_loss: 0.3502 - copy_loss: 0.1296\n",
            "Epoch 107/1024\n",
            "187/187 [==============================] - 88s 472ms/step - loss: 0.5929 - seq2seq_loss: 0.3433 - copy_loss: 0.1248\n",
            "Epoch 108/1024\n",
            "187/187 [==============================] - 87s 467ms/step - loss: 0.6009 - seq2seq_loss: 0.3409 - copy_loss: 0.1300\n",
            "Epoch 109/1024\n",
            "187/187 [==============================] - 87s 466ms/step - loss: 0.5848 - seq2seq_loss: 0.3312 - copy_loss: 0.1268\n",
            "Epoch 110/1024\n",
            "187/187 [==============================] - 87s 464ms/step - loss: 0.5797 - seq2seq_loss: 0.3322 - copy_loss: 0.1238\n",
            "Epoch 111/1024\n",
            "187/187 [==============================] - 87s 468ms/step - loss: 0.5739 - seq2seq_loss: 0.3263 - copy_loss: 0.1238\n",
            "Epoch 112/1024\n",
            "187/187 [==============================] - 88s 469ms/step - loss: 0.5810 - seq2seq_loss: 0.3288 - copy_loss: 0.1261\n",
            "Epoch 113/1024\n",
            "187/187 [==============================] - 88s 468ms/step - loss: 0.5607 - seq2seq_loss: 0.3184 - copy_loss: 0.1211\n",
            "Epoch 114/1024\n",
            "187/187 [==============================] - 88s 469ms/step - loss: 0.5622 - seq2seq_loss: 0.3162 - copy_loss: 0.1230\n",
            "Epoch 115/1024\n",
            "187/187 [==============================] - 87s 467ms/step - loss: 0.5665 - seq2seq_loss: 0.3215 - copy_loss: 0.1225\n",
            "Epoch 116/1024\n",
            "187/187 [==============================] - 88s 469ms/step - loss: 0.5440 - seq2seq_loss: 0.3045 - copy_loss: 0.1198\n",
            "Epoch 117/1024\n",
            "187/187 [==============================] - 87s 467ms/step - loss: 0.5492 - seq2seq_loss: 0.3052 - copy_loss: 0.1220\n",
            "Epoch 118/1024\n",
            "187/187 [==============================] - 88s 472ms/step - loss: 0.5467 - seq2seq_loss: 0.3020 - copy_loss: 0.1223\n",
            "Epoch 119/1024\n",
            "187/187 [==============================] - 87s 466ms/step - loss: 0.5359 - seq2seq_loss: 0.2970 - copy_loss: 0.1194\n",
            "Epoch 120/1024\n",
            "187/187 [==============================] - 88s 470ms/step - loss: 0.5373 - seq2seq_loss: 0.2969 - copy_loss: 0.1202\n",
            "Epoch 121/1024\n",
            "187/187 [==============================] - 87s 466ms/step - loss: 0.5303 - seq2seq_loss: 0.2921 - copy_loss: 0.1191\n",
            "Epoch 122/1024\n",
            "187/187 [==============================] - 88s 471ms/step - loss: 0.5322 - seq2seq_loss: 0.2915 - copy_loss: 0.1203\n",
            "Epoch 123/1024\n",
            "187/187 [==============================] - 88s 472ms/step - loss: 0.5138 - seq2seq_loss: 0.2829 - copy_loss: 0.1154\n",
            "Epoch 124/1024\n",
            "187/187 [==============================] - 87s 464ms/step - loss: 0.5115 - seq2seq_loss: 0.2795 - copy_loss: 0.1160\n",
            "Epoch 125/1024\n",
            "187/187 [==============================] - 88s 470ms/step - loss: 0.5194 - seq2seq_loss: 0.2874 - copy_loss: 0.1160\n",
            "Epoch 126/1024\n",
            "187/187 [==============================] - 87s 465ms/step - loss: 0.5093 - seq2seq_loss: 0.2792 - copy_loss: 0.1151\n",
            "Epoch 127/1024\n",
            "187/187 [==============================] - 88s 473ms/step - loss: 0.4977 - seq2seq_loss: 0.2718 - copy_loss: 0.1130\n",
            "Epoch 128/1024\n",
            "187/187 [==============================] - 88s 469ms/step - loss: 0.5012 - seq2seq_loss: 0.2706 - copy_loss: 0.1153\n",
            "Epoch 129/1024\n",
            "187/187 [==============================] - 87s 466ms/step - loss: 0.4956 - seq2seq_loss: 0.2691 - copy_loss: 0.1133\n",
            "Epoch 130/1024\n",
            "187/187 [==============================] - 87s 465ms/step - loss: 0.4852 - seq2seq_loss: 0.2595 - copy_loss: 0.1128\n",
            "Epoch 131/1024\n",
            "187/187 [==============================] - 88s 469ms/step - loss: 0.4970 - seq2seq_loss: 0.2680 - copy_loss: 0.1145\n",
            "Epoch 132/1024\n",
            "187/187 [==============================] - 88s 469ms/step - loss: 0.4739 - seq2seq_loss: 0.2526 - copy_loss: 0.1107\n",
            "Epoch 133/1024\n",
            "187/187 [==============================] - 86s 460ms/step - loss: 0.4814 - seq2seq_loss: 0.2557 - copy_loss: 0.1129\n",
            "Epoch 134/1024\n",
            "187/187 [==============================] - 87s 468ms/step - loss: 0.4661 - seq2seq_loss: 0.2528 - copy_loss: 0.1066\n",
            "Epoch 135/1024\n",
            "187/187 [==============================] - 86s 462ms/step - loss: 0.4725 - seq2seq_loss: 0.2532 - copy_loss: 0.1096\n",
            "Epoch 136/1024\n",
            "187/187 [==============================] - 87s 464ms/step - loss: 0.4676 - seq2seq_loss: 0.2483 - copy_loss: 0.1097\n",
            "Epoch 137/1024\n",
            "187/187 [==============================] - 88s 472ms/step - loss: 0.4709 - seq2seq_loss: 0.2481 - copy_loss: 0.1114\n",
            "Epoch 138/1024\n",
            "187/187 [==============================] - 88s 473ms/step - loss: 0.4706 - seq2seq_loss: 0.2479 - copy_loss: 0.1114\n",
            "Epoch 139/1024\n",
            "187/187 [==============================] - 86s 462ms/step - loss: 0.4604 - seq2seq_loss: 0.2427 - copy_loss: 0.1088\n",
            "Epoch 140/1024\n",
            "187/187 [==============================] - 87s 465ms/step - loss: 0.4486 - seq2seq_loss: 0.2391 - copy_loss: 0.1047\n",
            "Epoch 141/1024\n",
            "187/187 [==============================] - 88s 473ms/step - loss: 0.4384 - seq2seq_loss: 0.2302 - copy_loss: 0.1041\n",
            "Epoch 142/1024\n",
            "187/187 [==============================] - 89s 474ms/step - loss: 0.4502 - seq2seq_loss: 0.2366 - copy_loss: 0.1068\n",
            "Epoch 143/1024\n",
            "187/187 [==============================] - 87s 466ms/step - loss: 0.4411 - seq2seq_loss: 0.2291 - copy_loss: 0.1060\n",
            "Epoch 144/1024\n",
            "187/187 [==============================] - 88s 470ms/step - loss: 0.4447 - seq2seq_loss: 0.2265 - copy_loss: 0.1091\n",
            "Epoch 145/1024\n",
            "187/187 [==============================] - 88s 471ms/step - loss: 0.4375 - seq2seq_loss: 0.2261 - copy_loss: 0.1057\n",
            "Epoch 146/1024\n",
            "187/187 [==============================] - 87s 467ms/step - loss: 0.4369 - seq2seq_loss: 0.2221 - copy_loss: 0.1074\n",
            "Epoch 147/1024\n",
            "187/187 [==============================] - 87s 466ms/step - loss: 0.4425 - seq2seq_loss: 0.2242 - copy_loss: 0.1092\n",
            "Epoch 148/1024\n",
            "187/187 [==============================] - 87s 467ms/step - loss: 0.4329 - seq2seq_loss: 0.2184 - copy_loss: 0.1073\n",
            "Epoch 149/1024\n",
            "187/187 [==============================] - 88s 468ms/step - loss: 0.4146 - seq2seq_loss: 0.2112 - copy_loss: 0.1017\n",
            "Epoch 150/1024\n",
            "187/187 [==============================] - 88s 469ms/step - loss: 0.4204 - seq2seq_loss: 0.2171 - copy_loss: 0.1016\n",
            "Epoch 151/1024\n",
            "187/187 [==============================] - 88s 468ms/step - loss: 0.4188 - seq2seq_loss: 0.2078 - copy_loss: 0.1055\n",
            "Epoch 152/1024\n",
            "187/187 [==============================] - 88s 469ms/step - loss: 0.4090 - seq2seq_loss: 0.2092 - copy_loss: 0.0999\n",
            "Epoch 153/1024\n",
            "187/187 [==============================] - 87s 467ms/step - loss: 0.4039 - seq2seq_loss: 0.2022 - copy_loss: 0.1008\n",
            "Epoch 154/1024\n",
            "187/187 [==============================] - 87s 466ms/step - loss: 0.4030 - seq2seq_loss: 0.1988 - copy_loss: 0.1021\n",
            "Epoch 155/1024\n",
            "187/187 [==============================] - 87s 466ms/step - loss: 0.4064 - seq2seq_loss: 0.2021 - copy_loss: 0.1022\n",
            "Epoch 156/1024\n",
            "187/187 [==============================] - 88s 470ms/step - loss: 0.4028 - seq2seq_loss: 0.1992 - copy_loss: 0.1018\n",
            "Epoch 157/1024\n",
            "187/187 [==============================] - 88s 472ms/step - loss: 0.3886 - seq2seq_loss: 0.1951 - copy_loss: 0.0967\n",
            "Epoch 158/1024\n",
            "187/187 [==============================] - 87s 466ms/step - loss: 0.3967 - seq2seq_loss: 0.1965 - copy_loss: 0.1001\n",
            "Epoch 159/1024\n",
            "187/187 [==============================] - 87s 467ms/step - loss: 0.3963 - seq2seq_loss: 0.1939 - copy_loss: 0.1012\n",
            "Epoch 160/1024\n",
            "187/187 [==============================] - 88s 471ms/step - loss: 0.3978 - seq2seq_loss: 0.1943 - copy_loss: 0.1017\n",
            "Epoch 161/1024\n",
            "187/187 [==============================] - 87s 466ms/step - loss: 0.3873 - seq2seq_loss: 0.1892 - copy_loss: 0.0991\n",
            "Epoch 162/1024\n",
            "187/187 [==============================] - 87s 468ms/step - loss: 0.3824 - seq2seq_loss: 0.1878 - copy_loss: 0.0973\n",
            "Epoch 163/1024\n",
            "187/187 [==============================] - 87s 467ms/step - loss: 0.3795 - seq2seq_loss: 0.1847 - copy_loss: 0.0974\n",
            "Epoch 164/1024\n",
            "187/187 [==============================] - 87s 468ms/step - loss: 0.3759 - seq2seq_loss: 0.1787 - copy_loss: 0.0986\n",
            "Epoch 165/1024\n",
            "187/187 [==============================] - 88s 470ms/step - loss: 0.3695 - seq2seq_loss: 0.1780 - copy_loss: 0.0957\n",
            "Epoch 166/1024\n",
            "187/187 [==============================] - 88s 469ms/step - loss: 0.3815 - seq2seq_loss: 0.1814 - copy_loss: 0.1000\n",
            "Epoch 167/1024\n",
            "187/187 [==============================] - 87s 466ms/step - loss: 0.3761 - seq2seq_loss: 0.1791 - copy_loss: 0.0985\n",
            "Epoch 168/1024\n",
            "187/187 [==============================] - 87s 464ms/step - loss: 0.3807 - seq2seq_loss: 0.1811 - copy_loss: 0.0998\n",
            "Epoch 169/1024\n",
            "187/187 [==============================] - 88s 469ms/step - loss: 0.3699 - seq2seq_loss: 0.1774 - copy_loss: 0.0962\n",
            "Epoch 170/1024\n",
            "187/187 [==============================] - 88s 470ms/step - loss: 0.3673 - seq2seq_loss: 0.1744 - copy_loss: 0.0965\n",
            "Epoch 171/1024\n",
            "187/187 [==============================] - 87s 467ms/step - loss: 0.3613 - seq2seq_loss: 0.1727 - copy_loss: 0.0943\n",
            "Epoch 172/1024\n",
            "187/187 [==============================] - 87s 467ms/step - loss: 0.3642 - seq2seq_loss: 0.1707 - copy_loss: 0.0968\n",
            "Epoch 173/1024\n",
            "187/187 [==============================] - 87s 466ms/step - loss: 0.3642 - seq2seq_loss: 0.1687 - copy_loss: 0.0978\n",
            "Epoch 174/1024\n",
            "187/187 [==============================] - 87s 467ms/step - loss: 0.3569 - seq2seq_loss: 0.1691 - copy_loss: 0.0939\n",
            "Epoch 175/1024\n",
            "187/187 [==============================] - 87s 468ms/step - loss: 0.3561 - seq2seq_loss: 0.1681 - copy_loss: 0.0940\n",
            "Epoch 176/1024\n",
            "187/187 [==============================] - 86s 459ms/step - loss: 0.3499 - seq2seq_loss: 0.1642 - copy_loss: 0.0929\n",
            "Epoch 177/1024\n",
            "187/187 [==============================] - 87s 465ms/step - loss: 0.3535 - seq2seq_loss: 0.1617 - copy_loss: 0.0959\n",
            "Epoch 178/1024\n",
            "187/187 [==============================] - 88s 470ms/step - loss: 0.3447 - seq2seq_loss: 0.1559 - copy_loss: 0.0944\n",
            "Epoch 179/1024\n",
            "187/187 [==============================] - 88s 469ms/step - loss: 0.3453 - seq2seq_loss: 0.1604 - copy_loss: 0.0925\n",
            "Epoch 180/1024\n",
            "187/187 [==============================] - 88s 472ms/step - loss: 0.3446 - seq2seq_loss: 0.1575 - copy_loss: 0.0935\n",
            "Epoch 181/1024\n",
            "187/187 [==============================] - 87s 466ms/step - loss: 0.3396 - seq2seq_loss: 0.1552 - copy_loss: 0.0922\n",
            "Epoch 182/1024\n",
            "187/187 [==============================] - 87s 465ms/step - loss: 0.3372 - seq2seq_loss: 0.1566 - copy_loss: 0.0903\n",
            "Epoch 183/1024\n",
            "187/187 [==============================] - 88s 469ms/step - loss: 0.3467 - seq2seq_loss: 0.1580 - copy_loss: 0.0943\n",
            "Epoch 184/1024\n",
            "187/187 [==============================] - 88s 468ms/step - loss: 0.3315 - seq2seq_loss: 0.1504 - copy_loss: 0.0905\n",
            "Epoch 185/1024\n",
            "187/187 [==============================] - 88s 469ms/step - loss: 0.3359 - seq2seq_loss: 0.1478 - copy_loss: 0.0940\n",
            "Epoch 186/1024\n",
            "187/187 [==============================] - 87s 465ms/step - loss: 0.3275 - seq2seq_loss: 0.1487 - copy_loss: 0.0894\n",
            "Epoch 187/1024\n",
            "187/187 [==============================] - 87s 467ms/step - loss: 0.3363 - seq2seq_loss: 0.1521 - copy_loss: 0.0921\n",
            "Epoch 188/1024\n",
            "187/187 [==============================] - 88s 470ms/step - loss: 0.3323 - seq2seq_loss: 0.1498 - copy_loss: 0.0913\n",
            "Epoch 189/1024\n",
            "187/187 [==============================] - 87s 464ms/step - loss: 0.3152 - seq2seq_loss: 0.1443 - copy_loss: 0.0854\n",
            "Epoch 190/1024\n",
            "187/187 [==============================] - 88s 470ms/step - loss: 0.3260 - seq2seq_loss: 0.1453 - copy_loss: 0.0904\n",
            "Epoch 191/1024\n",
            "187/187 [==============================] - 88s 470ms/step - loss: 0.3247 - seq2seq_loss: 0.1433 - copy_loss: 0.0907\n",
            "Epoch 192/1024\n",
            "187/187 [==============================] - 87s 467ms/step - loss: 0.3172 - seq2seq_loss: 0.1404 - copy_loss: 0.0884\n",
            "Epoch 193/1024\n",
            "187/187 [==============================] - 87s 468ms/step - loss: 0.3154 - seq2seq_loss: 0.1378 - copy_loss: 0.0888\n",
            "Epoch 194/1024\n",
            "187/187 [==============================] - 87s 466ms/step - loss: 0.3190 - seq2seq_loss: 0.1410 - copy_loss: 0.0890\n",
            "Epoch 195/1024\n",
            "187/187 [==============================] - 87s 463ms/step - loss: 0.3195 - seq2seq_loss: 0.1400 - copy_loss: 0.0897\n",
            "Epoch 196/1024\n",
            "187/187 [==============================] - 87s 467ms/step - loss: 0.3157 - seq2seq_loss: 0.1366 - copy_loss: 0.0896\n",
            "Epoch 197/1024\n",
            "187/187 [==============================] - 87s 467ms/step - loss: 0.3116 - seq2seq_loss: 0.1353 - copy_loss: 0.0881\n",
            "Epoch 198/1024\n",
            "187/187 [==============================] - 87s 467ms/step - loss: 0.3190 - seq2seq_loss: 0.1433 - copy_loss: 0.0879\n",
            "Epoch 199/1024\n",
            "187/187 [==============================] - 87s 465ms/step - loss: 0.3117 - seq2seq_loss: 0.1355 - copy_loss: 0.0881\n",
            "Epoch 200/1024\n",
            "187/187 [==============================] - 88s 468ms/step - loss: 0.3096 - seq2seq_loss: 0.1325 - copy_loss: 0.0886\n",
            "Epoch 201/1024\n",
            "187/187 [==============================] - 87s 464ms/step - loss: 0.3020 - seq2seq_loss: 0.1303 - copy_loss: 0.0858\n",
            "Epoch 202/1024\n",
            "187/187 [==============================] - 87s 468ms/step - loss: 0.3023 - seq2seq_loss: 0.1272 - copy_loss: 0.0875\n",
            "Epoch 203/1024\n",
            "187/187 [==============================] - 87s 467ms/step - loss: 0.2955 - seq2seq_loss: 0.1261 - copy_loss: 0.0847\n",
            "Epoch 204/1024\n",
            "187/187 [==============================] - 87s 467ms/step - loss: 0.2975 - seq2seq_loss: 0.1271 - copy_loss: 0.0852\n",
            "Epoch 205/1024\n",
            "187/187 [==============================] - 87s 465ms/step - loss: 0.2955 - seq2seq_loss: 0.1245 - copy_loss: 0.0855\n",
            "Epoch 206/1024\n",
            "187/187 [==============================] - 86s 462ms/step - loss: 0.2882 - seq2seq_loss: 0.1232 - copy_loss: 0.0825\n",
            "Epoch 207/1024\n",
            "187/187 [==============================] - 88s 470ms/step - loss: 0.2932 - seq2seq_loss: 0.1257 - copy_loss: 0.0837\n",
            "Epoch 208/1024\n",
            "187/187 [==============================] - 87s 467ms/step - loss: 0.2913 - seq2seq_loss: 0.1226 - copy_loss: 0.0843\n",
            "Epoch 209/1024\n",
            "187/187 [==============================] - 88s 473ms/step - loss: 0.3040 - seq2seq_loss: 0.1277 - copy_loss: 0.0881\n",
            "Epoch 210/1024\n",
            "187/187 [==============================] - 87s 466ms/step - loss: 0.2941 - seq2seq_loss: 0.1225 - copy_loss: 0.0858\n",
            "Epoch 211/1024\n",
            "187/187 [==============================] - 87s 468ms/step - loss: 0.2859 - seq2seq_loss: 0.1189 - copy_loss: 0.0835\n",
            "Epoch 212/1024\n",
            "187/187 [==============================] - 87s 468ms/step - loss: 0.2916 - seq2seq_loss: 0.1228 - copy_loss: 0.0844\n",
            "Epoch 213/1024\n",
            "187/187 [==============================] - 87s 466ms/step - loss: 0.2844 - seq2seq_loss: 0.1171 - copy_loss: 0.0836\n",
            "Epoch 214/1024\n",
            "187/187 [==============================] - 88s 470ms/step - loss: 0.2905 - seq2seq_loss: 0.1206 - copy_loss: 0.0849\n",
            "Epoch 215/1024\n",
            "187/187 [==============================] - 88s 469ms/step - loss: 0.2851 - seq2seq_loss: 0.1161 - copy_loss: 0.0845\n",
            "Epoch 216/1024\n",
            "187/187 [==============================] - 88s 473ms/step - loss: 0.2887 - seq2seq_loss: 0.1182 - copy_loss: 0.0853\n",
            "Epoch 217/1024\n",
            "187/187 [==============================] - 86s 461ms/step - loss: 0.2798 - seq2seq_loss: 0.1138 - copy_loss: 0.0830\n",
            "Epoch 218/1024\n",
            "187/187 [==============================] - 87s 467ms/step - loss: 0.2770 - seq2seq_loss: 0.1164 - copy_loss: 0.0803\n",
            "Epoch 219/1024\n",
            "187/187 [==============================] - 87s 465ms/step - loss: 0.2830 - seq2seq_loss: 0.1174 - copy_loss: 0.0828\n",
            "Epoch 220/1024\n",
            "187/187 [==============================] - 88s 471ms/step - loss: 0.2843 - seq2seq_loss: 0.1142 - copy_loss: 0.0850\n",
            "Epoch 221/1024\n",
            "187/187 [==============================] - 87s 466ms/step - loss: 0.2788 - seq2seq_loss: 0.1121 - copy_loss: 0.0833\n",
            "Epoch 222/1024\n",
            "187/187 [==============================] - 87s 464ms/step - loss: 0.2831 - seq2seq_loss: 0.1150 - copy_loss: 0.0840\n",
            "Epoch 223/1024\n",
            "187/187 [==============================] - 87s 466ms/step - loss: 0.2774 - seq2seq_loss: 0.1094 - copy_loss: 0.0840\n",
            "Epoch 224/1024\n",
            "187/187 [==============================] - 87s 466ms/step - loss: 0.2678 - seq2seq_loss: 0.1073 - copy_loss: 0.0802\n",
            "Epoch 225/1024\n",
            "187/187 [==============================] - 87s 467ms/step - loss: 0.2728 - seq2seq_loss: 0.1070 - copy_loss: 0.0829\n",
            "Epoch 226/1024\n",
            "187/187 [==============================] - 87s 467ms/step - loss: 0.2742 - seq2seq_loss: 0.1052 - copy_loss: 0.0845\n",
            "Epoch 227/1024\n",
            "187/187 [==============================] - 89s 473ms/step - loss: 0.2675 - seq2seq_loss: 0.1068 - copy_loss: 0.0803\n",
            "Epoch 228/1024\n",
            "187/187 [==============================] - 87s 465ms/step - loss: 0.2645 - seq2seq_loss: 0.1034 - copy_loss: 0.0806\n",
            "Epoch 229/1024\n",
            "187/187 [==============================] - 87s 464ms/step - loss: 0.2662 - seq2seq_loss: 0.1040 - copy_loss: 0.0811\n",
            "Epoch 230/1024\n",
            "187/187 [==============================] - 87s 464ms/step - loss: 0.2571 - seq2seq_loss: 0.1012 - copy_loss: 0.0779\n",
            "Epoch 231/1024\n",
            "187/187 [==============================] - 88s 472ms/step - loss: 0.2683 - seq2seq_loss: 0.1041 - copy_loss: 0.0821\n",
            "Epoch 232/1024\n",
            "187/187 [==============================] - 87s 466ms/step - loss: 0.2671 - seq2seq_loss: 0.1024 - copy_loss: 0.0824\n",
            "Epoch 233/1024\n",
            "187/187 [==============================] - 88s 470ms/step - loss: 0.2552 - seq2seq_loss: 0.0980 - copy_loss: 0.0786\n",
            "Epoch 234/1024\n",
            "187/187 [==============================] - 88s 470ms/step - loss: 0.2592 - seq2seq_loss: 0.0992 - copy_loss: 0.0800\n",
            "Epoch 235/1024\n",
            "187/187 [==============================] - 88s 469ms/step - loss: 0.2548 - seq2seq_loss: 0.1004 - copy_loss: 0.0772\n",
            "Epoch 236/1024\n",
            "187/187 [==============================] - 88s 469ms/step - loss: 0.2609 - seq2seq_loss: 0.1010 - copy_loss: 0.0800\n",
            "Epoch 237/1024\n",
            "187/187 [==============================] - 86s 461ms/step - loss: 0.2609 - seq2seq_loss: 0.1015 - copy_loss: 0.0797\n",
            "Epoch 238/1024\n",
            "187/187 [==============================] - 88s 469ms/step - loss: 0.2581 - seq2seq_loss: 0.0958 - copy_loss: 0.0812\n",
            "Epoch 239/1024\n",
            "187/187 [==============================] - 88s 470ms/step - loss: 0.2524 - seq2seq_loss: 0.0966 - copy_loss: 0.0779\n",
            "Epoch 240/1024\n",
            "187/187 [==============================] - 87s 464ms/step - loss: 0.2558 - seq2seq_loss: 0.0985 - copy_loss: 0.0786\n",
            "Epoch 241/1024\n",
            "187/187 [==============================] - 88s 469ms/step - loss: 0.2597 - seq2seq_loss: 0.1008 - copy_loss: 0.0795\n",
            "Epoch 242/1024\n",
            "187/187 [==============================] - 88s 468ms/step - loss: 0.2588 - seq2seq_loss: 0.0998 - copy_loss: 0.0795\n",
            "Epoch 243/1024\n",
            "187/187 [==============================] - 86s 461ms/step - loss: 0.2533 - seq2seq_loss: 0.0978 - copy_loss: 0.0778\n",
            "Epoch 244/1024\n",
            "187/187 [==============================] - 87s 466ms/step - loss: 0.2451 - seq2seq_loss: 0.0952 - copy_loss: 0.0749\n",
            "Epoch 245/1024\n",
            "187/187 [==============================] - 88s 469ms/step - loss: 0.2485 - seq2seq_loss: 0.0934 - copy_loss: 0.0776\n",
            "Epoch 246/1024\n",
            "187/187 [==============================] - 88s 470ms/step - loss: 0.2510 - seq2seq_loss: 0.0945 - copy_loss: 0.0782\n",
            "Epoch 247/1024\n",
            "187/187 [==============================] - 88s 471ms/step - loss: 0.2536 - seq2seq_loss: 0.0935 - copy_loss: 0.0800\n",
            "Epoch 248/1024\n",
            "187/187 [==============================] - 87s 467ms/step - loss: 0.2497 - seq2seq_loss: 0.0930 - copy_loss: 0.0784\n",
            "Epoch 249/1024\n",
            "187/187 [==============================] - 88s 471ms/step - loss: 0.2460 - seq2seq_loss: 0.0932 - copy_loss: 0.0764\n",
            "Epoch 250/1024\n",
            "187/187 [==============================] - 87s 467ms/step - loss: 0.2479 - seq2seq_loss: 0.0941 - copy_loss: 0.0769\n",
            "Epoch 251/1024\n",
            "187/187 [==============================] - 88s 471ms/step - loss: 0.2441 - seq2seq_loss: 0.0924 - copy_loss: 0.0759\n",
            "Epoch 252/1024\n",
            "187/187 [==============================] - 89s 474ms/step - loss: 0.2452 - seq2seq_loss: 0.0880 - copy_loss: 0.0786\n",
            "Epoch 253/1024\n",
            "187/187 [==============================] - 88s 468ms/step - loss: 0.2445 - seq2seq_loss: 0.0882 - copy_loss: 0.0782\n",
            "Epoch 254/1024\n",
            "187/187 [==============================] - 88s 468ms/step - loss: 0.2421 - seq2seq_loss: 0.0883 - copy_loss: 0.0769\n",
            "Epoch 255/1024\n",
            "187/187 [==============================] - 87s 466ms/step - loss: 0.2436 - seq2seq_loss: 0.0897 - copy_loss: 0.0770\n",
            "Epoch 256/1024\n",
            "187/187 [==============================] - 87s 466ms/step - loss: 0.2379 - seq2seq_loss: 0.0857 - copy_loss: 0.0761\n",
            "Epoch 257/1024\n",
            "187/187 [==============================] - 87s 463ms/step - loss: 0.2407 - seq2seq_loss: 0.0887 - copy_loss: 0.0760\n",
            "Epoch 258/1024\n",
            "187/187 [==============================] - 87s 466ms/step - loss: 0.2376 - seq2seq_loss: 0.0858 - copy_loss: 0.0759\n",
            "Epoch 259/1024\n",
            "187/187 [==============================] - 87s 467ms/step - loss: 0.2335 - seq2seq_loss: 0.0872 - copy_loss: 0.0732\n",
            "Epoch 260/1024\n",
            "187/187 [==============================] - 88s 471ms/step - loss: 0.2431 - seq2seq_loss: 0.0878 - copy_loss: 0.0777\n",
            "Epoch 261/1024\n",
            "187/187 [==============================] - 87s 466ms/step - loss: 0.2342 - seq2seq_loss: 0.0840 - copy_loss: 0.0751\n",
            "Epoch 262/1024\n",
            "187/187 [==============================] - 86s 461ms/step - loss: 0.2367 - seq2seq_loss: 0.0870 - copy_loss: 0.0748\n",
            "Epoch 263/1024\n",
            "187/187 [==============================] - 88s 471ms/step - loss: 0.2316 - seq2seq_loss: 0.0799 - copy_loss: 0.0759\n",
            "Epoch 264/1024\n",
            "187/187 [==============================] - 88s 468ms/step - loss: 0.2334 - seq2seq_loss: 0.0854 - copy_loss: 0.0740\n",
            "Epoch 265/1024\n",
            "187/187 [==============================] - 88s 469ms/step - loss: 0.2377 - seq2seq_loss: 0.0840 - copy_loss: 0.0769\n",
            "Epoch 266/1024\n",
            "187/187 [==============================] - 86s 462ms/step - loss: 0.2320 - seq2seq_loss: 0.0839 - copy_loss: 0.0740\n",
            "Epoch 267/1024\n",
            "187/187 [==============================] - 88s 473ms/step - loss: 0.2304 - seq2seq_loss: 0.0799 - copy_loss: 0.0752\n",
            "Epoch 268/1024\n",
            "187/187 [==============================] - 88s 469ms/step - loss: 0.2237 - seq2seq_loss: 0.0804 - copy_loss: 0.0716\n",
            "Epoch 269/1024\n",
            "187/187 [==============================] - 87s 468ms/step - loss: 0.2282 - seq2seq_loss: 0.0807 - copy_loss: 0.0738\n",
            "Epoch 270/1024\n",
            "187/187 [==============================] - 88s 468ms/step - loss: 0.2354 - seq2seq_loss: 0.0846 - copy_loss: 0.0754\n",
            "Epoch 271/1024\n",
            "187/187 [==============================] - 87s 466ms/step - loss: 0.2277 - seq2seq_loss: 0.0801 - copy_loss: 0.0738\n",
            "Epoch 272/1024\n",
            "187/187 [==============================] - 87s 465ms/step - loss: 0.2312 - seq2seq_loss: 0.0813 - copy_loss: 0.0749\n",
            "Epoch 273/1024\n",
            "187/187 [==============================] - 87s 466ms/step - loss: 0.2332 - seq2seq_loss: 0.0857 - copy_loss: 0.0738\n",
            "Epoch 274/1024\n",
            "187/187 [==============================] - 87s 468ms/step - loss: 0.2266 - seq2seq_loss: 0.0779 - copy_loss: 0.0744\n",
            "Epoch 275/1024\n",
            "187/187 [==============================] - 87s 464ms/step - loss: 0.2238 - seq2seq_loss: 0.0766 - copy_loss: 0.0736\n",
            "Epoch 276/1024\n",
            "187/187 [==============================] - 87s 465ms/step - loss: 0.2248 - seq2seq_loss: 0.0753 - copy_loss: 0.0748\n",
            "Epoch 277/1024\n",
            "187/187 [==============================] - 87s 467ms/step - loss: 0.2189 - seq2seq_loss: 0.0766 - copy_loss: 0.0712\n",
            "Epoch 278/1024\n",
            "187/187 [==============================] - 87s 466ms/step - loss: 0.2230 - seq2seq_loss: 0.0794 - copy_loss: 0.0718\n",
            "Epoch 279/1024\n",
            "187/187 [==============================] - 88s 468ms/step - loss: 0.2261 - seq2seq_loss: 0.0794 - copy_loss: 0.0734\n",
            "Epoch 280/1024\n",
            "187/187 [==============================] - 87s 466ms/step - loss: 0.2209 - seq2seq_loss: 0.0750 - copy_loss: 0.0730\n",
            "Epoch 281/1024\n",
            "187/187 [==============================] - 88s 471ms/step - loss: 0.2255 - seq2seq_loss: 0.0766 - copy_loss: 0.0745\n",
            "Epoch 282/1024\n",
            "187/187 [==============================] - 86s 462ms/step - loss: 0.2192 - seq2seq_loss: 0.0728 - copy_loss: 0.0732\n",
            "Epoch 283/1024\n",
            "187/187 [==============================] - 87s 463ms/step - loss: 0.2237 - seq2seq_loss: 0.0733 - copy_loss: 0.0752\n",
            "Epoch 284/1024\n",
            "187/187 [==============================] - 89s 474ms/step - loss: 0.2226 - seq2seq_loss: 0.0763 - copy_loss: 0.0732\n",
            "Epoch 285/1024\n",
            "187/187 [==============================] - 86s 461ms/step - loss: 0.2188 - seq2seq_loss: 0.0730 - copy_loss: 0.0729\n",
            "Epoch 286/1024\n",
            "187/187 [==============================] - 87s 467ms/step - loss: 0.2258 - seq2seq_loss: 0.0740 - copy_loss: 0.0759\n",
            "Epoch 287/1024\n",
            "187/187 [==============================] - 87s 465ms/step - loss: 0.2191 - seq2seq_loss: 0.0729 - copy_loss: 0.0731\n",
            "Epoch 288/1024\n",
            "187/187 [==============================] - 88s 470ms/step - loss: 0.2242 - seq2seq_loss: 0.0780 - copy_loss: 0.0731\n",
            "Epoch 289/1024\n",
            "187/187 [==============================] - 89s 474ms/step - loss: 0.2107 - seq2seq_loss: 0.0694 - copy_loss: 0.0706\n",
            "Epoch 290/1024\n",
            "187/187 [==============================] - 87s 466ms/step - loss: 0.2150 - seq2seq_loss: 0.0719 - copy_loss: 0.0716\n",
            "Epoch 291/1024\n",
            "187/187 [==============================] - 88s 469ms/step - loss: 0.2152 - seq2seq_loss: 0.0706 - copy_loss: 0.0723\n",
            "Epoch 292/1024\n",
            "187/187 [==============================] - 88s 470ms/step - loss: 0.2122 - seq2seq_loss: 0.0745 - copy_loss: 0.0688\n",
            "Epoch 293/1024\n",
            "187/187 [==============================] - 88s 470ms/step - loss: 0.2216 - seq2seq_loss: 0.0726 - copy_loss: 0.0745\n",
            "Epoch 294/1024\n",
            "187/187 [==============================] - 88s 471ms/step - loss: 0.2084 - seq2seq_loss: 0.0671 - copy_loss: 0.0706\n",
            "Epoch 295/1024\n",
            "187/187 [==============================] - 87s 464ms/step - loss: 0.2100 - seq2seq_loss: 0.0691 - copy_loss: 0.0704\n",
            "Epoch 296/1024\n",
            "187/187 [==============================] - 89s 476ms/step - loss: 0.2155 - seq2seq_loss: 0.0696 - copy_loss: 0.0729\n",
            "Epoch 297/1024\n",
            "187/187 [==============================] - 88s 470ms/step - loss: 0.2193 - seq2seq_loss: 0.0733 - copy_loss: 0.0730\n",
            "Epoch 298/1024\n",
            "187/187 [==============================] - 88s 468ms/step - loss: 0.2155 - seq2seq_loss: 0.0709 - copy_loss: 0.0723\n",
            "Epoch 299/1024\n",
            "187/187 [==============================] - 88s 468ms/step - loss: 0.2184 - seq2seq_loss: 0.0707 - copy_loss: 0.0739\n",
            "Epoch 300/1024\n",
            "187/187 [==============================] - 88s 473ms/step - loss: 0.2137 - seq2seq_loss: 0.0712 - copy_loss: 0.0713\n",
            "Epoch 301/1024\n",
            "187/187 [==============================] - 88s 469ms/step - loss: 0.2145 - seq2seq_loss: 0.0706 - copy_loss: 0.0720\n",
            "Epoch 302/1024\n",
            "187/187 [==============================] - 88s 468ms/step - loss: 0.2106 - seq2seq_loss: 0.0684 - copy_loss: 0.0711\n",
            "Epoch 303/1024\n",
            "187/187 [==============================] - 88s 470ms/step - loss: 0.2122 - seq2seq_loss: 0.0691 - copy_loss: 0.0716\n",
            "Epoch 304/1024\n",
            "187/187 [==============================] - 88s 469ms/step - loss: 0.2038 - seq2seq_loss: 0.0680 - copy_loss: 0.0679\n",
            "Epoch 305/1024\n",
            "187/187 [==============================] - 88s 470ms/step - loss: 0.2083 - seq2seq_loss: 0.0673 - copy_loss: 0.0705\n",
            "Epoch 306/1024\n",
            "187/187 [==============================] - 88s 469ms/step - loss: 0.1987 - seq2seq_loss: 0.0648 - copy_loss: 0.0669\n",
            "Epoch 307/1024\n",
            "187/187 [==============================] - 87s 463ms/step - loss: 0.2122 - seq2seq_loss: 0.0662 - copy_loss: 0.0730\n",
            "Epoch 308/1024\n",
            "187/187 [==============================] - 88s 468ms/step - loss: 0.2038 - seq2seq_loss: 0.0654 - copy_loss: 0.0692\n",
            "Epoch 309/1024\n",
            "187/187 [==============================] - 87s 466ms/step - loss: 0.2000 - seq2seq_loss: 0.0633 - copy_loss: 0.0683\n",
            "Epoch 310/1024\n",
            "187/187 [==============================] - 88s 471ms/step - loss: 0.2007 - seq2seq_loss: 0.0654 - copy_loss: 0.0676\n",
            "Epoch 311/1024\n",
            "187/187 [==============================] - 88s 470ms/step - loss: 0.1989 - seq2seq_loss: 0.0650 - copy_loss: 0.0670\n",
            "Epoch 312/1024\n",
            "187/187 [==============================] - 87s 466ms/step - loss: 0.1990 - seq2seq_loss: 0.0637 - copy_loss: 0.0676\n",
            "Epoch 313/1024\n",
            "187/187 [==============================] - 87s 464ms/step - loss: 0.1972 - seq2seq_loss: 0.0624 - copy_loss: 0.0674\n",
            "Epoch 314/1024\n",
            "187/187 [==============================] - 88s 469ms/step - loss: 0.2021 - seq2seq_loss: 0.0643 - copy_loss: 0.0689\n",
            "Epoch 315/1024\n",
            "187/187 [==============================] - 87s 467ms/step - loss: 0.1989 - seq2seq_loss: 0.0616 - copy_loss: 0.0687\n",
            "Epoch 316/1024\n",
            "187/187 [==============================] - 87s 468ms/step - loss: 0.1994 - seq2seq_loss: 0.0645 - copy_loss: 0.0675\n",
            "Epoch 317/1024\n",
            "187/187 [==============================] - 87s 466ms/step - loss: 0.2036 - seq2seq_loss: 0.0651 - copy_loss: 0.0692\n",
            "Epoch 318/1024\n",
            "187/187 [==============================] - 87s 467ms/step - loss: 0.2079 - seq2seq_loss: 0.0644 - copy_loss: 0.0717\n",
            "Epoch 319/1024\n",
            "187/187 [==============================] - 88s 470ms/step - loss: 0.1989 - seq2seq_loss: 0.0589 - copy_loss: 0.0700\n",
            "Epoch 320/1024\n",
            "187/187 [==============================] - 87s 465ms/step - loss: 0.1969 - seq2seq_loss: 0.0612 - copy_loss: 0.0679\n",
            "Epoch 321/1024\n",
            "187/187 [==============================] - 88s 469ms/step - loss: 0.1944 - seq2seq_loss: 0.0608 - copy_loss: 0.0668\n",
            "Epoch 322/1024\n",
            "187/187 [==============================] - 88s 470ms/step - loss: 0.1994 - seq2seq_loss: 0.0644 - copy_loss: 0.0675\n",
            "Epoch 323/1024\n",
            "187/187 [==============================] - 87s 466ms/step - loss: 0.1936 - seq2seq_loss: 0.0579 - copy_loss: 0.0679\n",
            "Epoch 324/1024\n",
            "187/187 [==============================] - 87s 467ms/step - loss: 0.1947 - seq2seq_loss: 0.0586 - copy_loss: 0.0680\n",
            "Epoch 325/1024\n",
            "187/187 [==============================] - 88s 469ms/step - loss: 0.1945 - seq2seq_loss: 0.0596 - copy_loss: 0.0675\n",
            "Epoch 326/1024\n",
            "187/187 [==============================] - 87s 466ms/step - loss: 0.1925 - seq2seq_loss: 0.0597 - copy_loss: 0.0664\n",
            "Epoch 327/1024\n",
            "187/187 [==============================] - 87s 468ms/step - loss: 0.1927 - seq2seq_loss: 0.0591 - copy_loss: 0.0668\n",
            "Epoch 328/1024\n",
            "187/187 [==============================] - 88s 469ms/step - loss: 0.1893 - seq2seq_loss: 0.0587 - copy_loss: 0.0653\n",
            "Epoch 329/1024\n",
            "187/187 [==============================] - 88s 470ms/step - loss: 0.1895 - seq2seq_loss: 0.0575 - copy_loss: 0.0660\n",
            "Epoch 330/1024\n",
            "187/187 [==============================] - 87s 468ms/step - loss: 0.1964 - seq2seq_loss: 0.0593 - copy_loss: 0.0685\n",
            "Epoch 331/1024\n",
            "187/187 [==============================] - 87s 466ms/step - loss: 0.1897 - seq2seq_loss: 0.0572 - copy_loss: 0.0662\n",
            "Epoch 332/1024\n",
            "187/187 [==============================] - 88s 468ms/step - loss: 0.1938 - seq2seq_loss: 0.0606 - copy_loss: 0.0666\n",
            "Epoch 333/1024\n",
            "187/187 [==============================] - 87s 464ms/step - loss: 0.1954 - seq2seq_loss: 0.0577 - copy_loss: 0.0689\n",
            "Epoch 334/1024\n",
            "187/187 [==============================] - 87s 465ms/step - loss: 0.1930 - seq2seq_loss: 0.0619 - copy_loss: 0.0656\n",
            "Epoch 335/1024\n",
            "187/187 [==============================] - 87s 467ms/step - loss: 0.1913 - seq2seq_loss: 0.0577 - copy_loss: 0.0668\n",
            "Epoch 336/1024\n",
            "187/187 [==============================] - 87s 467ms/step - loss: 0.1901 - seq2seq_loss: 0.0581 - copy_loss: 0.0660\n",
            "Epoch 337/1024\n",
            "187/187 [==============================] - 87s 464ms/step - loss: 0.1883 - seq2seq_loss: 0.0559 - copy_loss: 0.0662\n",
            "Epoch 338/1024\n",
            "187/187 [==============================] - 87s 465ms/step - loss: 0.1864 - seq2seq_loss: 0.0568 - copy_loss: 0.0648\n",
            "Epoch 339/1024\n",
            "187/187 [==============================] - 88s 473ms/step - loss: 0.1846 - seq2seq_loss: 0.0557 - copy_loss: 0.0644\n",
            "Epoch 340/1024\n",
            "187/187 [==============================] - 87s 468ms/step - loss: 0.1914 - seq2seq_loss: 0.0584 - copy_loss: 0.0665\n",
            "Epoch 341/1024\n",
            "187/187 [==============================] - 87s 468ms/step - loss: 0.1880 - seq2seq_loss: 0.0554 - copy_loss: 0.0663\n",
            "Epoch 342/1024\n",
            "187/187 [==============================] - 87s 466ms/step - loss: 0.1841 - seq2seq_loss: 0.0574 - copy_loss: 0.0633\n",
            "Epoch 343/1024\n",
            "187/187 [==============================] - 88s 471ms/step - loss: 0.1882 - seq2seq_loss: 0.0543 - copy_loss: 0.0670\n",
            "Epoch 344/1024\n",
            "187/187 [==============================] - 88s 473ms/step - loss: 0.1836 - seq2seq_loss: 0.0523 - copy_loss: 0.0656\n",
            "Epoch 345/1024\n",
            "187/187 [==============================] - 86s 462ms/step - loss: 0.1880 - seq2seq_loss: 0.0555 - copy_loss: 0.0662\n",
            "Epoch 346/1024\n",
            "187/187 [==============================] - 88s 471ms/step - loss: 0.1791 - seq2seq_loss: 0.0562 - copy_loss: 0.0614\n",
            "Epoch 347/1024\n",
            "187/187 [==============================] - 87s 467ms/step - loss: 0.1796 - seq2seq_loss: 0.0539 - copy_loss: 0.0629\n",
            "Epoch 348/1024\n",
            "187/187 [==============================] - 87s 465ms/step - loss: 0.1872 - seq2seq_loss: 0.0569 - copy_loss: 0.0651\n",
            "Epoch 349/1024\n",
            "187/187 [==============================] - 88s 470ms/step - loss: 0.1808 - seq2seq_loss: 0.0521 - copy_loss: 0.0644\n",
            "Epoch 350/1024\n",
            "187/187 [==============================] - 86s 462ms/step - loss: 0.1823 - seq2seq_loss: 0.0531 - copy_loss: 0.0646\n",
            "Epoch 351/1024\n",
            "187/187 [==============================] - 88s 469ms/step - loss: 0.1796 - seq2seq_loss: 0.0506 - copy_loss: 0.0645\n",
            "Epoch 352/1024\n",
            "187/187 [==============================] - 88s 468ms/step - loss: 0.1847 - seq2seq_loss: 0.0532 - copy_loss: 0.0658\n",
            "Epoch 353/1024\n",
            "187/187 [==============================] - 88s 469ms/step - loss: 0.1802 - seq2seq_loss: 0.0525 - copy_loss: 0.0638\n",
            "Epoch 354/1024\n",
            "187/187 [==============================] - 87s 468ms/step - loss: 0.1826 - seq2seq_loss: 0.0525 - copy_loss: 0.0650\n",
            "Epoch 355/1024\n",
            "187/187 [==============================] - 88s 472ms/step - loss: 0.1787 - seq2seq_loss: 0.0519 - copy_loss: 0.0634\n",
            "Epoch 356/1024\n",
            "187/187 [==============================] - 89s 474ms/step - loss: 0.1804 - seq2seq_loss: 0.0536 - copy_loss: 0.0634\n",
            "Epoch 357/1024\n",
            "187/187 [==============================] - 87s 466ms/step - loss: 0.1761 - seq2seq_loss: 0.0505 - copy_loss: 0.0628\n",
            "Epoch 358/1024\n",
            "187/187 [==============================] - 87s 466ms/step - loss: 0.1804 - seq2seq_loss: 0.0519 - copy_loss: 0.0642\n",
            "Epoch 359/1024\n",
            "187/187 [==============================] - 88s 471ms/step - loss: 0.1794 - seq2seq_loss: 0.0519 - copy_loss: 0.0637\n",
            "Epoch 360/1024\n",
            "187/187 [==============================] - 87s 463ms/step - loss: 0.1824 - seq2seq_loss: 0.0530 - copy_loss: 0.0647\n",
            "Epoch 361/1024\n",
            "187/187 [==============================] - 87s 467ms/step - loss: 0.1840 - seq2seq_loss: 0.0539 - copy_loss: 0.0651\n",
            "Epoch 362/1024\n",
            "187/187 [==============================] - 88s 469ms/step - loss: 0.1783 - seq2seq_loss: 0.0514 - copy_loss: 0.0634\n",
            "Epoch 363/1024\n",
            "187/187 [==============================] - 88s 469ms/step - loss: 0.1752 - seq2seq_loss: 0.0508 - copy_loss: 0.0622\n",
            "Epoch 364/1024\n",
            "187/187 [==============================] - 86s 461ms/step - loss: 0.1772 - seq2seq_loss: 0.0518 - copy_loss: 0.0627\n",
            "Epoch 365/1024\n",
            "187/187 [==============================] - 87s 468ms/step - loss: 0.1796 - seq2seq_loss: 0.0501 - copy_loss: 0.0648\n",
            "Epoch 366/1024\n",
            "187/187 [==============================] - 88s 469ms/step - loss: 0.1805 - seq2seq_loss: 0.0533 - copy_loss: 0.0636\n",
            "Epoch 367/1024\n",
            "187/187 [==============================] - 88s 469ms/step - loss: 0.1780 - seq2seq_loss: 0.0508 - copy_loss: 0.0636\n",
            "Epoch 368/1024\n",
            "187/187 [==============================] - 88s 471ms/step - loss: 0.1739 - seq2seq_loss: 0.0472 - copy_loss: 0.0634\n",
            "Epoch 369/1024\n",
            "187/187 [==============================] - 88s 470ms/step - loss: 0.1788 - seq2seq_loss: 0.0522 - copy_loss: 0.0633\n",
            "Epoch 370/1024\n",
            "187/187 [==============================] - 87s 467ms/step - loss: 0.1714 - seq2seq_loss: 0.0502 - copy_loss: 0.0606\n",
            "Epoch 371/1024\n",
            "187/187 [==============================] - 87s 466ms/step - loss: 0.1782 - seq2seq_loss: 0.0526 - copy_loss: 0.0628\n",
            "Epoch 372/1024\n",
            "187/187 [==============================] - 88s 473ms/step - loss: 0.1744 - seq2seq_loss: 0.0502 - copy_loss: 0.0621\n",
            "Epoch 373/1024\n",
            "187/187 [==============================] - 87s 464ms/step - loss: 0.1747 - seq2seq_loss: 0.0505 - copy_loss: 0.0621\n",
            "Epoch 374/1024\n",
            "187/187 [==============================] - 88s 469ms/step - loss: 0.1743 - seq2seq_loss: 0.0482 - copy_loss: 0.0631\n",
            "Epoch 375/1024\n",
            "187/187 [==============================] - 87s 467ms/step - loss: 0.1716 - seq2seq_loss: 0.0475 - copy_loss: 0.0621\n",
            "Epoch 376/1024\n",
            "187/187 [==============================] - 87s 467ms/step - loss: 0.1667 - seq2seq_loss: 0.0463 - copy_loss: 0.0602\n",
            "Epoch 377/1024\n",
            "187/187 [==============================] - 87s 465ms/step - loss: 0.1788 - seq2seq_loss: 0.0490 - copy_loss: 0.0649\n",
            "Epoch 378/1024\n",
            "187/187 [==============================] - 88s 469ms/step - loss: 0.1694 - seq2seq_loss: 0.0493 - copy_loss: 0.0601\n",
            "Epoch 379/1024\n",
            "187/187 [==============================] - 87s 466ms/step - loss: 0.1708 - seq2seq_loss: 0.0493 - copy_loss: 0.0607\n",
            "Epoch 380/1024\n",
            "187/187 [==============================] - 87s 467ms/step - loss: 0.1711 - seq2seq_loss: 0.0473 - copy_loss: 0.0619\n",
            "Epoch 381/1024\n",
            "187/187 [==============================] - 88s 470ms/step - loss: 0.1685 - seq2seq_loss: 0.0471 - copy_loss: 0.0607\n",
            "Epoch 382/1024\n",
            "187/187 [==============================] - 86s 461ms/step - loss: 0.1733 - seq2seq_loss: 0.0474 - copy_loss: 0.0629\n",
            "Epoch 383/1024\n",
            "187/187 [==============================] - 88s 472ms/step - loss: 0.1731 - seq2seq_loss: 0.0476 - copy_loss: 0.0628\n",
            "Epoch 384/1024\n",
            "187/187 [==============================] - 88s 470ms/step - loss: 0.1694 - seq2seq_loss: 0.0464 - copy_loss: 0.0615\n",
            "Epoch 385/1024\n",
            "187/187 [==============================] - 87s 465ms/step - loss: 0.1689 - seq2seq_loss: 0.0483 - copy_loss: 0.0603\n",
            "Epoch 386/1024\n",
            "187/187 [==============================] - 88s 470ms/step - loss: 0.1703 - seq2seq_loss: 0.0475 - copy_loss: 0.0614\n",
            "Epoch 387/1024\n",
            "187/187 [==============================] - 88s 469ms/step - loss: 0.1694 - seq2seq_loss: 0.0463 - copy_loss: 0.0615\n",
            "Epoch 388/1024\n",
            "187/187 [==============================] - 88s 468ms/step - loss: 0.1749 - seq2seq_loss: 0.0489 - copy_loss: 0.0630\n",
            "Epoch 389/1024\n",
            "187/187 [==============================] - 89s 475ms/step - loss: 0.1706 - seq2seq_loss: 0.0456 - copy_loss: 0.0625\n",
            "Epoch 390/1024\n",
            "187/187 [==============================] - 87s 467ms/step - loss: 0.1689 - seq2seq_loss: 0.0458 - copy_loss: 0.0616\n",
            "Epoch 391/1024\n",
            "187/187 [==============================] - 88s 472ms/step - loss: 0.1674 - seq2seq_loss: 0.0462 - copy_loss: 0.0606\n",
            "Epoch 392/1024\n",
            "187/187 [==============================] - 87s 466ms/step - loss: 0.1690 - seq2seq_loss: 0.0447 - copy_loss: 0.0622\n",
            "Epoch 393/1024\n",
            "187/187 [==============================] - 87s 465ms/step - loss: 0.1678 - seq2seq_loss: 0.0469 - copy_loss: 0.0605\n",
            "Epoch 394/1024\n",
            "187/187 [==============================] - 87s 466ms/step - loss: 0.1675 - seq2seq_loss: 0.0455 - copy_loss: 0.0610\n",
            "Epoch 395/1024\n",
            "187/187 [==============================] - 87s 468ms/step - loss: 0.1650 - seq2seq_loss: 0.0452 - copy_loss: 0.0599\n",
            "Epoch 396/1024\n",
            "187/187 [==============================] - 87s 467ms/step - loss: 0.1654 - seq2seq_loss: 0.0456 - copy_loss: 0.0599\n",
            "Epoch 397/1024\n",
            "187/187 [==============================] - 88s 470ms/step - loss: 0.1648 - seq2seq_loss: 0.0460 - copy_loss: 0.0594\n",
            "Epoch 398/1024\n",
            "187/187 [==============================] - 88s 471ms/step - loss: 0.1693 - seq2seq_loss: 0.0440 - copy_loss: 0.0627\n",
            "Epoch 399/1024\n",
            "187/187 [==============================] - 87s 467ms/step - loss: 0.1642 - seq2seq_loss: 0.0441 - copy_loss: 0.0600\n",
            "Epoch 400/1024\n",
            "187/187 [==============================] - 86s 459ms/step - loss: 0.1649 - seq2seq_loss: 0.0456 - copy_loss: 0.0597\n",
            "Epoch 401/1024\n",
            "187/187 [==============================] - 87s 467ms/step - loss: 0.1608 - seq2seq_loss: 0.0447 - copy_loss: 0.0580\n",
            "Epoch 402/1024\n",
            "187/187 [==============================] - 87s 466ms/step - loss: 0.1683 - seq2seq_loss: 0.0449 - copy_loss: 0.0617\n",
            "Epoch 403/1024\n",
            "187/187 [==============================] - 87s 464ms/step - loss: 0.1619 - seq2seq_loss: 0.0440 - copy_loss: 0.0590\n",
            "Epoch 404/1024\n",
            "187/187 [==============================] - 86s 463ms/step - loss: 0.1620 - seq2seq_loss: 0.0431 - copy_loss: 0.0594\n",
            "Epoch 405/1024\n",
            "187/187 [==============================] - 88s 469ms/step - loss: 0.1636 - seq2seq_loss: 0.0442 - copy_loss: 0.0597\n",
            "Epoch 406/1024\n",
            "187/187 [==============================] - 87s 467ms/step - loss: 0.1594 - seq2seq_loss: 0.0441 - copy_loss: 0.0576\n",
            "Epoch 407/1024\n",
            "187/187 [==============================] - 86s 462ms/step - loss: 0.1634 - seq2seq_loss: 0.0445 - copy_loss: 0.0595\n",
            "Epoch 408/1024\n",
            "187/187 [==============================] - 87s 467ms/step - loss: 0.1670 - seq2seq_loss: 0.0431 - copy_loss: 0.0620\n",
            "Epoch 409/1024\n",
            "187/187 [==============================] - 87s 467ms/step - loss: 0.1604 - seq2seq_loss: 0.0418 - copy_loss: 0.0593\n",
            "Epoch 410/1024\n",
            "187/187 [==============================] - 86s 460ms/step - loss: 0.1564 - seq2seq_loss: 0.0407 - copy_loss: 0.0578\n",
            "Epoch 411/1024\n",
            "187/187 [==============================] - 88s 471ms/step - loss: 0.1594 - seq2seq_loss: 0.0428 - copy_loss: 0.0583\n",
            "Epoch 412/1024\n",
            "187/187 [==============================] - 88s 468ms/step - loss: 0.1561 - seq2seq_loss: 0.0422 - copy_loss: 0.0569\n",
            "Epoch 413/1024\n",
            "187/187 [==============================] - 88s 470ms/step - loss: 0.1528 - seq2seq_loss: 0.0418 - copy_loss: 0.0555\n",
            "Epoch 414/1024\n",
            "187/187 [==============================] - 87s 466ms/step - loss: 0.1578 - seq2seq_loss: 0.0409 - copy_loss: 0.0584\n",
            "Epoch 415/1024\n",
            "187/187 [==============================] - 87s 464ms/step - loss: 0.1576 - seq2seq_loss: 0.0429 - copy_loss: 0.0573\n",
            "Epoch 416/1024\n",
            "187/187 [==============================] - 88s 471ms/step - loss: 0.1623 - seq2seq_loss: 0.0437 - copy_loss: 0.0593\n",
            "Epoch 417/1024\n",
            "187/187 [==============================] - 88s 471ms/step - loss: 0.1554 - seq2seq_loss: 0.0402 - copy_loss: 0.0576\n",
            "Epoch 418/1024\n",
            "187/187 [==============================] - 87s 466ms/step - loss: 0.1644 - seq2seq_loss: 0.0438 - copy_loss: 0.0603\n",
            "Epoch 419/1024\n",
            "187/187 [==============================] - 87s 467ms/step - loss: 0.1575 - seq2seq_loss: 0.0408 - copy_loss: 0.0584\n",
            "Epoch 420/1024\n",
            "187/187 [==============================] - 88s 468ms/step - loss: 0.1602 - seq2seq_loss: 0.0400 - copy_loss: 0.0601\n",
            "Epoch 421/1024\n",
            "187/187 [==============================] - 87s 467ms/step - loss: 0.1588 - seq2seq_loss: 0.0384 - copy_loss: 0.0602\n",
            "Epoch 422/1024\n",
            "187/187 [==============================] - 87s 465ms/step - loss: 0.1629 - seq2seq_loss: 0.0428 - copy_loss: 0.0601\n",
            "Epoch 423/1024\n",
            "187/187 [==============================] - 88s 470ms/step - loss: 0.1617 - seq2seq_loss: 0.0416 - copy_loss: 0.0600\n",
            "Epoch 424/1024\n",
            "187/187 [==============================] - 87s 467ms/step - loss: 0.1546 - seq2seq_loss: 0.0392 - copy_loss: 0.0577\n",
            "Epoch 425/1024\n",
            "187/187 [==============================] - 87s 467ms/step - loss: 0.1595 - seq2seq_loss: 0.0405 - copy_loss: 0.0595\n",
            "Epoch 426/1024\n",
            "187/187 [==============================] - 87s 468ms/step - loss: 0.1533 - seq2seq_loss: 0.0389 - copy_loss: 0.0572\n",
            "Epoch 427/1024\n",
            "172/187 [==========================>...] - ETA: 6s - loss: 0.1574 - seq2seq_loss: 0.0433 - copy_loss: 0.0571"
          ],
          "name": "stdout"
        }
      ]
    },
    {
      "cell_type": "code",
      "metadata": {
        "id": "6KKAU2Qvq3y1"
      },
      "source": [
        "# https://drive.google.com/file/d/1dLuOdt-ivpaqbkkjvBUAGVTMUoPRWQcx/view?usp=sharing\n",
        "\n",
        "# 下载训练好的模型\n",
        "#! gdown --id '1dLuOdt-ivpaqbkkjvBUAGVTMUoPRWQcx'\n"
      ],
      "execution_count": null,
      "outputs": []
    },
    {
      "cell_type": "code",
      "metadata": {
        "id": "d4cK9o_CyKz8"
      },
      "source": [
        "\n",
        "import numpy as np\n",
        "epochs = 1024\n",
        "model.load_weights('weights/seq2seq_model.%s.weights' % (epochs - 1))\n",
        "\n",
        "def predict(text, topk=3):\n",
        "    # 抽取\n",
        "    texts = text_split(text) # convert.\n",
        "    vecs = vectorize_predict(texts)\n",
        "    preds = extract_model.predict(vecs[None])[0, :, 0]\n",
        "    preds = np.where(preds > threshold)[0]\n",
        "    summary = ''.join([texts[i] for i in preds])\n",
        "    # 生成\n",
        "    summary = autosummary.generate(summary, topk=topk)\n",
        "    # 返回\n",
        "    return summary\n",
        "\n",
        "\n",
        "import json\n",
        "import decimal\n",
        "import datetime\n",
        "import pandas as pd\n",
        "\n",
        "class DecimalEncoder(json.JSONEncoder):\n",
        "    def default(self, o):\n",
        "        if isinstance(o, decimal.Decimal):\n",
        "            return float(o)\n",
        "        elif isinstance(o, datetime.datetime):\n",
        "            return str(o)\n",
        "        super(DecimalEncoder, self).default(o)\n",
        "\n",
        "def save_json(filename, dics):\n",
        "    with open(filename, 'w', encoding='utf-8') as fp:\n",
        "        json.dump(dics, fp, indent=4, cls=DecimalEncoder, ensure_ascii=False)\n",
        "        fp.close()\n",
        "\n",
        "def load_json(filename):\n",
        "    with open(filename, encoding='utf-8') as fp:\n",
        "        js = json.load(fp)\n",
        "        fp.close()\n",
        "        return js\n",
        "\n",
        "# convert string to json \n",
        "def JsonParse(s):\n",
        "    return json.loads(s, strict=False )\n",
        "\n",
        "# convert dict to string\n",
        "def JsonString(d):\n",
        "    return json.dumps(d, cls=DecimalEncoder, ensure_ascii=False)\n",
        "\n",
        "\n",
        "dic_text = {}\n",
        "\n",
        "datas = []\n",
        "\n",
        "with open('./SPACES/datasets/valid.json', 'r', encoding='utf-8') as fp:\n",
        "  text = fp.read()\n",
        "  text = text.strip()\n",
        "  textss = text.split('\\n')\n",
        "\n",
        "  n = 0\n",
        "  for s in textss:\n",
        "    data = json.loads(s, strict=False )\n",
        "    texts = data['text']\n",
        "\n",
        "    tmp = []\n",
        "    for d in texts:\n",
        "      tmp.append( d['sentence'] )\n",
        "\n",
        "    tmptext = \"\\n\".join(tmp)\n",
        "\n",
        "    #if text in dic_text:\n",
        "    #  continue\n",
        "    #else:\n",
        "    #  dic_text[text] = True\n",
        "\n",
        "    #print(text)\n",
        "    machine_summary = predict(tmptext, topk=3)\n",
        "    #print(summary)\n",
        "    #print('#############################################\\n\\n\\n\\n\\n')\n",
        "\n",
        "    data['machine_summary'] = machine_summary\n",
        "    data['booktext'] = tmptext\n",
        "\n",
        "    datas.append(data)\n",
        "    # print(text)\n",
        "    \n",
        "    n += 1\n",
        "    \n",
        "    print( f\"{n}/{len(textss)}\" )\n",
        "    \n",
        "    #if n >= 3:\n",
        "    #  break\n",
        "\n",
        "\n",
        "tmp = []\n",
        "for d in datas:\n",
        "  tmp.append( [ d['booktext'], d['summary'], d['machine_summary'] ] )\n",
        "  #tmp.append( [ d['full_name_path'], d['booktext'], d['summary'], d['machine_summary'] ] )\n",
        "\n",
        "#csv = pd.DataFrame(tmp,columns=['目录','原文', '人工摘要', '机器摘要'])\n",
        "csv = pd.DataFrame(tmp,columns=['原文', '人工摘要', '机器摘要'])\n",
        "csv.to_csv('/content/summarys.csv', index=False ,encoding=\"utf-8\")\n",
        "csv.to_csv('/content/gdrive/MyDrive/summarys.csv', index=False ,encoding=\"utf-8\")\n",
        "\n",
        "#print(len(datas))\n",
        "#print(datas[1]['text'])\n",
        "#print(datas[1]['machine_summary'])\n",
        "\n",
        "\n",
        "\n",
        "\n",
        "\n",
        "  # print(json.loads(texts[1], strict=False ))\n"
      ],
      "execution_count": null,
      "outputs": []
    },
    {
      "cell_type": "code",
      "metadata": {
        "id": "CmC2A_KBprBk"
      },
      "source": [
        "intext = \"\"\"\"\"\"\"\n",
        "\n",
        "sssss = predict(intext, topk=3)\n",
        "\n",
        "print(sssss)\n"
      ],
      "execution_count": null,
      "outputs": []
    },
    {
      "cell_type": "markdown",
      "metadata": {
        "id": "hRH65rs2z5IF"
      },
      "source": [
        ""
      ]
    }
  ]
}